{
 "cells": [
  {
   "cell_type": "markdown",
   "id": "a7ea9fee",
   "metadata": {},
   "source": [
    "### Input data\n",
    "\n",
    "Per-lumisection storage of selected monitoring elements in the regular DQMIO files is enabled since the 2023C era of data taking. All information on the per-lumisection DQMIO can be found on this twiki: https://twiki.cern.ch/twiki/bin/viewauth/CMS/PerLsDQMIO.\n",
    "\n",
    "Since the input data are just regular DQMIO files, they can be accessed by anyone via DAS. Focusing for example on the ZeroBias dataset (but others are available just as well), the relavant dataset names are:\n",
    "- `/ZeroBias/Run2023C-PromptReco-v1/DQMIO`\n",
    "- `/ZeroBias/Run2023C-PromptReco-v2/DQMIO`\n",
    "- `/ZeroBias/Run2023C-PromptReco-v3/DQMIO`\n",
    "- `/ZeroBias/Run2023C-PromptReco-v4/DQMIO`\n",
    "- `/ZeroBias/Run2023D-PromptReco-v1/DQMIO`\n",
    "- `/ZeroBias/Run2023D-PromptReco-v2/DQMIO`\n",
    "- `/ZeroBias/Run2023E-PromptReco-v1/DQMIO`\n",
    "- `/ZeroBias/Run2023F-PromptReco-v1/DQMIO`\n",
    "\n",
    "If one wants to start from scratch, one can access the data via DAS (either by remote file reading, or by copying files to a local area, or however you would usually access any file via DAS). But here we will make use of the files being already copied to an `\\eos` area in the context of the MLPlayground project. In detail, the files are here: `/eos/project-m/mlplayground/public/DQMIO/nanodqmio_from_das/`"
   ]
  },
  {
   "cell_type": "markdown",
   "id": "3538106f",
   "metadata": {},
   "source": [
    "### Reading per-lumisection DQMIO\n",
    "\n",
    "Some dedicated piece of code is needed to read these files and extract the per-lumisection monitoring elements, copied here to the `DQMIOReader.py` file. Probably the easiest workflow for more extensive studies would be to call this ad-hoc code only once, store the extracted MEs in an easier format (e.g. as numpy arrays in parquet files), and work with central python packages for reading and processing from there on. But for the small examples here we will skip this step and work with the `DQMIOReader` directly."
   ]
  },
  {
   "cell_type": "code",
   "execution_count": null,
   "id": "df42de73",
   "metadata": {},
   "outputs": [],
   "source": [
    "# import the DQMIOReader class\n",
    "import os\n",
    "from DQMIOReader import DQMIOReader\n",
    "\n",
    "# define input file\n",
    "inputdir = '/eos/project-m/mlplayground/public/DQMIO/nanodqmio_from_das/'\n",
    "inputfile = 'store_data_Run2023C_ZeroBias_DQMIO_PromptReco-v1_000_367_231_00000_5C5AD0A2-40CB-4364-BAC8-0B168732DF43.root'\n",
    "inputfile = os.path.join(inputdir, inputfile)\n",
    "\n",
    "# make a DQMIOReader and open the file\n",
    "reader = DQMIOReader(*[inputfile])\n",
    "\n",
    "# retrieve available lumisections in the file\n",
    "runsls = sorted(reader.listLumis())\n",
    "print('Available lumisections: ({})'.format(len(runsls)))\n",
    "for runls in runsls: print('  - Run {}, LS {}'.format(runls[0],runls[1]))\n",
    "    \n",
    "# retrieve available monitoring elements in the file\n",
    "menames = sorted(reader.listMEs())\n",
    "print('Available monitoring elements: ({})'.format(len(menames)))\n",
    "# as the number of monitoring elements is quite large, we will print only a subset that is relevant here\n",
    "menames = [mename for mename in menames if mename.startswith('PixelPhase1/Tracks')]\n",
    "print('Selected monitoring elements: ({})'.format(len(menames)))\n",
    "for mename in menames: print('  - {}'.format(mename))"
   ]
  },
  {
   "cell_type": "markdown",
   "id": "0ede176f",
   "metadata": {},
   "source": [
    "Extracting a single monitoring element can be done as follows:"
   ]
  },
  {
   "cell_type": "code",
   "execution_count": null,
   "id": "b701852d",
   "metadata": {},
   "outputs": [],
   "source": [
    "# define name of monitoring element we want to extract\n",
    "mename = 'PixelPhase1/Tracks/PXForward/clusterposition_xy_ontrack_PXDisk_+1'\n",
    "\n",
    "# extract the monitoring element\n",
    "mes = reader.getSingleMEs(mename, callback=None)\n",
    "\n",
    "# the output of getSingleMEs is a list of namedtuples (something like a dictionary)\n",
    "# the actual histogram is stored in the 'data' filed of the namedtuple as a THx object\n",
    "print('Type of mes: {}'.format(type(mes)))\n",
    "print('mes[0]: {}'.format(mes[0]))\n",
    "print('Type of mes[0].data: {}'.format(type(mes[0].data)))"
   ]
  },
  {
   "cell_type": "markdown",
   "id": "0f1508c1",
   "metadata": {},
   "source": [
    "Using the code above, one could extract the monitoring elements as THx objects if that is convenient for your purposes. However, for the plotting examples below, we would like to have them as numpy arrays. This can be achieved through the `getSingleMEsToDataFrame` function. The gist of this function is however simply looping over the list of MEs as extracted above, looping over the bins of each ME, and filling a numpy array with the bin contents. This could potentially be optimized, but it's good enough for now."
   ]
  },
  {
   "cell_type": "code",
   "execution_count": null,
   "id": "493599c0",
   "metadata": {},
   "outputs": [],
   "source": [
    "import numpy as np\n",
    "\n",
    "# extract the monitoring elements as a pandas DataFrame\n",
    "df = reader.getSingleMEsToDataFrame(mename)\n",
    "df.head()\n",
    "\n",
    "# the actual ME data have to be stored as a flattened list in the DataFrame,\n",
    "# so one more extra step is needed to get 2D numpy arrays\n",
    "nhists = len(df)\n",
    "xbins = df['Xbins'][0]\n",
    "ybins = df['Ybins'][0]\n",
    "hists = np.array([np.array(df['histo'][i]).reshape(xbins+2,ybins+2).T for i in range(nhists)])\n",
    "runs = np.array(df['fromrun'])\n",
    "lumis = np.array(df['fromlumi'])\n",
    "entries = np.array(df['entries'])\n",
    "print('Shape of hists array: {}'.format(hists.shape))\n",
    "print('Runs: {}'.format(runs))\n",
    "print('Lumis: {}'.format(lumis))\n",
    "print('Entries: {}'.format(entries))"
   ]
  },
  {
   "cell_type": "markdown",
   "id": "6e98d415",
   "metadata": {},
   "source": [
    "And now for some plotting"
   ]
  },
  {
   "cell_type": "code",
   "execution_count": null,
   "id": "7df4a5ce",
   "metadata": {},
   "outputs": [],
   "source": [
    "import plot_utils as pu\n",
    "\n",
    "indices = np.random.choice(len(lumis), size=3, replace=False)\n",
    "for i in indices:\n",
    "    title = 'Run {}, LS {}'.format(runs[i], lumis[i])\n",
    "    pu.plot_hist_2d(hists[i], title=title, titlesize=15)"
   ]
  },
  {
   "cell_type": "markdown",
   "id": "28b30bd0",
   "metadata": {},
   "source": [
    "The cell below make a GIF image of the consecutive lumisections, so one can more easily see the time evolution."
   ]
  },
  {
   "cell_type": "code",
   "execution_count": null,
   "id": "d35b18b7",
   "metadata": {},
   "outputs": [],
   "source": [
    "titles = ['Run {}, LS {}'.format(runs[i], lumis[i]) for i in range(len(hists))]\n",
    "figname = 'temp_gif.gif' # do not change or display below will not work\n",
    "caxrange = (0.01,60)\n",
    "\n",
    "pu.plot_hists_2d_gif(hists, titles=titles, figname=figname, caxrange=caxrange,\n",
    "                       duration=300, mode='imageio')"
   ]
  },
  {
   "cell_type": "code",
   "execution_count": null,
   "id": "30ce6d78",
   "metadata": {},
   "outputs": [],
   "source": [
    "import IPython\n",
    "from IPython.display import Image\n",
    "Image(filename=figname)"
   ]
  },
  {
   "cell_type": "code",
   "execution_count": null,
   "id": "3cd065c1",
   "metadata": {},
   "outputs": [],
   "source": []
  }
 ],
 "metadata": {
  "@webio": {
   "lastCommId": null,
   "lastKernelId": null
  },
  "kernelspec": {
   "display_name": "Python 3",
   "language": "python",
   "name": "python3"
  },
  "language_info": {
   "codemirror_mode": {
    "name": "ipython",
    "version": 3
   },
   "file_extension": ".py",
   "mimetype": "text/x-python",
   "name": "python",
   "nbconvert_exporter": "python",
   "pygments_lexer": "ipython3",
   "version": "3.9.12"
  }
 },
 "nbformat": 4,
 "nbformat_minor": 5
}
