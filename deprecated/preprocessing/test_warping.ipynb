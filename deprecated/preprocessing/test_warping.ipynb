{
 "cells": [
  {
   "cell_type": "code",
   "execution_count": null,
   "id": "f65df016",
   "metadata": {},
   "outputs": [],
   "source": [
    "# imports\n",
    "\n",
    "import sys\n",
    "import os\n",
    "import numpy as np\n",
    "import pandas as pd\n",
    "from skimage.transform import warp_polar\n",
    "import matplotlib.pyplot as plt\n",
    "import importlib\n",
    "\n",
    "sys.path.append('../')\n",
    "import plotting.plottools\n",
    "importlib.reload(plotting.plottools)\n",
    "from plotting.plottools import plot_histogram\n",
    "import rebinning\n",
    "importlib.reload(rebinning)\n",
    "from rebinning import rebin_keep_zero\n",
    "import averaging\n",
    "importlib.reload(averaging)\n",
    "from averaging import average_outer_ring\n",
    "from averaging import average_rings"
   ]
  },
  {
   "cell_type": "code",
   "execution_count": null,
   "id": "4f88acfe",
   "metadata": {},
   "outputs": [],
   "source": [
    "# get some example histograms\n",
    "\n",
    "fname = '../data/examples/ZeroBias-Run2023C-PromptReco-v1-DQMIO-PixelPhase1-Tracks-PXForward-clusterposition_xy_ontrack_PXDisk_+1.parquet'\n",
    "df = pd.read_parquet(fname)\n",
    "xbins = df['Xbins'][0]\n",
    "ybins = df['Ybins'][0]\n",
    "nhists = 5\n",
    "hists = np.array([df['histo'][i].reshape(xbins,ybins) for i in range(nhists)])\n",
    "runs = np.array(df['fromrun'])\n",
    "lumis = np.array(df['fromlumi'])\n",
    "entries = np.array(df['entries'])\n",
    "print('Shape of hists array: {}'.format(hists.shape))\n",
    "print('Runs: {}'.format(runs))\n",
    "print('Lumis: {}'.format(lumis))\n",
    "print('Entries: {}'.format(entries))"
   ]
  },
  {
   "cell_type": "code",
   "execution_count": null,
   "id": "b81836ef",
   "metadata": {},
   "outputs": [],
   "source": [
    "# plot raw data\n",
    "\n",
    "for i, hist in enumerate(hists): \n",
    "    fig, ax = plot_histogram(hist)\n",
    "    ax.text(0.02, 1.02, 'Run: {}, lumi: {}'.format(runs[i], lumis[i]), transform=ax.transAxes, fontsize=12)"
   ]
  },
  {
   "cell_type": "code",
   "execution_count": null,
   "id": "ae0c9cba",
   "metadata": {},
   "outputs": [],
   "source": [
    "# make average of outer rings and plot\n",
    "\n",
    "hists = average_rings(hists, radii={0:2, 50:5})\n",
    "for i, hist in enumerate(hists):\n",
    "    fig, ax = plot_histogram(hist)\n",
    "    ax.text(0.02, 1.02, 'Run: {}, lumi: {}, averaged'.format(runs[i], lumis[i]), transform=ax.transAxes, fontsize=12)"
   ]
  },
  {
   "cell_type": "code",
   "execution_count": null,
   "id": "08a297bc",
   "metadata": {},
   "outputs": [],
   "source": [
    "# do warping and plot\n",
    "\n",
    "warped_hists = []\n",
    "for i in range(len(hists)):\n",
    "    warped_hists.append(warp_polar(hists[i], center=(99,99), order=0))\n",
    "warped_hists = np.array(warped_hists)\n",
    "warped_hists = warped_hists[:,:,22:82]\n",
    "print(hists.shape)\n",
    "print(warped_hists.shape)\n",
    "\n",
    "for i, hist in enumerate(warped_hists):\n",
    "    fig, axs = plt.subplots(ncols=2, width_ratios=[1,3], figsize=(18,6))\n",
    "    plot_histogram(hists[0], fig=fig, ax=axs[0])\n",
    "    plot_histogram(hist, fig=fig, ax=axs[1], docolorbar=False)\n",
    "    axs[0].text(0.02, 1.02, 'Run: {}, lumi: {}'.format(runs[i], lumis[i]), transform=axs[0].transAxes, fontsize=12)"
   ]
  },
  {
   "cell_type": "code",
   "execution_count": null,
   "id": "3dc01ac4",
   "metadata": {},
   "outputs": [],
   "source": [
    "# do rebinning on one example histogram\n",
    "\n",
    "hist = warped_hists[1]\n",
    "rebinned_hist = rebin_keep_zero(hist, (40,30))\n",
    "plot_histogram(rebinned_hist)"
   ]
  },
  {
   "cell_type": "code",
   "execution_count": null,
   "id": "71716b13",
   "metadata": {},
   "outputs": [],
   "source": [
    "# do rebinning for all histograms at once\n",
    "\n",
    "rebinned_hists = rebin_keep_zero(warped_hists, (40, 30))\n",
    "for i, hist in enumerate(rebinned_hists):\n",
    "    fig, ax = plot_histogram(hist)\n",
    "    ax.text(0.02, 1.02, 'Run: {}, lumi: {}, rebinned'.format(runs[i], lumis[i]), transform=ax.transAxes, fontsize=12)"
   ]
  },
  {
   "cell_type": "code",
   "execution_count": null,
   "id": "3ad08c93",
   "metadata": {},
   "outputs": [],
   "source": []
  }
 ],
 "metadata": {
  "@webio": {
   "lastCommId": null,
   "lastKernelId": null
  },
  "kernelspec": {
   "display_name": "Python 3",
   "language": "python",
   "name": "python3"
  },
  "language_info": {
   "codemirror_mode": {
    "name": "ipython",
    "version": 3
   },
   "file_extension": ".py",
   "mimetype": "text/x-python",
   "name": "python",
   "nbconvert_exporter": "python",
   "pygments_lexer": "ipython3",
   "version": "3.9.12"
  }
 },
 "nbformat": 4,
 "nbformat_minor": 5
}
