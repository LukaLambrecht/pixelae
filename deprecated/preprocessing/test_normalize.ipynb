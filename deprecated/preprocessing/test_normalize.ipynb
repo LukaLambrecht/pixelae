{
 "cells": [
  {
   "cell_type": "code",
   "execution_count": null,
   "id": "c5e7dead",
   "metadata": {},
   "outputs": [],
   "source": [
    "# imports\n",
    "\n",
    "import sys\n",
    "import os\n",
    "import json\n",
    "import numpy as np\n",
    "import pandas as pd\n",
    "import matplotlib.pyplot as plt\n",
    "import importlib\n",
    "sys.path.append('../')\n",
    "import plotting.plottools\n",
    "importlib.reload(plotting.plottools)\n",
    "from plotting.plottools import plot_histogram\n",
    "import normalizing\n",
    "importlib.reload(normalizing)\n",
    "from normalizing import normalize_by_omsjson"
   ]
  },
  {
   "cell_type": "code",
   "execution_count": null,
   "id": "0dad7b0a",
   "metadata": {},
   "outputs": [],
   "source": [
    "# get some example histograms\n",
    "\n",
    "#fname = '../data/examples/ZeroBias-Run2023C-PromptReco-v1-DQMIO-PixelPhase1-Tracks-PXForward-clusterposition_xy_ontrack_PXDisk_+1.parquet'\n",
    "#fname = '../data/data/ZeroBias-Run2024B-PromptReco-v1-DQMIO-PixelPhase1-Phase1_MechanicalView-PXBarrel-clusters_per_SignedModuleCoord_per_SignedLadderCoord_PXLayer_1.parquet'\n",
    "fname = '../data/data/ZeroBias-Run2024B-PromptReco-v1-DQMIO-PixelPhase1-Phase1_MechanicalView-PXForward-clusters_per_SignedDiskCoord_per_SignedBladePanelCoord_PXRing_1.parquet'\n",
    "df = pd.read_parquet(fname)\n",
    "xbins = df['Xbins'][0]\n",
    "ybins = df['Ybins'][0]\n",
    "df = df[ (df['fromrun']==379008) & (df['fromlumi']<10) ]\n",
    "df.reset_index(inplace=True)\n",
    "nhists = len(df)\n",
    "hists = np.array([df['histo'][i].reshape(xbins,ybins) for i in range(nhists)])\n",
    "runs = np.array([df['fromrun'][i] for i in range(nhists)])\n",
    "lumis = np.array([df['fromlumi'][i] for i in range(nhists)])\n",
    "print('Shape of hists array: {}'.format(hists.shape))\n",
    "print('Runs: {}'.format(runs))\n",
    "print('Lumis: {}'.format(lumis))"
   ]
  },
  {
   "cell_type": "code",
   "execution_count": null,
   "id": "9fa15b97",
   "metadata": {},
   "outputs": [],
   "source": [
    "# define and load a json file with OMS data\n",
    "\n",
    "omsfile = 'omsdata/omsdata_Run2024B-v1.json'\n",
    "with open(omsfile, 'r') as f:\n",
    "    omsjson = json.load(f)\n",
    "print(list(omsjson.keys()))"
   ]
  },
  {
   "cell_type": "code",
   "execution_count": null,
   "id": "1be109e3",
   "metadata": {},
   "outputs": [],
   "source": [
    "# get OMS data for relevant lumisections\n",
    "\n",
    "runmask = np.isin(omsjson['run_number'], runs)\n",
    "lumimask = np.isin(omsjson['lumisection_number'], lumis)\n",
    "mask = (runmask & lumimask)\n",
    "print('Indices: {}'.format(mask.nonzero()[0]))\n",
    "for key in omsjson.keys():\n",
    "    values = np.array(omsjson[key])[mask]\n",
    "    print('{}: {}'.format(key, values))"
   ]
  },
  {
   "cell_type": "code",
   "execution_count": null,
   "id": "42de44fb",
   "metadata": {},
   "outputs": [],
   "source": [
    "# plot raw data\n",
    "\n",
    "for i, hist in enumerate(hists):\n",
    "    fig, ax = plot_histogram(hist, figsize=(8,8))\n",
    "    ax.text(0.02, 1.02, 'Run: {}, lumi: {}'.format(runs[i], lumis[i]), transform=ax.transAxes, fontsize=12)"
   ]
  },
  {
   "cell_type": "code",
   "execution_count": null,
   "id": "84616fa5",
   "metadata": {},
   "outputs": [],
   "source": [
    "# normalize by attribute\n",
    "\n",
    "normalized_hists = normalize_by_omsjson(hists, runs, lumis, omsjson, 'pileup')"
   ]
  },
  {
   "cell_type": "code",
   "execution_count": null,
   "id": "a5fbbc93",
   "metadata": {},
   "outputs": [],
   "source": [
    "# plot normalized histograms\n",
    "\n",
    "for i, hist in enumerate(normalized_hists):\n",
    "    fig, ax = plot_histogram(hist, figsize=(8,8))\n",
    "    ax.text(0.02, 1.02, 'Run: {}, lumi: {}, normalized by pileup'.format(runs[i], lumis[i]), transform=ax.transAxes, fontsize=12)"
   ]
  },
  {
   "cell_type": "code",
   "execution_count": null,
   "id": "5932c6b6",
   "metadata": {},
   "outputs": [],
   "source": []
  }
 ],
 "metadata": {
  "@webio": {
   "lastCommId": null,
   "lastKernelId": null
  },
  "kernelspec": {
   "display_name": "Python 3",
   "language": "python",
   "name": "python3"
  },
  "language_info": {
   "codemirror_mode": {
    "name": "ipython",
    "version": 3
   },
   "file_extension": ".py",
   "mimetype": "text/x-python",
   "name": "python",
   "nbconvert_exporter": "python",
   "pygments_lexer": "ipython3",
   "version": "3.9.12"
  }
 },
 "nbformat": 4,
 "nbformat_minor": 5
}
