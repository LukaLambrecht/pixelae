{
 "cells": [
  {
   "cell_type": "code",
   "execution_count": null,
   "id": "f65df016",
   "metadata": {},
   "outputs": [],
   "source": [
    "# imports\n",
    "\n",
    "import sys\n",
    "import os\n",
    "import json\n",
    "import numpy as np\n",
    "import pandas as pd\n",
    "import importlib\n",
    "sys.path.append('../')\n",
    "import plotting.plottools\n",
    "importlib.reload(plotting.plottools)\n",
    "from plotting.plottools import plot_histogram\n",
    "import normalizing\n",
    "importlib.reload(normalizing)\n",
    "from normalizing import normalize_by_omsjson\n",
    "import rebinning\n",
    "importlib.reload(rebinning)\n",
    "from rebinning import rebin_keep_zero\n",
    "import averaging\n",
    "importlib.reload(averaging)\n",
    "from averaging import average_outer_ring\n",
    "from averaging import average_rings"
   ]
  },
  {
   "cell_type": "code",
   "execution_count": null,
   "id": "4f88acfe",
   "metadata": {},
   "outputs": [],
   "source": [
    "# get some example histograms\n",
    "\n",
    "fname = '../data/examples/ZeroBias-Run2023C-PromptReco-v1-DQMIO-PixelPhase1-Tracks-PXForward-clusterposition_xy_ontrack_PXDisk_+1.parquet'\n",
    "df = pd.read_parquet(fname)\n",
    "xbins = df['Xbins'][0]\n",
    "ybins = df['Ybins'][0]\n",
    "nhists = 5\n",
    "hists = np.array([df['histo'][i].reshape(xbins,ybins) for i in range(nhists)])\n",
    "runs = np.array(df['fromrun'])\n",
    "lumis = np.array(df['fromlumi'])\n",
    "entries = np.array(df['entries'])\n",
    "print('Shape of hists array: {}'.format(hists.shape))\n",
    "print('Runs: {}'.format(runs))\n",
    "print('Lumis: {}'.format(lumis))\n",
    "print('Entries: {}'.format(entries))"
   ]
  },
  {
   "cell_type": "code",
   "execution_count": null,
   "id": "b81836ef",
   "metadata": {},
   "outputs": [],
   "source": [
    "# plot raw data\n",
    "\n",
    "for i, hist in enumerate(hists): \n",
    "    fig, ax = plot_histogram(hist, figsize=(5,5), xaxtitle='x (bin number)', xaxtitlesize=12, yaxtitle='y (bin number)', yaxtitlesize=12, caxtitle='Occupancy', caxtitlesize=15, caxtitleoffset=20)\n",
    "    ax.text(0.02, 1.02, 'Run: {}, lumi: {}'.format(runs[i], lumis[i]), transform=ax.transAxes, fontsize=12)\n",
    "    fig.tight_layout()\n",
    "    #fig.savefig('raw_{}.png'.format(i), dpi=300)"
   ]
  },
  {
   "cell_type": "code",
   "execution_count": null,
   "id": "b05528a8",
   "metadata": {},
   "outputs": [],
   "source": [
    "# normalize by pileup and plot\n",
    "\n",
    "omsfile = 'omsdata/omsdata_Run2023C-v1.json'\n",
    "with open(omsfile, 'r') as f:\n",
    "    omsjson = json.load(f)\n",
    "print(list(omsjson.keys()))\n",
    "\n",
    "runmask = np.isin(omsjson['run_number'], runs)\n",
    "lumimask = np.isin(omsjson['lumisection_number'], lumis)\n",
    "mask = (runmask & lumimask)\n",
    "print('Indices: {}'.format(mask.nonzero()[0]))\n",
    "for key in omsjson.keys():\n",
    "    values = np.array(omsjson[key])[mask]\n",
    "    print('{}: {}'.format(key, values))\n",
    "    \n",
    "hists = normalize_by_omsjson(hists, runs, lumis, omsjson, 'pileup')\n",
    "\n",
    "for i, hist in enumerate(hists):\n",
    "    fig, ax = plot_histogram(hist, figsize=(5,5), xaxtitle='x (bin number)', xaxtitlesize=12, yaxtitle='y (bin number)', yaxtitlesize=12, caxtitle='Occupancy', caxtitlesize=15, caxtitleoffset=20)\n",
    "    ax.text(0.02, 1.02, 'Run: {}, lumi: {}, normalized by pileup'.format(runs[i], lumis[i]), transform=ax.transAxes, fontsize=12)\n",
    "    fig.tight_layout()\n",
    "    #fig.savefig('normalized_{}.png'.format(i), dpi=300)"
   ]
  },
  {
   "cell_type": "code",
   "execution_count": null,
   "id": "ae0c9cba",
   "metadata": {},
   "outputs": [],
   "source": [
    "# make average of outer rings and plot\n",
    "\n",
    "hists = average_rings(hists, radii={0:2, 50:5})\n",
    "for i, hist in enumerate(hists):\n",
    "    fig, ax = plot_histogram(hist, figsize=(5,5), xaxtitle='x (bin number)', xaxtitlesize=12, yaxtitle='y (bin number)', yaxtitlesize=12, caxtitle='Occupancy', caxtitlesize=15, caxtitleoffset=20)\n",
    "    ax.text(0.02, 1.02, 'Run: {}, lumi: {}, averaged'.format(runs[i], lumis[i]), transform=ax.transAxes, fontsize=12)\n",
    "    fig.tight_layout()\n",
    "    #fig.savefig('averaged_{}.png'.format(i), dpi=300)"
   ]
  },
  {
   "cell_type": "code",
   "execution_count": null,
   "id": "3dc01ac4",
   "metadata": {},
   "outputs": [],
   "source": [
    "# do rebinning on one example histogram\n",
    "\n",
    "hist = hists[1]\n",
    "rebinned_hist = rebin_keep_zero(hist, (40,40))\n",
    "plot_histogram(rebinned_hist, figsize=(5,5), xaxtitle='x (bin number)', xaxtitlesize=12, yaxtitle='y (bin number)', yaxtitlesize=12, caxtitle='Occupancy', caxtitlesize=15, caxtitleoffset=20)"
   ]
  },
  {
   "cell_type": "code",
   "execution_count": null,
   "id": "71716b13",
   "metadata": {},
   "outputs": [],
   "source": [
    "# do rebinning for all histograms at once\n",
    "\n",
    "rebinned_hists = rebin_keep_zero(hists, (40, 40))\n",
    "for i, hist in enumerate(rebinned_hists):\n",
    "    fig, ax = plot_histogram(hist, figsize=(5,5), xaxtitle='x (bin number)', xaxtitlesize=12, yaxtitle='y (bin number)', yaxtitlesize=12, caxtitle='Occupancy', caxtitlesize=15, caxtitleoffset=20)\n",
    "    ax.text(0.02, 1.02, 'Run: {}, lumi: {}, rebinned'.format(runs[i], lumis[i]), transform=ax.transAxes, fontsize=12)\n",
    "    fig.tight_layout()\n",
    "    #fig.savefig('rebinned_{}.png'.format(i), dpi=300)"
   ]
  },
  {
   "cell_type": "code",
   "execution_count": null,
   "id": "3ad08c93",
   "metadata": {},
   "outputs": [],
   "source": []
  }
 ],
 "metadata": {
  "@webio": {
   "lastCommId": null,
   "lastKernelId": null
  },
  "kernelspec": {
   "display_name": "Python 3",
   "language": "python",
   "name": "python3"
  },
  "language_info": {
   "codemirror_mode": {
    "name": "ipython",
    "version": 3
   },
   "file_extension": ".py",
   "mimetype": "text/x-python",
   "name": "python",
   "nbconvert_exporter": "python",
   "pygments_lexer": "ipython3",
   "version": "3.9.12"
  }
 },
 "nbformat": 4,
 "nbformat_minor": 5
}
