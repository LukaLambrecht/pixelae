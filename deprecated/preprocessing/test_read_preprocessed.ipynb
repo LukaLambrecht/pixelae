{
 "cells": [
  {
   "cell_type": "code",
   "execution_count": null,
   "id": "91b79c36",
   "metadata": {},
   "outputs": [],
   "source": [
    "# imports\n",
    "\n",
    "# external modules\n",
    "import sys\n",
    "import os\n",
    "import json\n",
    "import numpy as np\n",
    "import pandas as pd\n",
    "import matplotlib.pyplot as plt\n",
    "import importlib\n",
    "\n",
    "# framework modules\n",
    "sys.path.append('../')\n",
    "import plotting.plottools\n",
    "importlib.reload(plotting.plottools)\n",
    "from plotting.plottools import plot_histogram\n",
    "\n",
    "# local modules\n",
    "import omstools\n",
    "importlib.reload(omstools)"
   ]
  },
  {
   "cell_type": "code",
   "execution_count": null,
   "id": "4ed9064b",
   "metadata": {},
   "outputs": [],
   "source": [
    "# define file\n",
    "\n",
    "# cluster position in xy coordinates\n",
    "#fname = '../data/data/ZeroBias-Run2023C-PromptReco-v1-DQMIO-PixelPhase1-Tracks-PXForward-clusterposition_xy_ontrack_PXDisk_+1_preprocessed.parquet'\n",
    "\n",
    "# cluster occupancy\n",
    "#fname = '../data/data/ZeroBias-Run2024B-PromptReco-v1-DQMIO-PixelPhase1-Phase1_MechanicalView-PXBarrel-clusters_per_SignedModuleCoord_per_SignedLadderCoord_PXLayer_1_preprocessed.parquet'\n",
    "#fname = '../data/data/ZeroBias-Run2024B-PromptReco-v1-DQMIO-PixelPhase1-Phase1_MechanicalView-PXBarrel-clusters_per_SignedModuleCoord_per_SignedLadderCoord_PXLayer_2_preprocessed.parquet'\n",
    "#fname = '../data/data/ZeroBias-Run2024B-PromptReco-v1-DQMIO-PixelPhase1-Phase1_MechanicalView-PXBarrel-clusters_per_SignedModuleCoord_per_SignedLadderCoord_PXLayer_3_preprocessed.parquet'\n",
    "#fname = '../data/data/ZeroBias-Run2024B-PromptReco-v1-DQMIO-PixelPhase1-Phase1_MechanicalView-PXBarrel-clusters_per_SignedModuleCoord_per_SignedLadderCoord_PXLayer_4_preprocessed.parquet'\n",
    "#fname = '../data/data/ZeroBias-Run2024B-PromptReco-v1-DQMIO-PixelPhase1-Phase1_MechanicalView-PXForward-clusters_per_SignedDiskCoord_per_SignedBladePanelCoord_PXRing_1_preprocessed.parquet'\n",
    "#fname = '../data/data/ZeroBias-Run2024B-PromptReco-v1-DQMIO-PixelPhase1-Phase1_MechanicalView-PXForward-clusters_per_SignedDiskCoord_per_SignedBladePanelCoord_PXRing_2_preprocessed.parquet'\n",
    "\n",
    "# digi occupancy\n",
    "#fname = '../data/data/ZeroBias-Run2024B-PromptReco-v1-DQMIO-PixelPhase1-Phase1_MechanicalView-PXBarrel-digi_occupancy_per_SignedModuleCoord_per_SignedLadderCoord_PXLayer_1_preprocessed.parquet'\n",
    "fname = '../data/data/ZeroBias-Run2024B-PromptReco-v1-DQMIO-PixelPhase1-Phase1_MechanicalView-PXBarrel-digi_occupancy_per_SignedModuleCoord_per_SignedLadderCoord_PXLayer_2_preprocessed.parquet'"
   ]
  },
  {
   "cell_type": "code",
   "execution_count": null,
   "id": "b61fc0f5",
   "metadata": {},
   "outputs": [],
   "source": [
    "df = pd.read_parquet(fname)\n",
    "nhists = len(df)\n",
    "xbins = df['Xbins'][0]\n",
    "ybins = df['Ybins'][0]\n",
    "hists = np.array([df['histo'][i].reshape(xbins,ybins) for i in range(nhists)])\n",
    "runs = np.array(df['fromrun'])\n",
    "lumis = np.array(df['fromlumi'])\n",
    "entries = np.array(df['entries'])\n",
    "print('Shape of hists array: {}'.format(hists.shape))\n",
    "print('Runs: {}'.format(runs))\n",
    "print('Lumis: {}'.format(lumis))\n",
    "print('Entries: {}'.format(entries))"
   ]
  },
  {
   "cell_type": "code",
   "execution_count": null,
   "id": "b481996b",
   "metadata": {},
   "outputs": [],
   "source": [
    "# plot preprocessed histograms\n",
    "\n",
    "nplots = 5\n",
    "plotids = np.random.choice(nhists, size=nplots)\n",
    "\n",
    "for i in plotids:\n",
    "    fig, ax = plot_histogram(hists[i])\n",
    "    ax.text(0.02, 1.02, 'Run: {}, lumi: {}'.format(runs[i], lumis[i]), transform=ax.transAxes, fontsize=12)"
   ]
  },
  {
   "cell_type": "code",
   "execution_count": null,
   "id": "0339f514",
   "metadata": {},
   "outputs": [],
   "source": [
    "# check if normalization is flat with respect to pileup\n",
    "\n",
    "omsfile = 'omsdata/omsdata_Run2024B-v1.json'\n",
    "with open(omsfile, 'r') as f:\n",
    "    omsjson = json.load(f)\n",
    "    \n",
    "pileup = omstools.find_oms_attr_for_lumisections(runs, lumis, omsjson, 'pileup')\n",
    "normalized_entries = np.sum(np.sum(hists, axis=-1), axis=-1)\n",
    "\n",
    "fig,ax = plt.subplots()\n",
    "ax.scatter(pileup, normalized_entries, s=1, alpha=0.25, c='b')\n",
    "ax.set_ylim((0, 5e5))\n",
    "ax.set_xlabel('Pileup', fontsize=15)\n",
    "ax.set_ylabel('Occupancy', fontsize=15)"
   ]
  },
  {
   "cell_type": "code",
   "execution_count": null,
   "id": "3620d7ba",
   "metadata": {},
   "outputs": [],
   "source": []
  }
 ],
 "metadata": {
  "@webio": {
   "lastCommId": null,
   "lastKernelId": null
  },
  "kernelspec": {
   "display_name": "Python 3",
   "language": "python",
   "name": "python3"
  },
  "language_info": {
   "codemirror_mode": {
    "name": "ipython",
    "version": 3
   },
   "file_extension": ".py",
   "mimetype": "text/x-python",
   "name": "python",
   "nbconvert_exporter": "python",
   "pygments_lexer": "ipython3",
   "version": "3.9.12"
  }
 },
 "nbformat": 4,
 "nbformat_minor": 5
}
