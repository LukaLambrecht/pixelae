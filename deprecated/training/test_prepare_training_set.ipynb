{
 "cells": [
  {
   "cell_type": "code",
   "execution_count": null,
   "id": "5003d4eb",
   "metadata": {},
   "outputs": [],
   "source": [
    "# imports\n",
    "\n",
    "import sys\n",
    "import os\n",
    "import numpy as np\n",
    "import pandas as pd\n",
    "import matplotlib.pyplot as plt\n",
    "import importlib\n",
    "sys.path.append('../')\n",
    "import plotting.plottools\n",
    "importlib.reload(plotting.plottools)\n",
    "from plotting.plottools import plot_histogram\n",
    "# local modules\n",
    "import prepare_training_set\n",
    "importlib.reload(prepare_training_set)\n",
    "from prepare_training_set import prepare_training_data_from_files"
   ]
  },
  {
   "cell_type": "code",
   "execution_count": null,
   "id": "7dbc8089",
   "metadata": {},
   "outputs": [],
   "source": [
    "files = ([\n",
    "    '../data/data/ZeroBias-Run2023C-PromptReco-v1-DQMIO-PixelPhase1-Tracks-PXForward-clusterposition_xy_ontrack_PXDisk_+1_preprocessed.parquet',\n",
    "    '../data/data/ZeroBias-Run2023C-PromptReco-v2-DQMIO-PixelPhase1-Tracks-PXForward-clusterposition_xy_ontrack_PXDisk_+1_preprocessed.parquet',\n",
    "    '../data/data/ZeroBias-Run2023C-PromptReco-v3-DQMIO-PixelPhase1-Tracks-PXForward-clusterposition_xy_ontrack_PXDisk_+1_preprocessed.parquet',\n",
    "    '../data/data/ZeroBias-Run2023C-PromptReco-v4-DQMIO-PixelPhase1-Tracks-PXForward-clusterposition_xy_ontrack_PXDisk_+1_preprocessed.parquet',\n",
    "    '../data/data/ZeroBias-Run2023D-PromptReco-v1-DQMIO-PixelPhase1-Tracks-PXForward-clusterposition_xy_ontrack_PXDisk_+1_preprocessed.parquet',\n",
    "    '../data/data/ZeroBias-Run2023D-PromptReco-v2-DQMIO-PixelPhase1-Tracks-PXForward-clusterposition_xy_ontrack_PXDisk_+1_preprocessed.parquet',\n",
    "    #'../data/data/ZeroBias-Run2023E-PromptReco-v1-DQMIO-PixelPhase1-Tracks-PXForward-clusterposition_xy_ontrack_PXDisk_+1_preprocessed.parquet',\n",
    "    # (almost no histograms with sufficient number of entries, seems to be a low pileup/lumi era)\n",
    "    #'../data/data/ZeroBias-Run2023F-PromptReco-v1-DQMIO-PixelPhase1-Tracks-PXForward-clusterposition_xy_ontrack_PXDisk_+1_preprocessed.parquet',\n",
    "    # (almost no histograms with sufficient number of entries, seems to be a low pileup/lumi era)\n",
    "])"
   ]
  },
  {
   "cell_type": "code",
   "execution_count": null,
   "id": "25e2d019",
   "metadata": {},
   "outputs": [],
   "source": [
    "kwargs = ({\n",
    "    'verbose': True,\n",
    "    'entries_threshold': 1000,\n",
    "    'skip_first_lumisections': 5\n",
    "})\n",
    "(training_data, training_runs, training_lumis) = prepare_training_data_from_files(files, **kwargs)"
   ]
  },
  {
   "cell_type": "code",
   "execution_count": null,
   "id": "258219b9",
   "metadata": {},
   "outputs": [],
   "source": [
    "# make plots\n",
    "\n",
    "nplots = 5\n",
    "plotids = np.random.choice(len(training_data), size=nplots)\n",
    "\n",
    "for i in plotids:\n",
    "    fig,ax = plt.subplots()\n",
    "    plot_histogram(training_data[i,:,:,0], fig=fig, ax=ax)\n",
    "    ax.text(0.02, 1.02, 'Run: {}, lumi: {}'.format(training_runs[i], training_lumis[i]), transform=ax.transAxes, fontsize=12)"
   ]
  },
  {
   "cell_type": "code",
   "execution_count": null,
   "id": "96f44401",
   "metadata": {},
   "outputs": [],
   "source": []
  }
 ],
 "metadata": {
  "@webio": {
   "lastCommId": null,
   "lastKernelId": null
  },
  "kernelspec": {
   "display_name": "Python 3",
   "language": "python",
   "name": "python3"
  },
  "language_info": {
   "codemirror_mode": {
    "name": "ipython",
    "version": 3
   },
   "file_extension": ".py",
   "mimetype": "text/x-python",
   "name": "python",
   "nbconvert_exporter": "python",
   "pygments_lexer": "ipython3",
   "version": "3.9.12"
  }
 },
 "nbformat": 4,
 "nbformat_minor": 5
}
