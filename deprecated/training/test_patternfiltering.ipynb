{
 "cells": [
  {
   "cell_type": "code",
   "execution_count": null,
   "id": "644a1cd4",
   "metadata": {},
   "outputs": [],
   "source": [
    "# imports\n",
    "\n",
    "# external modules\n",
    "import sys\n",
    "import os\n",
    "import numpy as np\n",
    "import pandas as pd\n",
    "import matplotlib.pyplot as plt\n",
    "import importlib\n",
    "# framework modules\n",
    "sys.path.append('../')\n",
    "import plotting.plottools\n",
    "importlib.reload(plotting.plottools)\n",
    "from plotting.plottools import plot_histogram\n",
    "# local modules\n",
    "import prepare_training_set\n",
    "importlib.reload(prepare_training_set)\n",
    "from prepare_training_set import prepare_training_data_from_files\n",
    "import patternfiltering\n",
    "importlib.reload(patternfiltering)\n",
    "from patternfiltering import contains_pattern, contains_any_pattern"
   ]
  },
  {
   "cell_type": "code",
   "execution_count": null,
   "id": "b0db7540",
   "metadata": {},
   "outputs": [],
   "source": [
    "# get some example histograms\n",
    "\n",
    "fname = '../data/data/ZeroBias-Run2023C-PromptReco-v1-DQMIO-PixelPhase1-Tracks-PXForward-clusterposition_xy_ontrack_PXDisk_+1_preprocessed.parquet'\n",
    "kwargs = ({\n",
    "    'verbose': True,\n",
    "    'entries_threshold': 10000,\n",
    "    'skip_first_lumisections': 5\n",
    "})\n",
    "(hists, runs, lumis) = prepare_training_data_from_files([fname], **kwargs)\n",
    "hists = hists[:,:,:,0]\n",
    "print(hists.shape)"
   ]
  },
  {
   "cell_type": "code",
   "execution_count": null,
   "id": "4316be07",
   "metadata": {},
   "outputs": [],
   "source": [
    "# make a mask where values are often zero\n",
    "\n",
    "shape_mask = (np.sum(hists==0, axis=0)>len(hists)/2.)\n",
    "\n",
    "fig,ax = plt.subplots()\n",
    "plot_histogram(shape_mask, fig=fig, ax=ax, caxrange=(-0.01,1))\n",
    "ax.text(0.02, 1.02, 'Shape mask', transform=ax.transAxes, fontsize=12)"
   ]
  },
  {
   "cell_type": "code",
   "execution_count": null,
   "id": "8242032f",
   "metadata": {},
   "outputs": [],
   "source": [
    "# find one pattern in one histogram\n",
    "\n",
    "pattern = np.zeros((3,1))\n",
    "hist = hists[1000]\n",
    "contains = contains_pattern(hist, pattern, mask=~shape_mask)\n",
    "print(contains)\n",
    "fig, ax = plot_histogram(hist)"
   ]
  },
  {
   "cell_type": "code",
   "execution_count": null,
   "id": "9af27ba7",
   "metadata": {},
   "outputs": [],
   "source": [
    "# find logical or of multiple patterns in one histogram\n",
    "\n",
    "patterns = [np.zeros((3,3)), np.zeros((3,2))]\n",
    "hist = hists[1000]\n",
    "contains = contains_any_pattern(hist, patterns, mask=~shape_mask)\n",
    "print(contains)\n",
    "fig, ax = plot_histogram(hist)"
   ]
  },
  {
   "cell_type": "code",
   "execution_count": null,
   "id": "b91a8066",
   "metadata": {},
   "outputs": [],
   "source": [
    "# do filtering\n",
    "\n",
    "patterns = [np.zeros((2,2)), np.zeros((3,1)), np.zeros((1,3))]\n",
    "contains = contains_any_pattern(hists, patterns, mask=~shape_mask)\n",
    "print('{} out of {} histograms contain one of these patterns'.format(sum(contains), len(contains)))\n",
    "print('Examples:')\n",
    "\n",
    "nplots = 5\n",
    "plotids = np.random.choice(np.arange(len(hists))[contains], size=nplots)\n",
    "\n",
    "for i in plotids:\n",
    "    fig, ax = plot_histogram(hists[i])\n",
    "    ax.text(0.02, 1.02, 'Run: {}, lumi: {}'.format(runs[i], lumis[i]), transform=ax.transAxes, fontsize=12)"
   ]
  },
  {
   "cell_type": "code",
   "execution_count": null,
   "id": "b91aad82",
   "metadata": {},
   "outputs": [],
   "source": [
    "# reload the data with filtering\n",
    "\n",
    "fname = '../data/data/ZeroBias-Run2023C-PromptReco-v1-DQMIO-PixelPhase1-Tracks-PXForward-clusterposition_xy_ontrack_PXDisk_+1_preprocessed.parquet'\n",
    "kwargs = ({\n",
    "    'verbose': True,\n",
    "    'entries_threshold': 10000,\n",
    "    'skip_first_lumisections': 5,\n",
    "    'veto_patterns': [np.zeros((2,2)), np.zeros((3,1)), np.zeros((1,3))]\n",
    "})\n",
    "(hists, runs, lumis) = prepare_training_data_from_files([fname], **kwargs)\n",
    "hists = hists[:,:,:,0]\n",
    "print(hists.shape)"
   ]
  },
  {
   "cell_type": "code",
   "execution_count": null,
   "id": "b320de0b",
   "metadata": {},
   "outputs": [],
   "source": [
    "# plot examples of histograms that make it in the training set\n",
    "\n",
    "nplots = 5\n",
    "plotids = np.random.choice(np.arange(len(hists)), size=nplots)\n",
    "\n",
    "for i in plotids:\n",
    "    fig, ax = plot_histogram(hists[i])\n",
    "    ax.text(0.02, 1.02, 'Run: {}, lumi: {}'.format(runs[i], lumis[i]), transform=ax.transAxes, fontsize=12)"
   ]
  },
  {
   "cell_type": "code",
   "execution_count": null,
   "id": "3da8c25d",
   "metadata": {},
   "outputs": [],
   "source": []
  }
 ],
 "metadata": {
  "@webio": {
   "lastCommId": null,
   "lastKernelId": null
  },
  "kernelspec": {
   "display_name": "Python 3",
   "language": "python",
   "name": "python3"
  },
  "language_info": {
   "codemirror_mode": {
    "name": "ipython",
    "version": 3
   },
   "file_extension": ".py",
   "mimetype": "text/x-python",
   "name": "python",
   "nbconvert_exporter": "python",
   "pygments_lexer": "ipython3",
   "version": "3.9.12"
  }
 },
 "nbformat": 4,
 "nbformat_minor": 5
}
