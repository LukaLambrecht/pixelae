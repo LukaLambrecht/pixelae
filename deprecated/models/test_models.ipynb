{
 "cells": [
  {
   "cell_type": "code",
   "execution_count": null,
   "id": "0548737a",
   "metadata": {},
   "outputs": [],
   "source": [
    "# imports\n",
    "\n",
    "# external modules\n",
    "import sys\n",
    "import os\n",
    "import time\n",
    "import numpy as np\n",
    "import keras\n",
    "import importlib"
   ]
  },
  {
   "cell_type": "code",
   "execution_count": null,
   "id": "6f2b588e",
   "metadata": {},
   "outputs": [],
   "source": [
    "# import model\n",
    "\n",
    "modelfile = 'models/model_clusters_pxlayers_test.keras'\n",
    "model = keras.models.load_model(modelfile)"
   ]
  },
  {
   "cell_type": "code",
   "execution_count": null,
   "id": "7d9f9274",
   "metadata": {},
   "outputs": [],
   "source": [
    "# syntax test\n",
    "\n",
    "#input_shape = (32, 32, 1) # for (preprocessed) cluster position in xy coordinates in pixel disks\n",
    "input_shape = (64, 24, 1) # for (preprocessed) clusters per channel in pixel layers\n",
    "#input_shape = (48, 88, 1) # for (preprocessed) clusters per channel in pixel rings\n",
    "data = np.random.rand(1, input_shape[0], input_shape[1])\n",
    "\n",
    "pred = model.predict(data)\n",
    "print(data.shape)\n",
    "print(pred.shape)\n",
    "print(model.summary())"
   ]
  },
  {
   "cell_type": "code",
   "execution_count": null,
   "id": "5db86fe4",
   "metadata": {},
   "outputs": [],
   "source": [
    "# timing test\n",
    "\n",
    "# make dummy data\n",
    "input_shape = (64, 24, 1)\n",
    "ndata = 1000\n",
    "data = np.random.rand(ndata, input_shape[0], input_shape[1])\n",
    "\n",
    "# set training parameters\n",
    "loss = 'mse'\n",
    "optimizer = 'adam'\n",
    "batch_size = 32\n",
    "epochs = 20\n",
    "\n",
    "# compile model\n",
    "model.compile(\n",
    "  loss=loss,\n",
    "  optimizer=optimizer\n",
    ")\n",
    "\n",
    "# do training\n",
    "starttime = time.time()\n",
    "history = model.fit(\n",
    "    data, data,\n",
    "    batch_size=batch_size,\n",
    "    epochs=epochs,\n",
    "    verbose=True,\n",
    "    shuffle=True\n",
    ")\n",
    "stoptime = time.time()\n",
    "\n",
    "# write report\n",
    "print('Training time for {} instances and {} epochs:'.format(ndata, epochs))\n",
    "print('{:.1f} s'.format(stoptime - starttime))"
   ]
  },
  {
   "cell_type": "code",
   "execution_count": null,
   "id": "c1be3b6e",
   "metadata": {},
   "outputs": [],
   "source": []
  }
 ],
 "metadata": {
  "@webio": {
   "lastCommId": null,
   "lastKernelId": null
  },
  "kernelspec": {
   "display_name": "Python 3",
   "language": "python",
   "name": "python3"
  },
  "language_info": {
   "codemirror_mode": {
    "name": "ipython",
    "version": 3
   },
   "file_extension": ".py",
   "mimetype": "text/x-python",
   "name": "python",
   "nbconvert_exporter": "python",
   "pygments_lexer": "ipython3",
   "version": "3.9.12"
  }
 },
 "nbformat": 4,
 "nbformat_minor": 5
}
