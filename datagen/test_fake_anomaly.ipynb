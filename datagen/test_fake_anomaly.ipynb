{
 "cells": [
  {
   "cell_type": "code",
   "execution_count": null,
   "id": "4771fb14",
   "metadata": {},
   "outputs": [],
   "source": [
    "# imports\n",
    "\n",
    "# external modules\n",
    "import sys\n",
    "import os\n",
    "import numpy as np\n",
    "import pandas as pd\n",
    "import matplotlib.pyplot as plt\n",
    "import importlib\n",
    "# framework modules\n",
    "sys.path.append('../')\n",
    "import plotting.plottools\n",
    "importlib.reload(plotting.plottools)\n",
    "from plotting.plottools import plot_histogram\n",
    "# local modules\n",
    "import fake_anomaly\n",
    "importlib.reload(fake_anomaly)"
   ]
  },
  {
   "cell_type": "code",
   "execution_count": null,
   "id": "fd5a055b",
   "metadata": {},
   "outputs": [],
   "source": [
    "# get some example histograms\n",
    "\n",
    "fname = '../data/data/ZeroBias-Run2023C-PromptReco-v1-DQMIO-PixelPhase1-Tracks-PXForward-clusterposition_xy_ontrack_PXDisk_+1_preprocessed.parquet'\n",
    "df = pd.read_parquet(fname)\n",
    "xbins = df['Xbins'][0]\n",
    "ybins = df['Ybins'][0]\n",
    "nhists = len(df)\n",
    "hists = np.array([df['histo'][i].reshape(xbins,ybins) for i in range(nhists)])\n",
    "runs = np.array([df['fromrun'][i] for i in range(nhists)])\n",
    "lumis = np.array([df['fromlumi'][i] for i in range(nhists)])\n",
    "shape_mask = (np.sum(hists, axis=0)==0)\n",
    "print('Shape of hists array: {}'.format(hists.shape))\n",
    "print('Runs: {}'.format(runs))\n",
    "print('Lumis: {}'.format(lumis))"
   ]
  },
  {
   "cell_type": "code",
   "execution_count": null,
   "id": "fddc7455",
   "metadata": {},
   "outputs": [],
   "source": [
    "# select random histograms and add fake anomalies\n",
    "\n",
    "nplots = 10\n",
    "random_indices = np.random.choice(nhists, size=nplots, replace=False)\n",
    "\n",
    "for i in random_indices:\n",
    "    \n",
    "    fig,axs = plt.subplots(figsize=(12,6), ncols=2)\n",
    "    hist = hists[i]\n",
    "    #(anomalous_hist, paramdict) = fake_anomaly.dead_rectangle(hist, shape_mask=~shape_mask)\n",
    "    (anomalous_hist, paramdict) = fake_anomaly.dead_sector(hist)\n",
    "    #(anomalous_hist, paramdict) = fake_anomaly.hot_rectangle(hist, shape_mask=~shape_mask)\n",
    "    #(anomalous_hist, paramdict) = fake_anomaly.hot_sector(hist)\n",
    "    print(paramdict)\n",
    "    plot_histogram(hist, fig=fig, ax=axs[0])\n",
    "    axs[0].text(0.05, 1.02, 'Original histogram', transform=axs[0].transAxes, fontsize=15)\n",
    "    plot_histogram(anomalous_hist, fig=fig, ax=axs[1])\n",
    "    axs[1].text(0.05, 1.02, 'With fake anomaly', transform=axs[1].transAxes, fontsize=15)\n",
    "    plt.show()"
   ]
  },
  {
   "cell_type": "code",
   "execution_count": null,
   "id": "0bdafd10",
   "metadata": {},
   "outputs": [],
   "source": []
  }
 ],
 "metadata": {
  "@webio": {
   "lastCommId": null,
   "lastKernelId": null
  },
  "kernelspec": {
   "display_name": "Python 3",
   "language": "python",
   "name": "python3"
  },
  "language_info": {
   "codemirror_mode": {
    "name": "ipython",
    "version": 3
   },
   "file_extension": ".py",
   "mimetype": "text/x-python",
   "name": "python",
   "nbconvert_exporter": "python",
   "pygments_lexer": "ipython3",
   "version": "3.9.12"
  }
 },
 "nbformat": 4,
 "nbformat_minor": 5
}
