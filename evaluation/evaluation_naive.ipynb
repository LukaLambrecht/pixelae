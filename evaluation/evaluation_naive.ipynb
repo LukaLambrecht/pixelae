{
 "cells": [
  {
   "cell_type": "code",
   "execution_count": null,
   "id": "97f426d0",
   "metadata": {},
   "outputs": [],
   "source": [
    "# imports\n",
    "\n",
    "# external modules\n",
    "import sys\n",
    "import os\n",
    "import numpy as np\n",
    "import pandas as pd\n",
    "import keras\n",
    "import matplotlib as mpl\n",
    "import matplotlib.pyplot as plt\n",
    "import importlib\n",
    "# framework modules\n",
    "sys.path.append('../')\n",
    "import plotting.plottools\n",
    "importlib.reload(plotting.plottools)\n",
    "from plotting.plottools import plot_histogram\n",
    "import training.prepare_training_set\n",
    "importlib.reload(training.prepare_training_set)\n",
    "from training.prepare_training_set import prepare_training_data_from_files"
   ]
  },
  {
   "cell_type": "code",
   "execution_count": null,
   "id": "95d25c57",
   "metadata": {},
   "outputs": [],
   "source": [
    "# load the training set\n",
    "\n",
    "files = ([\n",
    "    '../data/data/ZeroBias-Run2023C-PromptReco-v1-DQMIO-PixelPhase1-Tracks-PXForward-clusterposition_xy_ontrack_PXDisk_+1_preprocessed.parquet',\n",
    "    #'../data/data/ZeroBias-Run2023C-PromptReco-v2-DQMIO-PixelPhase1-Tracks-PXForward-clusterposition_xy_ontrack_PXDisk_+1_preprocessed.parquet',\n",
    "    #'../data/data/ZeroBias-Run2023C-PromptReco-v3-DQMIO-PixelPhase1-Tracks-PXForward-clusterposition_xy_ontrack_PXDisk_+1_preprocessed.parquet',\n",
    "    #'../data/data/ZeroBias-Run2023C-PromptReco-v4-DQMIO-PixelPhase1-Tracks-PXForward-clusterposition_xy_ontrack_PXDisk_+1_preprocessed.parquet',\n",
    "    #'../data/data/ZeroBias-Run2023D-PromptReco-v1-DQMIO-PixelPhase1-Tracks-PXForward-clusterposition_xy_ontrack_PXDisk_+1_preprocessed.parquet',\n",
    "    #'../data/data/ZeroBias-Run2023D-PromptReco-v2-DQMIO-PixelPhase1-Tracks-PXForward-clusterposition_xy_ontrack_PXDisk_+1_preprocessed.parquet',\n",
    "])\n",
    "kwargs = ({\n",
    "    'verbose': True,\n",
    "    'entries_threshold': 10000,\n",
    "    'skip_first_lumisections': 5\n",
    "})\n",
    "(training_data, training_runs, training_lumis) = prepare_training_data_from_files(files, **kwargs)"
   ]
  },
  {
   "cell_type": "code",
   "execution_count": null,
   "id": "2c60fb24",
   "metadata": {},
   "outputs": [],
   "source": [
    "# load keras model\n",
    "#modelname = '../training/test_model_20231109_pxdisk+1_era2023Cv1.keras'\n",
    "modelname = '../models/model_20231110_PixelPhase1-Tracks-PXForward-clusterposition_xy_ontrack_PXDisk_+1.keras'\n",
    "model = keras.models.load_model(modelname)"
   ]
  },
  {
   "cell_type": "code",
   "execution_count": null,
   "id": "909eb2b3",
   "metadata": {},
   "outputs": [],
   "source": [
    "# make a mask where values are always zero\n",
    "\n",
    "shape_mask = (np.sum(training_data, axis=0)==0)[:,:,0]"
   ]
  },
  {
   "cell_type": "code",
   "execution_count": null,
   "id": "da77b78f",
   "metadata": {},
   "outputs": [],
   "source": [
    "# evaluate the model\n",
    "\n",
    "predictions = model.predict(training_data)\n",
    "predictions[predictions<0] = 0.\n",
    "predictions[:,shape_mask] = 0."
   ]
  },
  {
   "cell_type": "code",
   "execution_count": null,
   "id": "714ab300",
   "metadata": {},
   "outputs": [],
   "source": [
    "# calculate squared difference\n",
    "\n",
    "errors = np.square(training_data - predictions)\n",
    "\n",
    "# space correction\n",
    "avg_response = np.mean(errors, axis=0)\n",
    "avg_response[avg_response==0] = 1\n",
    "errors_space_corrected = errors/avg_response\n",
    "\n",
    "# time correction\n",
    "errors_time_corrected = np.zeros(errors_space_corrected.shape)\n",
    "for i in range(2, len(errors)):\n",
    "    errors_time_corrected[i] = np.prod(errors_space_corrected[i-2:i+1], axis=0)\n",
    "    \n",
    "errors_corrected = errors_time_corrected"
   ]
  },
  {
   "cell_type": "code",
   "execution_count": null,
   "id": "35328adc",
   "metadata": {},
   "outputs": [],
   "source": [
    "# make plots\n",
    "\n",
    "nplots = 5\n",
    "plotids = np.random.choice(len(training_data), size=nplots)\n",
    "\n",
    "for i in plotids:\n",
    "    fig,axs = plt.subplots(figsize=(30,6), ncols=5)\n",
    "    plot_histogram(training_data[i,:,:,0], fig=fig, ax=axs[0])\n",
    "    plot_histogram(predictions[i,:,:,0], fig=fig, ax=axs[1])\n",
    "    plot_histogram(errors[i,:,:,0], fig=fig, ax=axs[2], caxrange=(-0.01, 0.1))\n",
    "    plot_histogram(errors_space_corrected[i,:,:,0], fig=fig, ax=axs[3], caxrange=(-0.01, 5.))\n",
    "    plot_histogram(errors_time_corrected[i,:,:,0], fig=fig, ax=axs[4], caxrange=(-0.01, 50.))\n",
    "    axs[0].text(0.02, 1.02, 'Run: {}, lumi: {}'.format(training_runs[i], training_lumis[i]), transform=axs[0].transAxes, fontsize=12)"
   ]
  },
  {
   "cell_type": "code",
   "execution_count": null,
   "id": "5cd22a34",
   "metadata": {},
   "outputs": [],
   "source": [
    "# check how many cells are above a certain threshold\n",
    "\n",
    "#thresholds = [1., 3., 5., 7., 10.] # for space correction only\n",
    "thresholds = [1., 5., 10., 50., 100.] # for space + time correction\n",
    "cmap = mpl.colormaps.get_cmap('jet')\n",
    "colors = [cmap(val) for val in np.linspace(0.1, 0.9, num=len(thresholds))]\n",
    "ncells = []\n",
    "for threshold in thresholds:\n",
    "    ncells.append( np.sum(np.sum(errors_corrected>threshold, axis=1), axis=1)[:,0] )\n",
    "\n",
    "fig, ax = plt.subplots()\n",
    "for i, (threshold, ncell) in enumerate(zip(thresholds, ncells)):\n",
    "    ax.hist(ncell, histtype='step', linewidth=2,\n",
    "            color=colors[i], label='Threshold {}'.format(threshold),\n",
    "            range=(0, 300), bins=30)\n",
    "    ax.set_yscale('log')\n",
    "    ax.legend()\n",
    "    ax.set_xlabel('Number of cells above threshold', fontsize=12)\n",
    "    ax.set_ylabel('Number of lumisections', fontsize=12)"
   ]
  },
  {
   "cell_type": "code",
   "execution_count": null,
   "id": "5623155d",
   "metadata": {},
   "outputs": [],
   "source": [
    "# plot examples from across the range\n",
    "\n",
    "threshold = 50.\n",
    "ncells = np.sum(np.sum(errors_corrected>threshold, axis=1), axis=1)[:,0]\n",
    "ncellranges = ([\n",
    "    (0, 3),\n",
    "    (4, 10),\n",
    "    (10, 100)\n",
    "])\n",
    "\n",
    "all_indices = np.array(range(len(training_data)))\n",
    "for ncellrange in ncellranges:\n",
    "    mask = ((ncells>=ncellrange[0]) & (ncells<=ncellrange[1]))\n",
    "    candidate_indices = all_indices[mask]\n",
    "    nplots = 3\n",
    "    plotids = np.random.choice(candidate_indices, size=nplots)\n",
    "    print('Running on cell range {}'.format(ncellrange))\n",
    "    print('Found {} candidate lumisections'.format(len(candidate_indices)))\n",
    "\n",
    "    for i in plotids:\n",
    "        fig,axs = plt.subplots(figsize=(24,6), ncols=5)\n",
    "        plot_histogram(training_data[i,:,:,0], fig=fig, ax=axs[0])\n",
    "        plot_histogram(predictions[i,:,:,0], fig=fig, ax=axs[1])\n",
    "        plot_histogram(errors[i,:,:,0], fig=fig, ax=axs[2], caxrange=(-0.01, 0.1))\n",
    "        plot_histogram(errors_corrected[i,:,:,0], fig=fig, ax=axs[3], caxrange=(-0.01, 5.))\n",
    "        plot_histogram(errors_time_corrected[i,:,:,0], fig=fig, ax=axs[4], caxrange=(-0.01, 50.))\n",
    "        axs[0].text(0.02, 1.02, 'Run: {}, lumi: {}'.format(training_runs[i], training_lumis[i]), transform=axs[0].transAxes, fontsize=12)\n",
    "    plt.show()"
   ]
  },
  {
   "cell_type": "code",
   "execution_count": null,
   "id": "229908bf",
   "metadata": {},
   "outputs": [],
   "source": []
  }
 ],
 "metadata": {
  "@webio": {
   "lastCommId": null,
   "lastKernelId": null
  },
  "kernelspec": {
   "display_name": "Python 3",
   "language": "python",
   "name": "python3"
  },
  "language_info": {
   "codemirror_mode": {
    "name": "ipython",
    "version": 3
   },
   "file_extension": ".py",
   "mimetype": "text/x-python",
   "name": "python",
   "nbconvert_exporter": "python",
   "pygments_lexer": "ipython3",
   "version": "3.9.12"
  }
 },
 "nbformat": 4,
 "nbformat_minor": 5
}
