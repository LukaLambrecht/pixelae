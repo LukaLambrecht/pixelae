{
 "cells": [
  {
   "cell_type": "code",
   "execution_count": null,
   "id": "97f426d0",
   "metadata": {},
   "outputs": [],
   "source": [
    "# imports\n",
    "\n",
    "# external modules\n",
    "import sys\n",
    "import os\n",
    "import numpy as np\n",
    "import pandas as pd\n",
    "import keras\n",
    "import matplotlib as mpl\n",
    "import matplotlib.pyplot as plt\n",
    "import importlib\n",
    "# framework modules\n",
    "sys.path.append('../')\n",
    "import plotting.plottools\n",
    "importlib.reload(plotting.plottools)\n",
    "from plotting.plottools import plot_histogram\n",
    "import training.prepare_training_set\n",
    "importlib.reload(training.prepare_training_set)\n",
    "from training.prepare_training_set import prepare_training_data_from_files"
   ]
  },
  {
   "cell_type": "code",
   "execution_count": null,
   "id": "95d25c57",
   "metadata": {},
   "outputs": [],
   "source": [
    "# load the evaluation set\n",
    "\n",
    "#me = 'PixelPhase1-Tracks-PXForward-clusterposition_xy_ontrack_PXDisk_+1'\n",
    "#me = 'PixelPhase1-Tracks-PXForward-clusterposition_xy_ontrack_PXDisk_+2'\n",
    "me = 'PixelPhase1-Tracks-PXForward-clusterposition_xy_ontrack_PXDisk_+3'\n",
    "#me = 'PixelPhase1-Tracks-PXForward-clusterposition_xy_ontrack_PXDisk_-1'\n",
    "#me = 'PixelPhase1-Tracks-PXForward-clusterposition_xy_ontrack_PXDisk_-2'\n",
    "#me = 'PixelPhase1-Tracks-PXForward-clusterposition_xy_ontrack_PXDisk_-3'\n",
    "\n",
    "files = ([\n",
    "    '../data/data/ZeroBias-Run2023C-PromptReco-v1-DQMIO-{}_preprocessed.parquet'.format(me)\n",
    "])\n",
    "kwargs = ({\n",
    "    'verbose': True,\n",
    "    'entries_threshold': 10000,\n",
    "    'skip_first_lumisections': 5\n",
    "})\n",
    "(eval_data, eval_runs, eval_lumis) = prepare_training_data_from_files(files, **kwargs)"
   ]
  },
  {
   "cell_type": "code",
   "execution_count": null,
   "id": "01da2a29",
   "metadata": {},
   "outputs": [],
   "source": [
    "# make a mask where values are often zero\n",
    "\n",
    "shape_mask = (np.sum(eval_data[:,:,:,0]==0, axis=0)>len(eval_data)/2.)\n",
    "\n",
    "fig,ax = plt.subplots()\n",
    "plot_histogram(shape_mask, fig=fig, ax=ax, caxrange=(-0.01,1))\n",
    "ax.text(0.02, 1.02, 'Shape mask', transform=ax.transAxes, fontsize=12)"
   ]
  },
  {
   "cell_type": "code",
   "execution_count": null,
   "id": "2c60fb24",
   "metadata": {},
   "outputs": [],
   "source": [
    "# load keras model\n",
    "modelname = '../models/model_20231115_Run2023C-v1_{}.keras'.format(me)\n",
    "model = keras.models.load_model(modelname)"
   ]
  },
  {
   "cell_type": "code",
   "execution_count": null,
   "id": "0354d69d",
   "metadata": {},
   "outputs": [],
   "source": [
    "# load average occupancy or error of training set\n",
    "\n",
    "avgresponsename = '../models/model_20231115_Run2023C-v1_{}_avgoccupancy.npy'.format(me)\n",
    "avgresponse = np.load(avgresponsename)\n",
    "avgresponse = np.square(avgresponse)\n",
    "\n",
    "fig,ax = plt.subplots()\n",
    "plot_histogram(avgresponse, fig=fig, ax=ax)\n",
    "ax.text(0.02, 1.02, 'Average response on training set', transform=ax.transAxes, fontsize=12)\n",
    "avgresponse[avgresponse==0] = 1\n",
    "avgresponse = np.expand_dims(avgresponse, axis=2)"
   ]
  },
  {
   "cell_type": "code",
   "execution_count": null,
   "id": "da77b78f",
   "metadata": {},
   "outputs": [],
   "source": [
    "# evaluate the model\n",
    "\n",
    "predictions = model.predict(eval_data)\n",
    "predictions[predictions<0] = 0.\n",
    "predictions[:,shape_mask] = 0."
   ]
  },
  {
   "cell_type": "code",
   "execution_count": null,
   "id": "714ab300",
   "metadata": {},
   "outputs": [],
   "source": [
    "# calculate squared difference\n",
    "\n",
    "errors = np.square(eval_data - predictions)\n",
    "\n",
    "# space correction\n",
    "errors_space_corrected = errors/avgresponse\n",
    "\n",
    "# time correction\n",
    "errors_time_corrected = np.zeros(errors_space_corrected.shape)\n",
    "for i in range(2, len(errors)):\n",
    "    errors_time_corrected[i] = np.prod(errors_space_corrected[i-2:i+1], axis=0)\n",
    "    \n",
    "errors_corrected = errors_time_corrected"
   ]
  },
  {
   "cell_type": "code",
   "execution_count": null,
   "id": "35328adc",
   "metadata": {},
   "outputs": [],
   "source": [
    "# make plots\n",
    "\n",
    "nplots = 5\n",
    "plotids = np.random.choice(len(eval_data), size=nplots)\n",
    "\n",
    "for i in plotids:\n",
    "    fig,axs = plt.subplots(figsize=(30,6), ncols=5)\n",
    "    plot_histogram(eval_data[i,:,:,0], fig=fig, ax=axs[0])\n",
    "    plot_histogram(predictions[i,:,:,0], fig=fig, ax=axs[1])\n",
    "    plot_histogram(errors[i,:,:,0], fig=fig, ax=axs[2], caxrange=(-0.0001, 0.01))\n",
    "    plot_histogram(errors_space_corrected[i,:,:,0], fig=fig, ax=axs[3], caxrange=(-0.001, 0.5))\n",
    "    plot_histogram(errors_time_corrected[i,:,:,0], fig=fig, ax=axs[4], caxrange=(-0.001, 0.1))\n",
    "    axs[0].text(0.02, 1.02, 'Run: {}, lumi: {}'.format(eval_runs[i], eval_lumis[i]), transform=axs[0].transAxes, fontsize=12)"
   ]
  },
  {
   "cell_type": "code",
   "execution_count": null,
   "id": "5cd22a34",
   "metadata": {},
   "outputs": [],
   "source": [
    "# check how many cells are above a certain threshold\n",
    "\n",
    "thresholds = [0.01, 0.05, 0.1, 0.5, 1]\n",
    "cmap = mpl.colormaps.get_cmap('jet')\n",
    "colors = [cmap(val) for val in np.linspace(0.1, 0.9, num=len(thresholds))]\n",
    "ncells = []\n",
    "for threshold in thresholds:\n",
    "    ncells.append( np.sum(np.sum(errors_corrected>threshold, axis=1), axis=1)[:,0] )\n",
    "\n",
    "fig, ax = plt.subplots()\n",
    "for i, (threshold, ncell) in enumerate(zip(thresholds, ncells)):\n",
    "    ax.hist(ncell, histtype='step', linewidth=2,\n",
    "            color=colors[i], label='Threshold {}'.format(threshold),\n",
    "            range=(0, 300), bins=30)\n",
    "    ax.set_yscale('log')\n",
    "    ax.legend()\n",
    "    ax.set_xlabel('Number of cells above threshold', fontsize=12)\n",
    "    ax.set_ylabel('Number of lumisections', fontsize=12)"
   ]
  },
  {
   "cell_type": "code",
   "execution_count": null,
   "id": "5623155d",
   "metadata": {},
   "outputs": [],
   "source": [
    "# plot examples from across the range\n",
    "\n",
    "threshold = 0.1\n",
    "ncells = np.sum(np.sum(errors_corrected>threshold, axis=1), axis=1)[:,0]\n",
    "ncellranges = ([\n",
    "    (0, 3),\n",
    "    (4, 10),\n",
    "    (10, 100)\n",
    "])\n",
    "\n",
    "all_indices = np.array(range(len(eval_data)))\n",
    "for ncellrange in ncellranges:\n",
    "    mask = ((ncells>=ncellrange[0]) & (ncells<=ncellrange[1]))\n",
    "    candidate_indices = all_indices[mask]\n",
    "    nplots = 3\n",
    "    plotids = np.random.choice(candidate_indices, size=nplots)\n",
    "    print('Running on cell range {}'.format(ncellrange))\n",
    "    print('Found {} candidate lumisections'.format(len(candidate_indices)))\n",
    "\n",
    "    for i in plotids:\n",
    "        fig,axs = plt.subplots(figsize=(24,6), ncols=5)\n",
    "        plot_histogram(eval_data[i,:,:,0], fig=fig, ax=axs[0])\n",
    "        plot_histogram(predictions[i,:,:,0], fig=fig, ax=axs[1])\n",
    "        plot_histogram(errors[i,:,:,0], fig=fig, ax=axs[2], caxrange=(-0.0001, 0.01))\n",
    "        plot_histogram(errors_corrected[i,:,:,0], fig=fig, ax=axs[3], caxrange=(-0.001, 0.5))\n",
    "        plot_histogram(errors_time_corrected[i,:,:,0], fig=fig, ax=axs[4], caxrange=(-0.001, 0.1))\n",
    "        axs[0].text(0.02, 1.02, 'Run: {}, lumi: {}'.format(eval_runs[i], eval_lumis[i]), transform=axs[0].transAxes, fontsize=12)\n",
    "    plt.show()"
   ]
  },
  {
   "cell_type": "code",
   "execution_count": null,
   "id": "229908bf",
   "metadata": {},
   "outputs": [],
   "source": []
  }
 ],
 "metadata": {
  "@webio": {
   "lastCommId": null,
   "lastKernelId": null
  },
  "kernelspec": {
   "display_name": "Python 3",
   "language": "python",
   "name": "python3"
  },
  "language_info": {
   "codemirror_mode": {
    "name": "ipython",
    "version": 3
   },
   "file_extension": ".py",
   "mimetype": "text/x-python",
   "name": "python",
   "nbconvert_exporter": "python",
   "pygments_lexer": "ipython3",
   "version": "3.9.12"
  }
 },
 "nbformat": 4,
 "nbformat_minor": 5
}
