{
 "cells": [
  {
   "cell_type": "code",
   "execution_count": null,
   "id": "48a99140",
   "metadata": {},
   "outputs": [],
   "source": [
    "import sys\n",
    "import os\n",
    "import numpy as np\n",
    "import pandas as pd\n",
    "from pyarrow.parquet import ParquetFile\n",
    "from pyarrow.parquet import ParquetDataset\n",
    "import pyarrow as pa\n",
    "import importlib\n",
    "import plottools\n",
    "importlib.reload(plottools)\n",
    "from plottools import plot_histogram"
   ]
  },
  {
   "cell_type": "code",
   "execution_count": null,
   "id": "a3b267d4",
   "metadata": {},
   "outputs": [],
   "source": [
    "# define file, and define run and lumisection filters\n",
    "# (see https://arrow.apache.org/docs/python/generated/pyarrow.parquet.ParquetDataset.html)\n",
    "\n",
    "fname = '../data/data/ZeroBias-Run2023C-PromptReco-v2-DQMIO-PixelPhase1-Tracks-PXForward-clusterposition_xy_ontrack_PXDisk_+1.parquet'\n",
    "filters = []\n",
    "filters.append( ('fromrun', '=', 367589) )\n",
    "filters.append( ('fromlumi', '>', 400) )\n",
    "filters.append( ('fromlumi', '<', 405) )"
   ]
  },
  {
   "cell_type": "code",
   "execution_count": null,
   "id": "17d3795f",
   "metadata": {},
   "outputs": [],
   "source": [
    "# read the data\n",
    "\n",
    "df = ParquetDataset(fname, filters=filters).read().to_pandas()\n",
    "xbins = df['Xbins'][0]\n",
    "ybins = df['Ybins'][0]\n",
    "hists = np.array([df['histo'][i].reshape(xbins,ybins) for i in range(len(df))])\n",
    "runs = np.array(df['fromrun'])\n",
    "lumis = np.array(df['fromlumi'])"
   ]
  },
  {
   "cell_type": "code",
   "execution_count": null,
   "id": "f68166e7",
   "metadata": {},
   "outputs": [],
   "source": [
    "# plot the data\n",
    "\n",
    "for i in range(len(hists)):\n",
    "    fig,ax = plot_histogram(hists[i])\n",
    "    ax.text(0.05, 1.05, 'Run: {}, lumisection: {}'.format(runs[i], lumis[i]), transform=ax.transAxes, fontsize=12)"
   ]
  },
  {
   "cell_type": "code",
   "execution_count": null,
   "id": "e9cb1e7f",
   "metadata": {},
   "outputs": [],
   "source": []
  }
 ],
 "metadata": {
  "@webio": {
   "lastCommId": null,
   "lastKernelId": null
  },
  "kernelspec": {
   "display_name": "Python 3",
   "language": "python",
   "name": "python3"
  },
  "language_info": {
   "codemirror_mode": {
    "name": "ipython",
    "version": 3
   },
   "file_extension": ".py",
   "mimetype": "text/x-python",
   "name": "python",
   "nbconvert_exporter": "python",
   "pygments_lexer": "ipython3",
   "version": "3.9.12"
  }
 },
 "nbformat": 4,
 "nbformat_minor": 5
}
