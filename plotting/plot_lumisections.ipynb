{
 "cells": [
  {
   "cell_type": "code",
   "execution_count": null,
   "id": "48a99140",
   "metadata": {},
   "outputs": [],
   "source": [
    "import sys\n",
    "import os\n",
    "import numpy as np\n",
    "import pandas as pd\n",
    "from pyarrow.parquet import ParquetFile\n",
    "from pyarrow.parquet import ParquetDataset\n",
    "import pyarrow as pa\n",
    "import importlib\n",
    "import plottools\n",
    "importlib.reload(plottools)\n",
    "from plottools import plot_histogram\n",
    "from plottools import plot_histograms_gif"
   ]
  },
  {
   "cell_type": "code",
   "execution_count": null,
   "id": "a3b267d4",
   "metadata": {},
   "outputs": [],
   "source": [
    "# define file\n",
    "\n",
    "#fname = '../data/data/ZeroBias-Run2024B-PromptReco-v1-DQMIO-PixelPhase1-Phase1_MechanicalView-PXBarrel-clusters_per_SignedModuleCoord_per_SignedLadderCoord_PXLayer_1.parquet'\n",
    "fname = '../data/data/ZeroBias-Run2024B-PromptReco-v1-DQMIO-PixelPhase1-Phase1_MechanicalView-PXForward-clusters_per_SignedDiskCoord_per_SignedBladePanelCoord_PXRing_1.parquet'"
   ]
  },
  {
   "cell_type": "code",
   "execution_count": null,
   "id": "b3d635eb",
   "metadata": {},
   "outputs": [],
   "source": [
    "# print available runs\n",
    "\n",
    "df = pd.read_parquet(fname, columns=['fromrun'])\n",
    "runs = sorted(list(set(df['fromrun'].tolist())))\n",
    "print('Available run numbers in file {}:'.format(fname))\n",
    "print(runs)"
   ]
  },
  {
   "cell_type": "code",
   "execution_count": null,
   "id": "93c553dd",
   "metadata": {},
   "outputs": [],
   "source": [
    "# define run and lumisection filters\n",
    "# (see https://arrow.apache.org/docs/python/generated/pyarrow.parquet.ParquetDataset.html)\n",
    "\n",
    "filters = []\n",
    "filters.append( ('fromrun', '=', 379008) )\n",
    "#filters.append( ('fromlumi', '>', 10) )\n",
    "#filters.append( ('fromlumi', '<', 4) )"
   ]
  },
  {
   "cell_type": "code",
   "execution_count": null,
   "id": "17d3795f",
   "metadata": {},
   "outputs": [],
   "source": [
    "# read the data\n",
    "\n",
    "df = ParquetDataset(fname, filters=filters).read().to_pandas()\n",
    "print('Found {} entries'.format(len(df)))\n",
    "xbins = df['Xbins'][0]\n",
    "ybins = df['Ybins'][0]\n",
    "hists = np.array([df['histo'][i].reshape(xbins,ybins) for i in range(len(df))])\n",
    "runs = np.array(df['fromrun'])\n",
    "lumis = np.array(df['fromlumi'])"
   ]
  },
  {
   "cell_type": "code",
   "execution_count": null,
   "id": "f68166e7",
   "metadata": {},
   "outputs": [],
   "source": [
    "# plot the data\n",
    "\n",
    "for i,hist in enumerate(hists):\n",
    "    fig, ax = plot_histogram(hist, figsize=(8,8), xaxtitle='x (bin number)', xaxtitlesize=12, yaxtitle='y (bin number)', yaxtitlesize=12,\n",
    "                             caxrange=(0.01,5000), caxtitle='Occupancy', caxtitlesize=15, caxtitleoffset=20)\n",
    "    ax.text(0.02, 1.02, 'Run: {}, lumi: {}'.format(runs[i], lumis[i]), transform=ax.transAxes, fontsize=12)\n",
    "    fig.tight_layout()\n",
    "    #fig.savefig('fig_{}.png'.format(i), dpi=300)"
   ]
  },
  {
   "cell_type": "code",
   "execution_count": null,
   "id": "e9cb1e7f",
   "metadata": {},
   "outputs": [],
   "source": [
    "# make a gif\n",
    "\n",
    "titles = ['Run {}, LS {}'.format(runs[i], lumis[i]) for i in range(len(hists))]\n",
    "figname = 'temp_gif.gif'\n",
    "caxrange = (0.01, 5000)\n",
    "\n",
    "plot_histograms_gif(hists, titles=titles, figname=figname,\n",
    "                    figsize=(8,8), caxrange=caxrange,\n",
    "                    duration=300, mode='imageio')"
   ]
  },
  {
   "cell_type": "code",
   "execution_count": null,
   "id": "db5d2cee",
   "metadata": {},
   "outputs": [],
   "source": [
    "# display the gif\n",
    "\n",
    "import IPython\n",
    "from IPython.display import Image\n",
    "Image(filename=figname)"
   ]
  },
  {
   "cell_type": "code",
   "execution_count": null,
   "id": "94464eba",
   "metadata": {},
   "outputs": [],
   "source": []
  }
 ],
 "metadata": {
  "@webio": {
   "lastCommId": null,
   "lastKernelId": null
  },
  "kernelspec": {
   "display_name": "Python 3",
   "language": "python",
   "name": "python3"
  },
  "language_info": {
   "codemirror_mode": {
    "name": "ipython",
    "version": 3
   },
   "file_extension": ".py",
   "mimetype": "text/x-python",
   "name": "python",
   "nbconvert_exporter": "python",
   "pygments_lexer": "ipython3",
   "version": "3.9.12"
  }
 },
 "nbformat": 4,
 "nbformat_minor": 5
}
