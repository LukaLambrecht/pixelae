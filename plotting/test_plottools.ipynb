{
 "cells": [
  {
   "cell_type": "markdown",
   "id": "f844606a",
   "metadata": {},
   "source": [
    "**Test plotting code**"
   ]
  },
  {
   "cell_type": "code",
   "execution_count": null,
   "id": "f8b0dd32",
   "metadata": {},
   "outputs": [],
   "source": [
    "# imports\n",
    "\n",
    "import sys\n",
    "import os\n",
    "import numpy as np\n",
    "import pandas as pd\n",
    "import importlib\n",
    "import plottools\n",
    "importlib.reload(plottools)\n",
    "from plottools import plot_lumisection\n",
    "from plottools import plot_lumisections_gif"
   ]
  },
  {
   "cell_type": "code",
   "execution_count": null,
   "id": "2ad7e5ec",
   "metadata": {},
   "outputs": [],
   "source": [
    "# get some example histograms\n",
    "# to do later when data is available, see replacement below\n",
    "\n",
    "fname = '../data/examples/ZeroBias-Run2023C-PromptReco-v1-DQMIO-PixelPhase1-Tracks-PXBarrel-charge_PXLayer_1.parquet'\n",
    "df = pd.read_parquet(fname)\n",
    "hists = {\n",
    "    'fpix-1': df['histo'][0],\n",
    "    'fpix-2': df['histo'][1],\n",
    "    'fpix-3': df['histo'][2],\n",
    "    'fpix+1': df['histo'][3],\n",
    "    'fpix+2': df['histo'][4],\n",
    "    'fpix+3': df['histo'][5]\n",
    "}"
   ]
  },
  {
   "cell_type": "code",
   "execution_count": null,
   "id": "4039426c",
   "metadata": {},
   "outputs": [],
   "source": [
    "# generate some random data\n",
    "# in expectation of availability of real data\n",
    "\n",
    "dims = (50, 50)\n",
    "low = 0\n",
    "high = 10\n",
    "rng = np.random.default_rng()\n",
    "hists = {}\n",
    "for key in ['fpix-1', 'fpix-2', 'fpix-3', 'fpix+1', 'fpix+2', 'fpix+3']:\n",
    "    hist = rng.integers(low=low, high=high, size=dims)\n",
    "    hist[:10,:] = 0\n",
    "    hist[-10:,:] = 0\n",
    "    hists[key] = hist"
   ]
  },
  {
   "cell_type": "code",
   "execution_count": null,
   "id": "c48d75e7",
   "metadata": {},
   "outputs": [],
   "source": [
    "# do plotting\n",
    "\n",
    "fig, axs = plot_lumisection(hists, \n",
    "                            title='Run XXXXXX, LS YYY', titlesize=15,\n",
    "                            caxtitle='Occupancy', caxtitlesize=15)"
   ]
  },
  {
   "cell_type": "code",
   "execution_count": null,
   "id": "e1fd47a5",
   "metadata": {},
   "outputs": [],
   "source": [
    "# make a gif\n",
    "\n",
    "dims = (20, 20)\n",
    "low = 0\n",
    "high = 10\n",
    "frames = 10\n",
    "rng = np.random.default_rng()\n",
    "hists = []\n",
    "titles = []\n",
    "for frame in range(frames):\n",
    "    hdict = {}\n",
    "    for key in ['fpix-1', 'fpix-2', 'fpix-3', 'fpix+1', 'fpix+2', 'fpix+3']:\n",
    "        hist = rng.integers(low=low, high=high, size=dims)\n",
    "        hist[:3,:] = 0\n",
    "        hist[-3:,:] = 0\n",
    "        hdict[key] = hist\n",
    "    hists.append(hdict)\n",
    "    titles.append('Run XXXXXX, LS {}'.format(frame+1))\n",
    "    \n",
    "plot_lumisections_gif(hists, 'test.gif', verbose=True, duration=500,\n",
    "                      titles=titles, titlesize=15,\n",
    "                      caxtitle='Occupancy', caxtitlesize=15)"
   ]
  },
  {
   "cell_type": "code",
   "execution_count": null,
   "id": "8c0e30ae",
   "metadata": {},
   "outputs": [],
   "source": []
  }
 ],
 "metadata": {
  "@webio": {
   "lastCommId": null,
   "lastKernelId": null
  },
  "kernelspec": {
   "display_name": "Python 3",
   "language": "python",
   "name": "python3"
  },
  "language_info": {
   "codemirror_mode": {
    "name": "ipython",
    "version": 3
   },
   "file_extension": ".py",
   "mimetype": "text/x-python",
   "name": "python",
   "nbconvert_exporter": "python",
   "pygments_lexer": "ipython3",
   "version": "3.9.12"
  }
 },
 "nbformat": 4,
 "nbformat_minor": 5
}
