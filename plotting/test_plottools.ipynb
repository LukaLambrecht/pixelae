{
 "cells": [
  {
   "cell_type": "markdown",
   "id": "f844606a",
   "metadata": {},
   "source": [
    "**Test plotting code**"
   ]
  },
  {
   "cell_type": "code",
   "execution_count": null,
   "id": "f8b0dd32",
   "metadata": {},
   "outputs": [],
   "source": [
    "# imports\n",
    "\n",
    "import sys\n",
    "import os\n",
    "import numpy as np\n",
    "import pandas as pd\n",
    "import importlib\n",
    "import plottools\n",
    "importlib.reload(plottools)\n",
    "from plottools import plot_lumisection\n",
    "from plottools import plot_lumisections_gif"
   ]
  },
  {
   "cell_type": "code",
   "execution_count": null,
   "id": "a1678026",
   "metadata": {},
   "outputs": [],
   "source": [
    "# internal test: check that flatten() and reshape() are inverse transformations\n",
    "# flatten() is used to convert the 2D histograms into 1D arrays (needed for parquet conversion)\n",
    "# reshape() is used to convert them back to their original shape\n",
    "\n",
    "rng = np.random.default_rng()\n",
    "xbins = 30\n",
    "ybins = 20\n",
    "matrix = rng.integers(low=0, high=10, size=(xbins,ybins))\n",
    "matrix2 = matrix.flatten().reshape(xbins,ybins)\n",
    "print(np.array_equal(matrix,matrix2))\n",
    "print(np.array_equal(matrix,matrix2.T))"
   ]
  },
  {
   "cell_type": "code",
   "execution_count": null,
   "id": "2ad7e5ec",
   "metadata": {},
   "outputs": [],
   "source": [
    "# get some example histograms\n",
    "\n",
    "fname = '../data/examples/ZeroBias-Run2023C-PromptReco-v1-DQMIO-PixelPhase1-Tracks-PXForward-clusterposition_xy_ontrack_PXDisk_+1.parquet'\n",
    "#fname = '../data/examples/ZeroBias-Run2023C-PromptReco-v1-DQMIO-PixelPhase1-Tracks-PXBarrel-clusterposition_zphi_ontrack_PXLayer_1.parquet'\n",
    "df = pd.read_parquet(fname)\n",
    "xbins = df['Xbins'][0]\n",
    "ybins = df['Ybins'][0]\n",
    "hists = {\n",
    "    'fpix-1': df['histo'][0].reshape(xbins,ybins),\n",
    "    'fpix-2': df['histo'][2].reshape(xbins,ybins),\n",
    "    'fpix-3': df['histo'][4].reshape(xbins,ybins),\n",
    "    'fpix+1': df['histo'][1].reshape(xbins,ybins),\n",
    "    'fpix+2': df['histo'][3].reshape(xbins,ybins),\n",
    "    'fpix+3': df['histo'][4].reshape(xbins,ybins)\n",
    "}"
   ]
  },
  {
   "cell_type": "code",
   "execution_count": null,
   "id": "c48d75e7",
   "metadata": {},
   "outputs": [],
   "source": [
    "# do plotting\n",
    "\n",
    "fig, axs = plot_lumisection(hists, \n",
    "                            title='Run XXXXXX, LS YYY', titlesize=15,\n",
    "                            caxtitle='Occupancy', caxtitlesize=15)"
   ]
  },
  {
   "cell_type": "code",
   "execution_count": null,
   "id": "e1fd47a5",
   "metadata": {},
   "outputs": [],
   "source": [
    "# make a gif\n",
    "\n",
    "dims = (20, 20)\n",
    "low = 0\n",
    "high = 10\n",
    "frames = 10\n",
    "rng = np.random.default_rng()\n",
    "hists = []\n",
    "titles = []\n",
    "for frame in range(frames):\n",
    "    hdict = {}\n",
    "    for key in ['fpix-1', 'fpix-2', 'fpix-3', 'fpix+1', 'fpix+2', 'fpix+3']:\n",
    "        hist = rng.integers(low=low, high=high, size=dims)\n",
    "        hist[:3,:] = 0\n",
    "        hist[-3:,:] = 0\n",
    "        hdict[key] = hist\n",
    "    hists.append(hdict)\n",
    "    titles.append('Run XXXXXX, LS {}'.format(frame+1))\n",
    "    \n",
    "plot_lumisections_gif(hists, 'test.gif', verbose=True, duration=500,\n",
    "                      titles=titles, titlesize=15,\n",
    "                      caxtitle='Occupancy', caxtitlesize=15)"
   ]
  },
  {
   "cell_type": "code",
   "execution_count": null,
   "id": "8c0e30ae",
   "metadata": {},
   "outputs": [],
   "source": []
  }
 ],
 "metadata": {
  "@webio": {
   "lastCommId": null,
   "lastKernelId": null
  },
  "kernelspec": {
   "display_name": "Python 3",
   "language": "python",
   "name": "python3"
  },
  "language_info": {
   "codemirror_mode": {
    "name": "ipython",
    "version": 3
   },
   "file_extension": ".py",
   "mimetype": "text/x-python",
   "name": "python",
   "nbconvert_exporter": "python",
   "pygments_lexer": "ipython3",
   "version": "3.9.12"
  }
 },
 "nbformat": 4,
 "nbformat_minor": 5
}
