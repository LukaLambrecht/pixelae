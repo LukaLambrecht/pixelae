{
 "cells": [
  {
   "cell_type": "code",
   "execution_count": null,
   "id": "f0c4880d",
   "metadata": {},
   "outputs": [],
   "source": [
    "# imports\n",
    "\n",
    "import sys\n",
    "import os\n",
    "import numpy as np\n",
    "import pandas as pd\n",
    "import matplotlib.pyplot as plt\n",
    "import importlib\n",
    "sys.path.append('../')\n",
    "import plotting.plottools\n",
    "importlib.reload(plotting.plottools)\n",
    "from plotting.plottools import plot_histogram\n",
    "# local modules\n",
    "import models.modeldefs\n",
    "importlib.reload(models.modeldefs)\n",
    "from models.modeldefs import model_dummy\n",
    "from models.modeldefs import model_ecal_endcap"
   ]
  },
  {
   "cell_type": "code",
   "execution_count": null,
   "id": "85638d07",
   "metadata": {},
   "outputs": [],
   "source": [
    "# get some example histograms\n",
    "\n",
    "fname = '../data/data/ZeroBias-Run2023C-PromptReco-v1-DQMIO-PixelPhase1-Tracks-PXForward-clusterposition_xy_ontrack_PXDisk_+1_preprocessed.parquet'\n",
    "df = pd.read_parquet(fname)\n",
    "nhists = len(df)\n",
    "xbins = df['Xbins'][0]\n",
    "ybins = df['Ybins'][0]\n",
    "hists = np.array([df['histo'][i].reshape(xbins,ybins) for i in range(nhists)])\n",
    "runs = np.array(df['fromrun'])\n",
    "lumis = np.array(df['fromlumi'])\n",
    "entries = np.array(df['entries'])\n",
    "print('Shape of hists array: {}'.format(hists.shape))\n",
    "print('Runs: {}'.format(runs))\n",
    "print('Lumis: {}'.format(lumis))\n",
    "print('Entries: {}'.format(entries))"
   ]
  },
  {
   "cell_type": "code",
   "execution_count": null,
   "id": "bf4f95ee",
   "metadata": {},
   "outputs": [],
   "source": [
    "# selections\n",
    "\n",
    "entries_mask = (entries > 1000)\n",
    "print('Passing lumisections: {} ({:.2f} %)'.format(np.sum(entries_mask), np.sum(entries_mask)/nhists*100))\n",
    "\n",
    "training_mask = entries_mask\n",
    "print('Training lumisections: {} ({:.2f} %)'.format(np.sum(training_mask), np.sum(training_mask)/nhists*100))\n",
    "training_data = hists[training_mask]\n",
    "training_data = np.expand_dims(training_data, 3)\n",
    "print(training_data.shape)"
   ]
  },
  {
   "cell_type": "code",
   "execution_count": null,
   "id": "dfbcd5c5",
   "metadata": {},
   "outputs": [],
   "source": [
    "# make a mask where values are always zero\n",
    "\n",
    "shape_mask = (np.sum(training_data, axis=0)==0)[:,:,0]"
   ]
  },
  {
   "cell_type": "code",
   "execution_count": null,
   "id": "477b6763",
   "metadata": {},
   "outputs": [],
   "source": [
    "# divide training data by its average\n",
    "\n",
    "#avg_occupancy = np.mean(training_data, axis=0)\n",
    "#avg_occupancy[avg_occupancy==0] = 1\n",
    "#training_data = training_data/avg_occupancy"
   ]
  },
  {
   "cell_type": "code",
   "execution_count": null,
   "id": "1eb62480",
   "metadata": {},
   "outputs": [],
   "source": [
    "# make model and training settings\n",
    "input_shape = training_data.shape[1:]\n",
    "model = model_dummy(input_shape)\n",
    "loss = 'mse'\n",
    "optimizer = 'adam'\n",
    "batch_size = 32\n",
    "epochs = 5\n",
    "validation_split = 0.1\n",
    "\n",
    "# compile model\n",
    "model.compile(\n",
    "  loss=loss,\n",
    "  optimizer=optimizer\n",
    ")\n",
    "\n",
    "# do training\n",
    "history = model.fit(\n",
    "    training_data, training_data,\n",
    "    batch_size=batch_size,\n",
    "    epochs=epochs,\n",
    "    verbose=True,\n",
    "    shuffle=True,\n",
    "    validation_split=validation_split\n",
    ")"
   ]
  },
  {
   "cell_type": "code",
   "execution_count": null,
   "id": "8843e938",
   "metadata": {},
   "outputs": [],
   "source": [
    "# evaluate the model\n",
    "\n",
    "predictions = model.predict(training_data)\n",
    "predictions[predictions<0] = 0.\n",
    "predictions[:,shape_mask] = 0."
   ]
  },
  {
   "cell_type": "code",
   "execution_count": null,
   "id": "b3899fe6",
   "metadata": {},
   "outputs": [],
   "source": [
    "# calculate squared difference\n",
    "\n",
    "errors = np.square(training_data - predictions)\n",
    "avg_response = np.mean(errors, axis=0)\n",
    "avg_response[avg_response==0] = 1\n",
    "errors_corrected = errors/avg_response"
   ]
  },
  {
   "cell_type": "code",
   "execution_count": null,
   "id": "d6338d30",
   "metadata": {},
   "outputs": [],
   "source": [
    "# make plots\n",
    "\n",
    "nplots = 5\n",
    "plotids = np.random.choice(len(training_data), size=nplots)\n",
    "\n",
    "for i in plotids:\n",
    "    fig,axs = plt.subplots(figsize=(24,6), ncols=4)\n",
    "    plot_histogram(training_data[i,:,:,0], fig=fig, ax=axs[0])\n",
    "    plot_histogram(predictions[i,:,:,0], fig=fig, ax=axs[1])\n",
    "    plot_histogram(errors[i,:,:,0], fig=fig, ax=axs[2], caxrange=(-0.01, 0.1))\n",
    "    plot_histogram(errors_corrected[i,:,:,0], fig=fig, ax=axs[3], caxrange=(-0.01, 5.))\n",
    "    axs[0].text(0.02, 1.02, 'Run: {}, lumi: {}'.format(runs[i], lumis[i]), transform=axs[0].transAxes, fontsize=12)"
   ]
  },
  {
   "cell_type": "code",
   "execution_count": null,
   "id": "0cf5c70d",
   "metadata": {},
   "outputs": [],
   "source": []
  }
 ],
 "metadata": {
  "@webio": {
   "lastCommId": null,
   "lastKernelId": null
  },
  "kernelspec": {
   "display_name": "Python 3",
   "language": "python",
   "name": "python3"
  },
  "language_info": {
   "codemirror_mode": {
    "name": "ipython",
    "version": 3
   },
   "file_extension": ".py",
   "mimetype": "text/x-python",
   "name": "python",
   "nbconvert_exporter": "python",
   "pygments_lexer": "ipython3",
   "version": "3.9.12"
  }
 },
 "nbformat": 4,
 "nbformat_minor": 5
}
