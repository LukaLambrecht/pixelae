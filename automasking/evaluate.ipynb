{
 "cells": [
  {
   "cell_type": "code",
   "execution_count": null,
   "id": "f16eab75",
   "metadata": {},
   "outputs": [],
   "source": [
    "### imports\n",
    "\n",
    "# external modules\n",
    "import os\n",
    "import sys\n",
    "import json\n",
    "import glob\n",
    "import tarfile as tar\n",
    "import numpy as np\n",
    "from fnmatch import fnmatch\n",
    "import matplotlib.pyplot as plt\n",
    "import importlib\n",
    "\n",
    "# local modules\n",
    "thisdir = os.getcwd()\n",
    "topdir = os.path.abspath(os.path.join(thisdir, '../'))\n",
    "sys.path.append(topdir)\n",
    "\n",
    "from automasking.tools.lumisection_time_parser import LumisectionTimeParser\n",
    "from automasking.tools.automask_file_parsing import get_automask_from_tarfiles\n",
    "from automasking.tools.automask_file_parsing import automask_to_map\n",
    "import plotting.plottools as plottools"
   ]
  },
  {
   "cell_type": "code",
   "execution_count": null,
   "id": "6bd4633d",
   "metadata": {},
   "outputs": [],
   "source": [
    "# read from json file\n",
    "\n",
    "outputdir = 'automask_data'\n",
    "if not os.path.exists(outputdir): os.makedirs(outputdir)\n",
    "outputfile = os.path.join(outputdir, f'automask_2024.json')\n",
    "\n",
    "with open(outputfile, 'r') as f:\n",
    "    automask_info = json.load(f)"
   ]
  },
  {
   "cell_type": "code",
   "execution_count": null,
   "id": "ebaedc96",
   "metadata": {},
   "outputs": [],
   "source": [
    "# get an example\n",
    "\n",
    "run = 379355\n",
    "lumi = 21\n",
    "subsystem = \"BPix1\"\n",
    "key = str(run) + '_' + str(lumi)\n",
    "\n",
    "automask_map = automask_to_map(automask_info[key][subsystem], subsystem=subsystem)\n",
    "title = f'Automask for run {run}, LS {lumi}'\n",
    "fig, ax = plottools.plot_hist_2d(automask_map, figsize=(12,6), title=title, titlesize=15,\n",
    "                xaxtitle=None, xaxtitlesize=None, yaxtitle=None, yaxtitlesize=None,\n",
    "                ticklabelsize=12, colorticklabelsize=12, extent=None, aspect=None, caxrange=(0,1),\n",
    "                docolorbar=True, caxtitle='Mask', caxtitlesize=15, caxtitleoffset=15,\n",
    "                origin='lower')"
   ]
  },
  {
   "cell_type": "code",
   "execution_count": null,
   "id": "7ee3f123",
   "metadata": {},
   "outputs": [],
   "source": [
    "# get the number of automasked channels over time\n",
    "\n",
    "num_masked_channels = {}\n",
    "subsystems = [\"BPix1\", \"BPix2\", \"BPix3\", \"BPix4\"]\n",
    "#subsystems = [\"BPix2\"]\n",
    "for subsystem in subsystems:\n",
    "    print(f'Calculating system {subsystem}...', end='\\r')\n",
    "    num_masked_channels[subsystem] = {key: np.sum(automask_to_map(automask_info[key][subsystem], subsystem=subsystem)) for key in automask_info.keys()}"
   ]
  },
  {
   "cell_type": "code",
   "execution_count": null,
   "id": "16dac5d5",
   "metadata": {},
   "outputs": [],
   "source": [
    "# make a plot of the above\n",
    "\n",
    "# define colors\n",
    "colors = {\n",
    "    \"BPix1\": \"mediumblue\",\n",
    "    \"BPix2\": \"cornflowerblue\",\n",
    "    \"BPix3\": \"blueviolet\",\n",
    "    \"BPix4\": \"violet\"\n",
    "}\n",
    "\n",
    "# as a function of time\n",
    "xax = np.arange(len(num_masked_channels[subsystems[0]]))\n",
    "fig,ax = plt.subplots(figsize=(18,6))\n",
    "\n",
    "for subsystem in subsystems:\n",
    "    values = np.array(list(num_masked_channels[subsystem].values()))\n",
    "    ax.plot(xax, values, label=subsystem, color=colors[subsystem], alpha=0.5)\n",
    "    \n",
    "ax.set_xlabel('Automask timestamp (per minute)', fontsize=15)\n",
    "ax.set_ylabel('Number of automasked channels', fontsize=15)\n",
    "ax.set_yscale('log')\n",
    "ax.grid(which='both')\n",
    "ax.legend(fontsize=15)\n",
    "\n",
    "# distribution\n",
    "bins = np.linspace(-0.5, 100.5, num=102)\n",
    "print(bins)\n",
    "fig,ax = plt.subplots(figsize=(12,6))\n",
    "\n",
    "for subsystem in subsystems:\n",
    "    values = np.array(list(num_masked_channels[subsystem].values()))\n",
    "    ax.hist(values, bins=bins, label=subsystem, color=colors[subsystem], histtype='step', linewidth=2)\n",
    "    \n",
    "ax.set_xlabel('Number of automasked channels', fontsize=15)\n",
    "ax.set_ylabel('Number of automask timestamps', fontsize=15)\n",
    "ax.set_yscale('log')\n",
    "ax.grid(which='both')\n",
    "ax.legend(fontsize=15)"
   ]
  },
  {
   "cell_type": "code",
   "execution_count": null,
   "id": "f5633f7e",
   "metadata": {},
   "outputs": [],
   "source": [
    "# find lumisections with a high number of masked channels\n",
    "\n",
    "subsystem = 'BPix1'\n",
    "threshold = 100\n",
    "\n",
    "keys = np.array(list(num_masked_channels[subsystem].keys()))\n",
    "values = np.array(list(num_masked_channels[subsystem].values()))\n",
    "ids = np.nonzero(values > threshold)[0]\n",
    "keys = keys[ids]\n",
    "print(len(keys))\n",
    "print(keys[:10])"
   ]
  },
  {
   "cell_type": "code",
   "execution_count": null,
   "id": "4cbfa7ff",
   "metadata": {},
   "outputs": [],
   "source": []
  }
 ],
 "metadata": {
  "@webio": {
   "lastCommId": null,
   "lastKernelId": null
  },
  "kernelspec": {
   "display_name": "Python 3",
   "language": "python",
   "name": "python3"
  },
  "language_info": {
   "codemirror_mode": {
    "name": "ipython",
    "version": 3
   },
   "file_extension": ".py",
   "mimetype": "text/x-python",
   "name": "python",
   "nbconvert_exporter": "python",
   "pygments_lexer": "ipython3",
   "version": "3.11.9"
  }
 },
 "nbformat": 4,
 "nbformat_minor": 5
}
