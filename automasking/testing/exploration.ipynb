{
 "cells": [
  {
   "cell_type": "code",
   "execution_count": null,
   "id": "4ff01e39",
   "metadata": {},
   "outputs": [],
   "source": [
    "### imports\n",
    "\n",
    "# external modules\n",
    "import os\n",
    "import sys\n",
    "import json\n",
    "import glob\n",
    "import numpy as np\n",
    "import matplotlib.pyplot as plt\n",
    "import importlib\n",
    "\n",
    "# local modules\n",
    "thisdir = os.getcwd()\n",
    "topdir = os.path.abspath(os.path.join(thisdir, '../../'))\n",
    "sys.path.append(topdir)\n",
    "\n",
    "from automasking.tools.automask_file_parsing import automask_to_map\n",
    "import plotting.plottools as plottools\n",
    "import tools.iotools as iotools\n",
    "import tools.dftools as dftools"
   ]
  },
  {
   "cell_type": "code",
   "execution_count": null,
   "id": "575e8c17",
   "metadata": {},
   "outputs": [],
   "source": [
    "# read automasks from json file\n",
    "\n",
    "automask_data_dir = '../data/automask_data'\n",
    "automask_data_file = os.path.join(automask_data_dir, f'automask_2024.json')\n",
    "\n",
    "with open(automask_data_file, 'r') as f:\n",
    "    automask_info = json.load(f)"
   ]
  },
  {
   "cell_type": "code",
   "execution_count": null,
   "id": "357766be",
   "metadata": {},
   "outputs": [],
   "source": [
    "# get the number of automasked channels over time\n",
    "\n",
    "num_masked_channels = {}\n",
    "subsystems = [\"BPix1\", \"BPix2\", \"BPix3\", \"BPix4\"]\n",
    "#subsystems = [\"BPix2\"]\n",
    "for subsystem in subsystems:\n",
    "    print(f'Calculating system {subsystem}...', end='\\r')\n",
    "    num_masked_channels[subsystem] = {key: np.sum(automask_to_map(automask_info[key][subsystem], subsystem=subsystem)) for key in automask_info.keys()}"
   ]
  },
  {
   "cell_type": "code",
   "execution_count": null,
   "id": "196cb63e",
   "metadata": {},
   "outputs": [],
   "source": [
    "# make a plot of the above\n",
    "\n",
    "# define colors\n",
    "colors = {\n",
    "    \"BPix1\": \"mediumblue\",\n",
    "    \"BPix2\": \"cornflowerblue\",\n",
    "    \"BPix3\": \"blueviolet\",\n",
    "    \"BPix4\": \"violet\"\n",
    "}\n",
    "\n",
    "# as a function of time\n",
    "xax = np.arange(len(num_masked_channels[subsystems[0]]))\n",
    "fig,ax = plt.subplots(figsize=(18,6))\n",
    "\n",
    "for subsystem in subsystems:\n",
    "    values = np.array(list(num_masked_channels[subsystem].values()))\n",
    "    ax.plot(xax, values, label=subsystem, color=colors[subsystem], alpha=0.5)\n",
    "    \n",
    "ax.set_xlabel('Automask timestamp (per minute)', fontsize=15)\n",
    "ax.set_ylabel('Number of automasked channels', fontsize=15)\n",
    "ax.set_yscale('log')\n",
    "ax.grid(which='both')\n",
    "ax.legend(fontsize=15)\n",
    "\n",
    "# distribution\n",
    "bins = np.linspace(-0.5, 100.5, num=102)\n",
    "print(bins)\n",
    "fig,ax = plt.subplots(figsize=(12,6))\n",
    "\n",
    "for subsystem in subsystems:\n",
    "    values = np.array(list(num_masked_channels[subsystem].values()))\n",
    "    ax.hist(values, bins=bins, label=subsystem, color=colors[subsystem], histtype='step', linewidth=2)\n",
    "    \n",
    "ax.set_xlabel('Number of automasked channels', fontsize=15)\n",
    "ax.set_ylabel('Number of automask timestamps', fontsize=15)\n",
    "ax.set_yscale('log')\n",
    "ax.grid(which='both')\n",
    "ax.legend(fontsize=15)"
   ]
  },
  {
   "cell_type": "code",
   "execution_count": null,
   "id": "55153307",
   "metadata": {},
   "outputs": [],
   "source": [
    "# find lumisections with a high number of masked channels\n",
    "\n",
    "subsystem = 'BPix1'\n",
    "threshold = 100\n",
    "\n",
    "keys = np.array(list(num_masked_channels[subsystem].keys()))\n",
    "values = np.array(list(num_masked_channels[subsystem].values()))\n",
    "ids = np.nonzero(values > threshold)[0]\n",
    "keys = keys[ids]\n",
    "print(len(keys))\n",
    "print(keys[:10])"
   ]
  },
  {
   "cell_type": "code",
   "execution_count": null,
   "id": "8121c86e",
   "metadata": {},
   "outputs": [],
   "source": []
  }
 ],
 "metadata": {
  "@webio": {
   "lastCommId": null,
   "lastKernelId": null
  },
  "kernelspec": {
   "display_name": "Python 3",
   "language": "python",
   "name": "python3"
  },
  "language_info": {
   "codemirror_mode": {
    "name": "ipython",
    "version": 3
   },
   "file_extension": ".py",
   "mimetype": "text/x-python",
   "name": "python",
   "nbconvert_exporter": "python",
   "pygments_lexer": "ipython3",
   "version": "3.11.9"
  }
 },
 "nbformat": 4,
 "nbformat_minor": 5
}
