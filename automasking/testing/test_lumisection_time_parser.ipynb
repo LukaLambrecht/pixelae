{
 "cells": [
  {
   "cell_type": "code",
   "execution_count": null,
   "id": "f16eab75",
   "metadata": {},
   "outputs": [],
   "source": [
    "### imports\n",
    "\n",
    "# external modules\n",
    "import os\n",
    "import sys\n",
    "import json\n",
    "import numpy as np\n",
    "from fnmatch import fnmatch\n",
    "import importlib\n",
    "\n",
    "# local modules\n",
    "thisdir = os.getcwd()\n",
    "topdir = os.path.abspath(os.path.join(thisdir, '../../'))\n",
    "sys.path.append(topdir)\n",
    "\n",
    "import automasking.tools.lumisection_time_parser as lumisection_time_parser\n",
    "importlib.reload(lumisection_time_parser)"
   ]
  },
  {
   "cell_type": "code",
   "execution_count": null,
   "id": "23430324",
   "metadata": {},
   "outputs": [],
   "source": [
    "# make time parser instance\n",
    "\n",
    "jsonfile = '../data/oms_data/omsdata_lumisection_timestamps_2024.json'\n",
    "ltp = lumisection_time_parser.LumisectionTimeParser(jsonfile)"
   ]
  },
  {
   "cell_type": "code",
   "execution_count": null,
   "id": "87bb609d",
   "metadata": {},
   "outputs": [],
   "source": [
    "# try a few cases of time to lumisection\n",
    "\n",
    "t = 20240403192820 # just before first lumisection\n",
    "#print(ltp.get_lumi(t))\n",
    "\n",
    "t = 20241104092411 # just after last lumisection\n",
    "#print(ltp.get_lumi(t))\n",
    "\n",
    "t = 20240520081509 # in between runs\n",
    "print(ltp.get_lumi(t))\n",
    "# note: does not give error as additional lumisections are created by OMS\n",
    "# even though the data-taking has stopped.\n",
    "\n",
    "t = 20240520081053 # run 380945, LS 236\n",
    "print(ltp.get_lumi(t))"
   ]
  },
  {
   "cell_type": "code",
   "execution_count": null,
   "id": "901ce175",
   "metadata": {},
   "outputs": [],
   "source": []
  }
 ],
 "metadata": {
  "@webio": {
   "lastCommId": null,
   "lastKernelId": null
  },
  "kernelspec": {
   "display_name": "Python 3",
   "language": "python",
   "name": "python3"
  },
  "language_info": {
   "codemirror_mode": {
    "name": "ipython",
    "version": 3
   },
   "file_extension": ".py",
   "mimetype": "text/x-python",
   "name": "python",
   "nbconvert_exporter": "python",
   "pygments_lexer": "ipython3",
   "version": "3.11.9"
  }
 },
 "nbformat": 4,
 "nbformat_minor": 5
}
