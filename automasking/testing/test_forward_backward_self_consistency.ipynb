{
 "cells": [
  {
   "cell_type": "code",
   "execution_count": null,
   "id": "f16eab75",
   "metadata": {},
   "outputs": [],
   "source": [
    "### imports\n",
    "\n",
    "# external modules\n",
    "import os\n",
    "import sys\n",
    "import glob\n",
    "import json\n",
    "import numpy as np\n",
    "import tarfile as tar\n",
    "import importlib\n",
    "\n",
    "# local modules\n",
    "thisdir = os.getcwd()\n",
    "topdir = os.path.abspath(os.path.join(thisdir, '../../'))\n",
    "sys.path.append(topdir)\n",
    "\n",
    "import automasking.tools.automask_file_parsing\n",
    "importlib.reload(automasking.tools.automask_file_parsing)\n",
    "import automasking.tools.automask_operations\n",
    "importlib.reload(automasking.tools.automask_operations)\n",
    "from automasking.tools.automask_file_parsing import get_automask_descriptions_from_txt\n",
    "from automasking.tools.automask_file_parsing import get_automask_from_description\n",
    "from automasking.tools.automask_file_parsing import get_automask_from_txt\n",
    "from automasking.tools.automask_file_parsing import automask_to_map\n",
    "from automasking.tools.automask_file_parsing import map_to_automask\n",
    "from automasking.tools.automask_file_parsing import automask_to_description\n",
    "from automasking.tools.automask_file_parsing import get_automask_from_tarfile\n",
    "from automasking.tools.automask_operations import simplify_automask"
   ]
  },
  {
   "cell_type": "markdown",
   "id": "4fa55103",
   "metadata": {},
   "source": [
    "**Part 1: test on a single example file**"
   ]
  },
  {
   "cell_type": "code",
   "execution_count": null,
   "id": "35f24094",
   "metadata": {},
   "outputs": [],
   "source": [
    "# find and read an example tar file\n",
    "\n",
    "tarfile_idx = 135\n",
    "txtfile_idx = 10\n",
    "\n",
    "# find a tar file\n",
    "inputdir = '/eos/project-m/mlplayground/public/PixelAutomasking/PixelAutoMasking/2024'\n",
    "pattern = os.path.join(inputdir, '**/*.tar.xz')\n",
    "tarfiles = glob.glob(pattern, recursive=True)\n",
    "print(f'Found {len(tarfiles)} tar files in {inputdir}.')\n",
    "tarfile = tarfiles[tarfile_idx]\n",
    "\n",
    "# read it\n",
    "with tar.open(tarfile) as f:\n",
    "    # pick one of its members\n",
    "    print(f'Found {len(f.getnames())} elements in {tarfile}.')\n",
    "    name = f.getnames()[txtfile_idx]\n",
    "    member = f.getmembers()[txtfile_idx]\n",
    "    memberf = f.extractfile(member)\n",
    "    content = memberf.readlines()\n",
    "    content = [l.decode('utf-8') for l in content]\n",
    "    \n",
    "# print contents\n",
    "print('Found following content:')\n",
    "for line in content: print(line.strip('\\n'))"
   ]
  },
  {
   "cell_type": "code",
   "execution_count": null,
   "id": "f59cdf7f",
   "metadata": {},
   "outputs": [],
   "source": [
    "# get the automask descriptions\n",
    "\n",
    "automask_descriptions = get_automask_descriptions_from_txt(content)\n",
    "automask_descriptions = [d for d in automask_descriptions if not d.startswith('FPix')] # filter out since not implemented yet\n",
    "for automask_description in automask_descriptions: print(automask_description)"
   ]
  },
  {
   "cell_type": "code",
   "execution_count": null,
   "id": "28c98c6f",
   "metadata": {},
   "outputs": [],
   "source": [
    "# get the automasks in ladder/module/ROC coordinates\n",
    "\n",
    "automasks = [get_automask_from_description(d) for d in automask_descriptions]\n",
    "for d, m in zip(automask_descriptions, automasks):\n",
    "    print(f'{d} -> {m}')"
   ]
  },
  {
   "cell_type": "code",
   "execution_count": null,
   "id": "ab343273",
   "metadata": {},
   "outputs": [],
   "source": [
    "# same as above but group per layer\n",
    "\n",
    "automasks = get_automask_from_txt(content)\n",
    "print(json.dumps(automasks))"
   ]
  },
  {
   "cell_type": "code",
   "execution_count": null,
   "id": "b03299e9",
   "metadata": {},
   "outputs": [],
   "source": [
    "# get maps\n",
    "\n",
    "automask_maps = {key: automask_to_map(val, subsystem=key) for key,val in automasks.items()}"
   ]
  },
  {
   "cell_type": "code",
   "execution_count": null,
   "id": "8e093f98",
   "metadata": {},
   "outputs": [],
   "source": [
    "# convert maps back to ladder/module/ROC coordinates\n",
    "\n",
    "automasks_check = {key: map_to_automask(val) for key,val in automask_maps.items()}\n",
    "print(automasks_check)"
   ]
  },
  {
   "cell_type": "code",
   "execution_count": null,
   "id": "eaeb4a62",
   "metadata": {},
   "outputs": [],
   "source": [
    "# convert back to description\n",
    "\n",
    "descriptions_check = []\n",
    "for key, val in automasks_check.items():\n",
    "    layer = int(key[-1])\n",
    "    for automask in val:\n",
    "        automask = [layer] + automask\n",
    "        descriptions_check.append(automask_to_description(automask))\n",
    "print('Originals:')\n",
    "for automask_description in automask_descriptions: print(automask_description)\n",
    "print('Check:')\n",
    "for d in descriptions_check: print(d)"
   ]
  },
  {
   "cell_type": "markdown",
   "id": "0a436529",
   "metadata": {},
   "source": [
    "**Part 2: check self-consistency on everything**"
   ]
  },
  {
   "cell_type": "code",
   "execution_count": null,
   "id": "76028e62",
   "metadata": {},
   "outputs": [],
   "source": [
    "# find and sort all tar files\n",
    "\n",
    "# set input directory\n",
    "inputdir = '/eos/project-m/mlplayground/public/PixelAutomasking/PixelAutoMasking/2024'\n",
    "\n",
    "# find all .tar.xz files recursively\n",
    "pattern = os.path.join(inputdir, '**/*.tar.xz')\n",
    "tarfiles = glob.glob(pattern, recursive=True)\n",
    "print(f'Found {len(tarfiles)} tar files in {inputdir}.')\n",
    "\n",
    "# sort them according to date\n",
    "tarfiles.sort(key=lambda x: os.path.basename(x))"
   ]
  },
  {
   "cell_type": "code",
   "execution_count": null,
   "id": "20edcd11",
   "metadata": {},
   "outputs": [],
   "source": [
    "# perform self-consistency check on all files\n",
    "\n",
    "# initialize some counters\n",
    "num_timestamps = 0\n",
    "num_automasked_rocs = 0\n",
    "\n",
    "# loop over files\n",
    "for idx, tarfile in enumerate(tarfiles[:10]):\n",
    "    print(f'Checking tar file {idx+1} / {len(tarfiles)}...', end='\\r')\n",
    "    \n",
    "    # read automasks\n",
    "    automask_info = get_automask_from_tarfile(tarfile)\n",
    "    \n",
    "    # loop over timestamps\n",
    "    for timestamp, automasks_dict in automask_info.items():\n",
    "        num_timestamps += 1\n",
    "        \n",
    "        # loop over pixel layers\n",
    "        for pxlayer, automasks in automasks_dict.items():\n",
    "            \n",
    "            # convert automask to map\n",
    "            automask_map = automask_to_map(automasks, subsystem=pxlayer)\n",
    "            num_automasked_rocs += np.sum(automask_map.astype(int))\n",
    "        \n",
    "            # convert back\n",
    "            automasks_check = map_to_automask(automask_map)\n",
    "        \n",
    "            # check if they are equal\n",
    "            automasks_formatted = sorted(simplify_automask(automasks))\n",
    "            automasks_check_formatted = sorted(automasks_check)\n",
    "            if automasks_formatted != automasks_check_formatted:\n",
    "                print(f'WARNING: found discrepancy in {tarfile}, {timestamp}, {pxlayer}:')\n",
    "                print(f'  {automasks} (-> {automasks_formatted})')\n",
    "                print(f'  {automasks_check} (-> {automasks_check_formatted})')\n",
    "\n",
    "# print the results\n",
    "print(f'Checked {num_timestamps} automask files.')\n",
    "print(f'Checked {num_automasked_rocs} automasked ROCs.')"
   ]
  }
 ],
 "metadata": {
  "@webio": {
   "lastCommId": null,
   "lastKernelId": null
  },
  "kernelspec": {
   "display_name": "Python 3",
   "language": "python",
   "name": "python3"
  },
  "language_info": {
   "codemirror_mode": {
    "name": "ipython",
    "version": 3
   },
   "file_extension": ".py",
   "mimetype": "text/x-python",
   "name": "python",
   "nbconvert_exporter": "python",
   "pygments_lexer": "ipython3",
   "version": "3.11.9"
  }
 },
 "nbformat": 4,
 "nbformat_minor": 5
}
