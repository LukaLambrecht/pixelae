{
 "cells": [
  {
   "cell_type": "code",
   "execution_count": null,
   "id": "f16eab75",
   "metadata": {},
   "outputs": [],
   "source": [
    "### imports\n",
    "\n",
    "# external modules\n",
    "import os\n",
    "import sys\n",
    "import json\n",
    "import glob\n",
    "import tarfile as tar\n",
    "import numpy as np\n",
    "from fnmatch import fnmatch\n",
    "import matplotlib.pyplot as plt\n",
    "import importlib\n",
    "\n",
    "# local modules\n",
    "thisdir = os.getcwd()\n",
    "topdir = os.path.abspath(os.path.join(thisdir, '../'))\n",
    "sys.path.append(topdir)\n",
    "\n",
    "from automasking.tools.lumisection_time_parser import LumisectionTimeParser\n",
    "from automasking.tools.automask_file_parsing import get_automask_from_tarfiles\n",
    "from automasking.tools.automask_file_parsing import automask_to_map\n",
    "import plotting.plottools as plottools"
   ]
  },
  {
   "cell_type": "code",
   "execution_count": null,
   "id": "76028e62",
   "metadata": {},
   "outputs": [],
   "source": [
    "# find and sort all tar files\n",
    "\n",
    "# set input directory\n",
    "inputdir = '/eos/project-m/mlplayground/public/PixelAutomasking/PixelAutoMasking/2024'\n",
    "\n",
    "# find all .tar.xz files recursively\n",
    "pattern = os.path.join(inputdir, '**/*.tar.xz')\n",
    "tarfiles = glob.glob(pattern, recursive=True)\n",
    "print(f'Found {len(tarfiles)} tar files in {inputdir}.')\n",
    "\n",
    "# sort them according to date\n",
    "tarfiles.sort(key=lambda x: os.path.basename(x))\n",
    "for f in tarfiles[:10]: print(f'  - {f}')"
   ]
  },
  {
   "cell_type": "code",
   "execution_count": null,
   "id": "a5bc1f28",
   "metadata": {},
   "outputs": [],
   "source": [
    "# make time parser instance\n",
    "\n",
    "jsonfile = 'data/oms_data/omsdata_lumisection_timestamps_2024.json'\n",
    "ltp = LumisectionTimeParser(jsonfile)"
   ]
  },
  {
   "cell_type": "code",
   "execution_count": null,
   "id": "20edcd11",
   "metadata": {},
   "outputs": [],
   "source": [
    "# get automask\n",
    "\n",
    "automask_info = get_automask_from_tarfiles(tarfiles, ltp=ltp)"
   ]
  },
  {
   "cell_type": "code",
   "execution_count": null,
   "id": "5a17a8cf",
   "metadata": {},
   "outputs": [],
   "source": [
    "# write to json file\n",
    "\n",
    "outputdir = 'data/automask_data'\n",
    "if not os.path.exists(outputdir): os.makedirs(outputdir)\n",
    "outputfile = os.path.join(outputdir, f'automask_2024.json')\n",
    "with open(outputfile, 'w') as f:\n",
    "    json.dump(automask_info, f)"
   ]
  }
 ],
 "metadata": {
  "@webio": {
   "lastCommId": null,
   "lastKernelId": null
  },
  "kernelspec": {
   "display_name": "Python 3",
   "language": "python",
   "name": "python3"
  },
  "language_info": {
   "codemirror_mode": {
    "name": "ipython",
    "version": 3
   },
   "file_extension": ".py",
   "mimetype": "text/x-python",
   "name": "python",
   "nbconvert_exporter": "python",
   "pygments_lexer": "ipython3",
   "version": "3.11.9"
  }
 },
 "nbformat": 4,
 "nbformat_minor": 5
}
