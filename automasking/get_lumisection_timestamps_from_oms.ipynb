{
 "cells": [
  {
   "cell_type": "code",
   "execution_count": null,
   "id": "f16eab75",
   "metadata": {},
   "outputs": [],
   "source": [
    "### imports\n",
    "\n",
    "# external modules\n",
    "import os\n",
    "import sys\n",
    "import json\n",
    "import numpy as np\n",
    "from fnmatch import fnmatch\n",
    "import importlib\n",
    "\n",
    "# local modules\n",
    "thisdir = os.getcwd()\n",
    "topdir = os.path.abspath(os.path.join(thisdir, '../'))\n",
    "sys.path.append(topdir)\n",
    "\n",
    "import tools.iotools as iotools\n",
    "import tools.dftools as dftools\n",
    "import tools.omstools as omstools\n",
    "from tools.omsapi.get_oms_data import get_oms_api\n",
    "from tools.omsapi.get_oms_data import get_oms_data\n",
    "from tools.omsapi.get_oms_data import get_oms_response_attribute\n",
    "from tools.omsapi.get_oms_data import get_oms_response_attributes\n",
    "from tools.omsapi.examples import get_lumisection_info"
   ]
  },
  {
   "cell_type": "code",
   "execution_count": null,
   "id": "23430324",
   "metadata": {},
   "outputs": [],
   "source": [
    "# get the omsapi instance\n",
    "\n",
    "omsapi = get_oms_api()"
   ]
  },
  {
   "cell_type": "code",
   "execution_count": null,
   "id": "0ecb682b",
   "metadata": {},
   "outputs": [],
   "source": [
    "# find runs that are present in the DQMIO data (for filtering the OMS response)\n",
    "\n",
    "# define settings for which files to retrieve the run numbers from\n",
    "datadir = '/eos/user/l/llambrec/dialstools-output'\n",
    "dataset = 'ZeroBias'\n",
    "reco = 'PromptReco'\n",
    "me = 'PixelPhase1-Phase1_MechanicalView-PXBarrel-clusters_per_SignedModuleCoord_per_SignedLadderCoord_PXLayer_1'\n",
    "\n",
    "# find files corresponding to settings\n",
    "filepattern = f'{dataset}-Run*-{reco}-*-DQMIO-{me}.parquet'\n",
    "files = sorted([os.path.join(datadir, f) for f in os.listdir(datadir) if fnmatch(f, filepattern)])\n",
    "\n",
    "# retrieve run numbers\n",
    "dqmio_runs = []\n",
    "print(f'Reading {len(files)} files for retrieving run numbers...')\n",
    "for f in files:\n",
    "    df = iotools.read_parquet(f, columns=['run_number'])\n",
    "    run_numbers = dftools.get_runs(df, runcolumn='run_number')\n",
    "    dqmio_runs += run_numbers\n",
    "dqmio_runs = sorted(list(set(dqmio_runs)))\n",
    "dqmio_runs = np.array(dqmio_runs).astype(int)\n",
    "print(f'Found {len(dqmio_runs)} runs.')"
   ]
  },
  {
   "cell_type": "code",
   "execution_count": null,
   "id": "8cf61591",
   "metadata": {},
   "outputs": [],
   "source": [
    "# find out which attributes are available per lumisection\n",
    "\n",
    "runnb = 378142 # dummy run, should not matter\n",
    "ls_info = get_oms_data( omsapi, 'lumisections', runnb )\n",
    "available_attributes = sorted(list(get_oms_response_attributes(ls_info)))\n",
    "print(available_attributes)"
   ]
  },
  {
   "cell_type": "code",
   "execution_count": null,
   "id": "de2514c0",
   "metadata": {},
   "outputs": [],
   "source": [
    "# define attributes to retrieve\n",
    "\n",
    "attributes = [\n",
    "    'start_time',\n",
    "    'end_time',\n",
    "    'run_number',\n",
    "    'lumisection_number',\n",
    "]\n",
    "\n",
    "# quick check\n",
    "for attribute in attributes:\n",
    "    if attribute not in available_attributes:\n",
    "        print(f'WARNING: attribute {attribute} does not seem to be available.')"
   ]
  },
  {
   "cell_type": "code",
   "execution_count": null,
   "id": "93e005c8",
   "metadata": {},
   "outputs": [],
   "source": [
    "# set run range (maybe later split per era?)\n",
    "\n",
    "runrange = (378142, 387721)"
   ]
  },
  {
   "cell_type": "code",
   "execution_count": null,
   "id": "fcb6e970",
   "metadata": {},
   "outputs": [],
   "source": [
    "# get the data from OMS\n",
    "\n",
    "ls_info = get_lumisection_info(omsapi, runrange, attributes, run_filter=dqmio_runs)"
   ]
  },
  {
   "cell_type": "code",
   "execution_count": null,
   "id": "6cbdbd06",
   "metadata": {},
   "outputs": [],
   "source": [
    "# save to json files\n",
    "\n",
    "outputdir = 'omsdata'\n",
    "if not os.path.exists(outputdir): os.makedirs(outputdir)\n",
    "outputfile = os.path.join(outputdir, 'omsdata_lumisection_timestamps.json')\n",
    "with open(outputfile, 'w') as f:\n",
    "    json.dump(ls_info, f)\n",
    "print(f'Created file {outputfile}')"
   ]
  }
 ],
 "metadata": {
  "@webio": {
   "lastCommId": null,
   "lastKernelId": null
  },
  "kernelspec": {
   "display_name": "Python 3",
   "language": "python",
   "name": "python3"
  },
  "language_info": {
   "codemirror_mode": {
    "name": "ipython",
    "version": 3
   },
   "file_extension": ".py",
   "mimetype": "text/x-python",
   "name": "python",
   "nbconvert_exporter": "python",
   "pygments_lexer": "ipython3",
   "version": "3.11.9"
  }
 },
 "nbformat": 4,
 "nbformat_minor": 5
}
