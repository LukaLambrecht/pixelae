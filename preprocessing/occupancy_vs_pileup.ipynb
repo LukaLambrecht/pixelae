{
 "cells": [
  {
   "cell_type": "code",
   "execution_count": null,
   "id": "ebca4316",
   "metadata": {},
   "outputs": [],
   "source": [
    "# imports\n",
    "\n",
    "# external modules\n",
    "import sys\n",
    "import os\n",
    "import json\n",
    "import numpy as np\n",
    "import pandas as pd\n",
    "import matplotlib as mpl\n",
    "import matplotlib.pyplot as plt\n",
    "import importlib\n",
    "\n",
    "# local modules\n",
    "import omstools\n",
    "importlib.reload(omstools)"
   ]
  },
  {
   "cell_type": "code",
   "execution_count": null,
   "id": "3fda5844",
   "metadata": {},
   "outputs": [],
   "source": [
    "# load occupancy\n",
    "\n",
    "mes = ({\n",
    "    'PXDisk_+1': 'PixelPhase1-Tracks-PXForward-clusterposition_xy_ontrack_PXDisk_+1',\n",
    "    'PXDisk_+2': 'PixelPhase1-Tracks-PXForward-clusterposition_xy_ontrack_PXDisk_+2',\n",
    "    'PXDisk_+3': 'PixelPhase1-Tracks-PXForward-clusterposition_xy_ontrack_PXDisk_+3',\n",
    "    'PXDisk_-1': 'PixelPhase1-Tracks-PXForward-clusterposition_xy_ontrack_PXDisk_-1',\n",
    "    'PXDisk_-2': 'PixelPhase1-Tracks-PXForward-clusterposition_xy_ontrack_PXDisk_-2',\n",
    "    'PXDisk_-3': 'PixelPhase1-Tracks-PXForward-clusterposition_xy_ontrack_PXDisk_-3'\n",
    "})\n",
    "eras = ([\n",
    "    'Run2023C-PromptReco-v1',\n",
    "    'Run2023C-PromptReco-v2',\n",
    "    'Run2023C-PromptReco-v3',\n",
    "    'Run2023C-PromptReco-v4',\n",
    "    'Run2023D-PromptReco-v1',\n",
    "    'Run2023D-PromptReco-v2',\n",
    "    'Run2023E-PromptReco-v1',\n",
    "    'Run2023F-PromptReco-v1',\n",
    "])\n",
    "\n",
    "info = {}\n",
    "for era in eras:\n",
    "    info[era] = {}\n",
    "    for melabel, mename in mes.items():\n",
    "        fname = '../data/data/ZeroBias-{}-DQMIO-{}.parquet'.format(era, mename)\n",
    "        df = pd.read_parquet(fname, columns=['fromrun', 'fromlumi', 'entries'])\n",
    "        runs = np.array(df['fromrun'])\n",
    "        lumis = np.array(df['fromlumi'])\n",
    "        entries = np.array(df['entries'])\n",
    "        info[era][melabel] = {'runs': runs, 'lumis': lumis, 'entries': entries}"
   ]
  },
  {
   "cell_type": "code",
   "execution_count": null,
   "id": "3359cb53",
   "metadata": {},
   "outputs": [],
   "source": [
    "# load oms json\n",
    "\n",
    "omsjsons = {}\n",
    "for era in eras:\n",
    "    omsfile = 'omsdata/omsdata_{}.json'.format(era.replace('-PromptReco-','-'))\n",
    "    if '2023E' in era: omsfile = omsfile.replace('-v1', '')\n",
    "    if '2023F' in era: omsfile = omsfile.replace('-v1', '')\n",
    "    with open(omsfile, 'r') as f:\n",
    "        omsjsons[era] = json.load(f)"
   ]
  },
  {
   "cell_type": "code",
   "execution_count": null,
   "id": "a3a727cb",
   "metadata": {},
   "outputs": [],
   "source": [
    "# define help functions for plotting\n",
    "\n",
    "def occupancy_scatter_plot(info, omsattr, mes, eras, \n",
    "                           xaxlabel='auto', yaxlabel='Occupancy',\n",
    "                           ymax=None, normalize=False):\n",
    "    # define colors\n",
    "    cmap = mpl.colormaps['viridis']\n",
    "    colors = [cmap(i) for i in np.linspace(0., 1., num=len(eras), endpoint=True)]\n",
    "    if len(eras)==1: colors = ['b']\n",
    "    # initialize figure\n",
    "    fig, axs = plt.subplots(nrows=2, ncols=3, figsize=(18,6), squeeze=False)\n",
    "    axs = axs.flatten()\n",
    "    for meidx, melabel in enumerate(mes.keys()):\n",
    "        ax = axs[meidx]\n",
    "        for eraidx, era in enumerate(eras):\n",
    "            runs = info[era][melabel]['runs']\n",
    "            lumis = info[era][melabel]['lumis']\n",
    "            entries = info[era][melabel]['entries']\n",
    "            values = omstools.find_oms_attr_for_lumisections(runs, lumis, omsjsons[era], omsattr)\n",
    "            if normalize: entries = np.divide(entries, np.where(values>0, values, 1))\n",
    "            ax.scatter(values, entries, s=1, alpha=0.25, color=colors[eraidx])\n",
    "            if len(eras)==1: ax.text(0.05, 0.95, era + ', ' + melabel, va='top', transform=ax.transAxes, fontsize=12)\n",
    "        if xaxlabel=='auto': xaxlabel = omsattr\n",
    "        ax.set_xlabel(xaxlabel, fontsize=15)\n",
    "        ax.set_ylabel(yaxlabel, fontsize=15)\n",
    "        if ymax is not None: ax.set_ylim((0, ymax))\n",
    "        fig.subplots_adjust(bottom=-0.2, left=-0.2)\n",
    "    return fig, axs"
   ]
  },
  {
   "cell_type": "code",
   "execution_count": null,
   "id": "2b9d515c",
   "metadata": {},
   "outputs": [],
   "source": [
    "# make plots for pileup\n",
    "\n",
    "# per era\n",
    "for era in eras:\n",
    "    fig, axs = occupancy_scatter_plot(info, 'pileup', mes, [era], xaxlabel='Pileup', yaxlabel='Occupancy')\n",
    "    \n",
    "# eras together\n",
    "fig, axs = occupancy_scatter_plot(info, 'pileup', mes, eras, xaxlabel='Pileup', yaxlabel='Occupancy', ymax=2e5)\n",
    "for idx,ax in enumerate(axs): ax.text(0.05, 0.95, 'Run 2023, ' + list(mes.keys())[idx], va='top', transform=ax.transAxes, fontsize=12)"
   ]
  },
  {
   "cell_type": "code",
   "execution_count": null,
   "id": "47958c5e",
   "metadata": {},
   "outputs": [],
   "source": [
    "# make plot for pileup with normalized occupancy\n",
    "\n",
    "fig, axs = occupancy_scatter_plot(info, 'pileup', mes, eras, xaxlabel='Pileup', yaxlabel='Occupancy', normalize=True, ymax=5e3)\n",
    "for idx,ax in enumerate(axs): ax.text(0.05, 0.95, 'Run 2023, ' + list(mes.keys())[idx], va='top', transform=ax.transAxes, fontsize=12)"
   ]
  },
  {
   "cell_type": "code",
   "execution_count": null,
   "id": "ed16c518",
   "metadata": {},
   "outputs": [],
   "source": [
    "# investigate lumisections with zero pileup and nonzero occupancy\n",
    "\n",
    "era = 'Run2023F-PromptReco-v1'\n",
    "runs = info[era][melabel]['runs']\n",
    "lumis = info[era][melabel]['lumis']\n",
    "entries = info[era][melabel]['entries']\n",
    "pileup = omstools.find_oms_attr_for_lumisections(runs, lumis, omsjsons[era], 'pileup')\n",
    "inds = np.nonzero((pileup==0) & (entries!=0))[0]\n",
    "print(len(inds))\n",
    "print(set(runs[inds]))\n",
    "for run, lumi in zip(runs[inds], lumis[inds]): print('{} {}'.format(run, lumi))\n",
    "\n",
    "# for 2023D-v1: 31 lumisections, runs 370497, 370169, 370172, 370357\n",
    "#               OMS: - isolated semi-random lumisections with \"0 pileup\", probably OMS error,\n",
    "#                      can take average of previous and next lumisection? or just filter out these lumisections?\n",
    "#                    - other cases unclear, delivered lumi and pileup are 0, but still nonzero occupancy,\n",
    "#                      maybe DAQ or trigger issues?\n",
    "# other eras: only small number of lumisections, seem to be mostly isolated semi-random OMS errors.\n",
    "# note: era 2023E has no instances zero pileup and nonzero occupancy, just very low pileup (O(0.1))"
   ]
  },
  {
   "cell_type": "code",
   "execution_count": null,
   "id": "ad81aca0",
   "metadata": {},
   "outputs": [],
   "source": [
    "# make plots for delivered lumi\n",
    "\n",
    "# per era\n",
    "for era in eras:\n",
    "    fig, axs = occupancy_scatter_plot(info, 'delivered_lumi_per_lumisection', mes, [era], \n",
    "                                      xaxlabel='Delivered luminosity per lumisection (/pb)', \n",
    "                                      yaxlabel='Occupancy')\n",
    "    \n",
    "# eras together\n",
    "fig, axs = occupancy_scatter_plot(info, 'delivered_lumi_per_lumisection', mes, eras,\n",
    "                                  xaxlabel='Delivered luminosity per lumisection (\\pb)', \n",
    "                                  yaxlabel='Occupancy', ymax=2e5)\n",
    "for idx,ax in enumerate(axs): ax.text(0.05, 0.95, 'Run 2023, ' + list(mes.keys())[idx], va='top', transform=ax.transAxes, fontsize=12)"
   ]
  },
  {
   "cell_type": "code",
   "execution_count": null,
   "id": "207616d3",
   "metadata": {},
   "outputs": [],
   "source": [
    "# make plots for recorded lumi\n",
    "\n",
    "# per era\n",
    "for era in eras:\n",
    "    fig, axs = occupancy_scatter_plot(info, 'recorded_lumi_per_lumisection', mes, [era], \n",
    "                                      xaxlabel='Recorded luminosity per lumisection (/pb)', \n",
    "                                      yaxlabel='Occupancy')\n",
    "    \n",
    "# eras together\n",
    "fig, axs = occupancy_scatter_plot(info, 'recorded_lumi_per_lumisection', mes, eras,\n",
    "                                  xaxlabel='Recorded luminosity per lumisection (\\pb)', \n",
    "                                  yaxlabel='Occupancy', ymax=2e5)\n",
    "for idx,ax in enumerate(axs): ax.text(0.05, 0.95, 'Run 2023, ' + list(mes.keys())[idx], va='top', transform=ax.transAxes, fontsize=12)"
   ]
  },
  {
   "cell_type": "code",
   "execution_count": null,
   "id": "a0580127",
   "metadata": {},
   "outputs": [],
   "source": []
  }
 ],
 "metadata": {
  "@webio": {
   "lastCommId": null,
   "lastKernelId": null
  },
  "kernelspec": {
   "display_name": "Python 3",
   "language": "python",
   "name": "python3"
  },
  "language_info": {
   "codemirror_mode": {
    "name": "ipython",
    "version": 3
   },
   "file_extension": ".py",
   "mimetype": "text/x-python",
   "name": "python",
   "nbconvert_exporter": "python",
   "pygments_lexer": "ipython3",
   "version": "3.9.12"
  }
 },
 "nbformat": 4,
 "nbformat_minor": 5
}
