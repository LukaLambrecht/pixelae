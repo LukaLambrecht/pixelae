{
 "cells": [
  {
   "cell_type": "code",
   "execution_count": null,
   "id": "f65df016",
   "metadata": {},
   "outputs": [],
   "source": [
    "# imports\n",
    "\n",
    "import sys\n",
    "import os\n",
    "import numpy as np\n",
    "import pandas as pd\n",
    "import importlib\n",
    "sys.path.append('../')\n",
    "import plotting.plottools\n",
    "importlib.reload(plotting.plottools)\n",
    "from plotting.plottools import plot_histogram\n",
    "import rebinning\n",
    "importlib.reload(rebinning)\n",
    "from rebinning import rebin_keep_zero\n",
    "import averaging\n",
    "importlib.reload(averaging)\n",
    "from averaging import average_outer_ring"
   ]
  },
  {
   "cell_type": "code",
   "execution_count": null,
   "id": "4f88acfe",
   "metadata": {},
   "outputs": [],
   "source": [
    "# get an example histograms\n",
    "\n",
    "fname = '../data/examples/ZeroBias-Run2023C-PromptReco-v1-DQMIO-PixelPhase1-Tracks-PXForward-clusterposition_xy_ontrack_PXDisk_+1.parquet'\n",
    "#fname = '../data/examples/ZeroBias-Run2023C-PromptReco-v1-DQMIO-PixelPhase1-Tracks-PXBarrel-clusterposition_zphi_ontrack_PXLayer_1.parquet'\n",
    "df = pd.read_parquet(fname)\n",
    "xbins = df['Xbins'][0]\n",
    "ybins = df['Ybins'][0]\n",
    "hists = [df['histo'][i].reshape(xbins,ybins) for i in range(3)]"
   ]
  },
  {
   "cell_type": "code",
   "execution_count": null,
   "id": "b81836ef",
   "metadata": {},
   "outputs": [],
   "source": [
    "# plot raw data\n",
    "\n",
    "for hist in hists: plot_histogram(hist)"
   ]
  },
  {
   "cell_type": "code",
   "execution_count": null,
   "id": "ae0c9cba",
   "metadata": {},
   "outputs": [],
   "source": [
    "# make average of outer rings and plot\n",
    "\n",
    "hist = hists[1]\n",
    "hist = average_outer_ring(hist, hists, radius=50)\n",
    "plot_histogram(hist)"
   ]
  },
  {
   "cell_type": "code",
   "execution_count": null,
   "id": "3dc01ac4",
   "metadata": {},
   "outputs": [],
   "source": [
    "# do rebinning\n",
    "\n",
    "rebinned_hist = rebin_keep_zero(hist, (40,40))"
   ]
  },
  {
   "cell_type": "code",
   "execution_count": null,
   "id": "c7a779dd",
   "metadata": {},
   "outputs": [],
   "source": [
    "# plot rebinned histogram\n",
    "\n",
    "plot_histogram(rebinned_hist)"
   ]
  },
  {
   "cell_type": "code",
   "execution_count": null,
   "id": "71716b13",
   "metadata": {},
   "outputs": [],
   "source": []
  }
 ],
 "metadata": {
  "@webio": {
   "lastCommId": null,
   "lastKernelId": null
  },
  "kernelspec": {
   "display_name": "Python 3",
   "language": "python",
   "name": "python3"
  },
  "language_info": {
   "codemirror_mode": {
    "name": "ipython",
    "version": 3
   },
   "file_extension": ".py",
   "mimetype": "text/x-python",
   "name": "python",
   "nbconvert_exporter": "python",
   "pygments_lexer": "ipython3",
   "version": "3.9.12"
  }
 },
 "nbformat": 4,
 "nbformat_minor": 5
}
