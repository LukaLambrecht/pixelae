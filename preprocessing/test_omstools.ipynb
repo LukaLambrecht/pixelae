{
 "cells": [
  {
   "cell_type": "code",
   "execution_count": null,
   "id": "cb334c18",
   "metadata": {},
   "outputs": [],
   "source": [
    "# imports\n",
    "\n",
    "import os\n",
    "import sys\n",
    "import json\n",
    "import importlib\n",
    "\n",
    "import omstools\n",
    "importlib.reload(omstools)"
   ]
  },
  {
   "cell_type": "code",
   "execution_count": null,
   "id": "38b2b4ba",
   "metadata": {},
   "outputs": [],
   "source": [
    "# load OMS json file\n",
    "\n",
    "omsfile = 'omsdata/omsdata_Run2023C-v1.json'\n",
    "with open(omsfile, 'r') as f:\n",
    "    omsjson = json.load(f)"
   ]
  },
  {
   "cell_type": "code",
   "execution_count": null,
   "id": "e1cb8583",
   "metadata": {},
   "outputs": [],
   "source": [
    "# define test runs and lumisections\n",
    "\n",
    "test = ([\n",
    "    (367264, 1),\n",
    "    (367264, 2),\n",
    "    (367264, 3),\n",
    "    (367264, 4),\n",
    "    (367265, 1),\n",
    "    (367265, 2),\n",
    "    (367265, 3)\n",
    "])\n",
    "\n",
    "runs = [el[0] for el in test]\n",
    "lumis = [el[1] for el in test]"
   ]
  },
  {
   "cell_type": "code",
   "execution_count": null,
   "id": "b261633b",
   "metadata": {},
   "outputs": [],
   "source": [
    "# print data from OMS json,\n",
    "# compare to values shown on OMS webpage\n",
    "\n",
    "omsattr  = 'pileup'\n",
    "omsvals = omstools.find_oms_attr_for_lumisections(runs, lumis, omsjson, omsattr)\n",
    "print(omsvals)"
   ]
  }
 ],
 "metadata": {
  "@webio": {
   "lastCommId": null,
   "lastKernelId": null
  },
  "kernelspec": {
   "display_name": "Python 3",
   "language": "python",
   "name": "python3"
  },
  "language_info": {
   "codemirror_mode": {
    "name": "ipython",
    "version": 3
   },
   "file_extension": ".py",
   "mimetype": "text/x-python",
   "name": "python",
   "nbconvert_exporter": "python",
   "pygments_lexer": "ipython3",
   "version": "3.9.12"
  }
 },
 "nbformat": 4,
 "nbformat_minor": 5
}
