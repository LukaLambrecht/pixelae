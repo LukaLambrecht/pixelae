{
 "cells": [
  {
   "cell_type": "code",
   "execution_count": null,
   "id": "8d26fa0d",
   "metadata": {},
   "outputs": [],
   "source": [
    "### imports\n",
    "\n",
    "# external modules\n",
    "import sys\n",
    "import os\n",
    "import matplotlib.pyplot as plt\n",
    "import importlib\n",
    "\n",
    "# local modules\n",
    "sys.path.append(os.path.abspath('../../ML4DQMDC-PixelAE/omsapi'))\n",
    "import get_oms_data\n",
    "importlib.reload(get_oms_data)\n",
    "from get_oms_data import get_oms_api, get_oms_data\n",
    "from get_oms_data import get_oms_response_attributes, get_oms_response_attribute\n",
    "sys.path.append(os.path.abspath('../../ML4DQMDC-PixelAE'))\n",
    "import utils.plot_utils\n",
    "importlib.reload(utils.plot_utils)\n",
    "from utils.plot_utils import plot_hists"
   ]
  },
  {
   "cell_type": "code",
   "execution_count": null,
   "id": "1d7e7060",
   "metadata": {},
   "outputs": [],
   "source": [
    "# get the omsapi instance\n",
    "\n",
    "omsapi = get_oms_api()"
   ]
  },
  {
   "cell_type": "code",
   "execution_count": null,
   "id": "48f66143",
   "metadata": {},
   "outputs": [],
   "source": [
    "# define run ranges\n",
    "\n",
    "# references:\n",
    "# - https://twiki.cern.ch/twiki/bin/view/CMS/PdmVRun3Analysis#2023_Era_definition\n",
    "# - DAS (query runs for each ZeroBias DQMIO dataset)\n",
    "eradict = {\n",
    "  'Run2023C-v1': (367080, 367515), # (DAS: start from 367094)\n",
    "  'Run2023C-v2': (367516, 367620), # (DAS: stop at 367758, but this is incorrect in DAS client, actual data does not overlap with v3)\n",
    "  'Run2023C-v3': (367621, 367763), # (DAS: start at 367622, stop at 367758)\n",
    "  'Run2023C-v4': (367765, 369802), # (DAS: start at 367770)\n",
    "  'Run2023D-v1': (369803, 370602), # (DAS: start from 369827, stop at 370580)\n",
    "  'Run2023D-v2': (370603, 372415), # (DAS: start from 370616, stop at 371227)\n",
    "  'Run2023E': (372417, 373075), # (DAS: start from 372474, stop at 373072)\n",
    "  'Run2023F': (373076, 373784) # (DAS: start from 373078, stop is from DAS as Twiki is not yet filled)\n",
    "}"
   ]
  },
  {
   "cell_type": "code",
   "execution_count": null,
   "id": "d7b3700b",
   "metadata": {},
   "outputs": [],
   "source": [
    "# find out which attributes are available per lumisection\n",
    "\n",
    "runnb = 367515 # dummy run, should not matter\n",
    "ls_info = get_oms_data( omsapi, 'lumisections', runnb )\n",
    "print( get_oms_response_attributes(ls_info) )"
   ]
  },
  {
   "cell_type": "code",
   "execution_count": null,
   "id": "25fab5cf",
   "metadata": {},
   "outputs": [],
   "source": [
    "# define attributes to retrieve\n",
    "\n",
    "attributes = [\n",
    "    'delivered_lumi_per_lumisection',\n",
    "    'recorded_lumi_per_lumisection',\n",
    "    'pileup',\n",
    "    'physics_flag',\n",
    "    'fill_number',\n",
    "    'run_number',\n",
    "    'lumisection_number',\n",
    "]"
   ]
  },
  {
   "cell_type": "code",
   "execution_count": null,
   "id": "74ab67a4",
   "metadata": {},
   "outputs": [],
   "source": [
    "# get the data from OMS\n",
    "\n",
    "def get_data_iterative(omsapi, runrange, attributes):\n",
    "    # note: the maximum allowed limit in OMS calls seems to be 100k lumisections,\n",
    "    #       but some eras have more, so need to split run range in parts.\n",
    "    limit_entries = 100000 # hard limit in OMS API\n",
    "    ls_info_probe = get_oms_data( omsapi, 'lumisections', runrange, attributes=['lumisection_number'], limit_entries=limit_entries )\n",
    "    if len(get_oms_response_attribute(ls_info_probe,'lumisection_number')) < limit_entries:\n",
    "        ls_info_raw = get_oms_data( omsapi, 'lumisections', runrange, attributes=attributes, limit_entries=limit_entries )\n",
    "        ls_info = {attribute: get_oms_response_attribute(ls_info_raw, attribute) for attribute in attributes}\n",
    "        return ls_info\n",
    "    else:\n",
    "        midrange = int((runrange[0]+runrange[1])/2)\n",
    "        firstrange = (runrange[0], midrange)\n",
    "        ls_info_1 = get_data_iterative(omsapi, firstrange, attributes)\n",
    "        secondrange = (midrange+1, runrange[1])\n",
    "        ls_info_2 = get_data_iterative(omsapi, secondrange, attributes)\n",
    "        ls_info = {attribute: ls_info_1[attribute]+ls_info_2[attribute] for attribute in attributes}\n",
    "        return ls_info\n",
    "\n",
    "info = {}\n",
    "for era, runrange in eradict.items():\n",
    "    print('Retrieving data for era {}'.format(era))\n",
    "    ls_info = get_data_iterative(omsapi, runrange, attributes)\n",
    "    print('Found {} lumisections'.format(len(ls_info[list(ls_info.keys())[0]])))\n",
    "    info[era] = ls_info"
   ]
  },
  {
   "cell_type": "code",
   "execution_count": null,
   "id": "5310cda8",
   "metadata": {},
   "outputs": [],
   "source": [
    "# make plots\n",
    "# note: the unit of luminosity per lumisection is inverse pb, as retrieved from looking at OMS tables.\n",
    "\n",
    "for era in eradict.keys():\n",
    "    fig, ax = plt.subplots(figsize=(18,6))\n",
    "    thisinfo = info[era]\n",
    "    plot_hists([thisinfo['delivered_lumi_per_lumisection'], thisinfo['recorded_lumi_per_lumisection']],\n",
    "               fig=fig, ax=ax,\n",
    "               colorlist=['b','g'],\n",
    "               labellist=['Delivered lumi', 'Recorded lumi'],\n",
    "               xaxtitle='Lumisection', xaxtitlesize=15,\n",
    "               yaxtitle='Luminosity (/pb)', yaxtitlesize=15,\n",
    "               title='Luminosity for era {}'.format(era), titlesize=15,\n",
    "               ymaxfactor=1.2, legendsize=15, opaque_legend=False, ticksize=None,\n",
    "               bkgcolor=thisinfo['physics_flag'], bkgcmap='spring')\n",
    "    fig, ax = plt.subplots(figsize=(18,6))\n",
    "    plot_hists([thisinfo['pileup']],\n",
    "               fig=fig, ax=ax,\n",
    "               colorlist=['b','g'],\n",
    "               labellist=['Pileup'],\n",
    "               xaxtitle='Lumisection', xaxtitlesize=15,\n",
    "               yaxtitle='Pileup', yaxtitlesize=15,\n",
    "               title='Pileup for era {}'.format(era), titlesize=15,\n",
    "               ymaxfactor=1.2, legendsize=15, opaque_legend=False, ticksize=None,\n",
    "               bkgcolor=thisinfo['physics_flag'], bkgcmap='spring')"
   ]
  },
  {
   "cell_type": "code",
   "execution_count": null,
   "id": "82fdaba4",
   "metadata": {},
   "outputs": [],
   "source": [
    "# save to json files\n",
    "import json\n",
    "\n",
    "for era in eradict.keys():\n",
    "    thisinfo = info[era]\n",
    "    outputfile = 'omsdata/omsdata_{}.json'.format(era)\n",
    "    with open(outputfile, 'w') as f:\n",
    "        json.dump(thisinfo, f)"
   ]
  }
 ],
 "metadata": {
  "@webio": {
   "lastCommId": null,
   "lastKernelId": null
  },
  "kernelspec": {
   "display_name": "Python 3",
   "language": "python",
   "name": "python3"
  },
  "language_info": {
   "codemirror_mode": {
    "name": "ipython",
    "version": 3
   },
   "file_extension": ".py",
   "mimetype": "text/x-python",
   "name": "python",
   "nbconvert_exporter": "python",
   "pygments_lexer": "ipython3",
   "version": "3.9.12"
  }
 },
 "nbformat": 4,
 "nbformat_minor": 5
}
