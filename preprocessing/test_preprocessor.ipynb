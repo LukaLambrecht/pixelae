{
 "cells": [
  {
   "cell_type": "code",
   "execution_count": null,
   "id": "49e0b117",
   "metadata": {},
   "outputs": [],
   "source": [
    "# imports\n",
    "\n",
    "import sys\n",
    "import os\n",
    "import numpy as np\n",
    "import pandas as pd\n",
    "import matplotlib.pyplot as plt\n",
    "import importlib\n",
    "sys.path.append('../')\n",
    "import plotting.plottools\n",
    "importlib.reload(plotting.plottools)\n",
    "from plotting.plottools import plot_histogram\n",
    "import preprocessor\n",
    "importlib.reload(preprocessor)\n",
    "from preprocessor import PreProcessor"
   ]
  },
  {
   "cell_type": "code",
   "execution_count": null,
   "id": "561d845d",
   "metadata": {},
   "outputs": [],
   "source": [
    "# get some example histograms\n",
    "\n",
    "fname = '../data/examples/ZeroBias-Run2023C-PromptReco-v1-DQMIO-PixelPhase1-Tracks-PXForward-clusterposition_xy_ontrack_PXDisk_+1.parquet'\n",
    "omsfile = 'omsdata/omsdata_Run2023C-v1.json'\n",
    "df = pd.read_parquet(fname)\n",
    "xbins = df['Xbins'][0]\n",
    "ybins = df['Ybins'][0]\n",
    "nhists = 3\n",
    "hists = np.array([df['histo'][i].reshape(xbins,ybins) for i in range(nhists)])\n",
    "runs = np.array([df['fromrun'][i] for i in range(nhists)])\n",
    "lumis = np.array([df['fromlumi'][i] for i in range(nhists)])\n",
    "print('Shape of hists array: {}'.format(hists.shape))\n",
    "print('Runs: {}'.format(runs))\n",
    "print('Lumis: {}'.format(lumis))"
   ]
  },
  {
   "cell_type": "code",
   "execution_count": null,
   "id": "a769a8b4",
   "metadata": {},
   "outputs": [],
   "source": [
    "# make a PreProcessor\n",
    "\n",
    "prep = PreProcessor(\n",
    "    crop=(slice(20,180), slice(19,179)), # heuristic, turns out to work, but not clear why\n",
    "    time_average_radii={0: 2, 50:5},\n",
    "    rebin_target=(32,32),\n",
    "    omsjson=omsfile,\n",
    "    oms_normalization_attr='pileup'\n",
    ")"
   ]
  },
  {
   "cell_type": "code",
   "execution_count": null,
   "id": "225d3902",
   "metadata": {},
   "outputs": [],
   "source": [
    "# do preprocessing\n",
    "\n",
    "preprocessed_hists = prep.preprocess(hists, runs, lumis)"
   ]
  },
  {
   "cell_type": "code",
   "execution_count": null,
   "id": "3f97af52",
   "metadata": {},
   "outputs": [],
   "source": [
    "# plot raw and preprocessed histograms\n",
    "\n",
    "for i in range(len(hists)):\n",
    "    \n",
    "    fig,axs = plt.subplots(figsize=(12,6), ncols=2)\n",
    "    plot_histogram(hists[i], fig=fig, ax=axs[0])\n",
    "    plot_histogram(preprocessed_hists[i], fig=fig, ax=axs[1])"
   ]
  },
  {
   "cell_type": "code",
   "execution_count": null,
   "id": "f8f6eb52",
   "metadata": {},
   "outputs": [],
   "source": [
    "# timing test with a larger file\n",
    "\n",
    "import time\n",
    "from pyarrow.parquet import ParquetFile\n",
    "import pyarrow as pa\n",
    "\n",
    "fname = '../data/data/ZeroBias-Run2023C-PromptReco-v1-DQMIO-PixelPhase1-Tracks-PXForward-clusterposition_xy_ontrack_PXDisk_+1.parquet'\n",
    "omsfile = 'omsdata/omsdata_Run2023C-v1.json'\n",
    "\n",
    "print('Loading data...')\n",
    "starttime = time.time()\n",
    "nhists = 5000\n",
    "pf = ParquetFile(fname) \n",
    "batch = next(pf.iter_batches(batch_size = nhists)) \n",
    "df = pa.Table.from_batches([batch]).to_pandas() \n",
    "xbins = df['Xbins'][0]\n",
    "ybins = df['Ybins'][0]\n",
    "hists = np.array([df['histo'][i].reshape(xbins,ybins) for i in range(nhists)])\n",
    "runs = np.array([df['fromrun'][i] for i in range(nhists)])\n",
    "lumis = np.array([df['fromlumi'][i] for i in range(nhists)])\n",
    "print('Shape of hists array: {}'.format(hists.shape))\n",
    "\n",
    "print('Preprocessing...')\n",
    "pretime = time.time()\n",
    "preprocessed_hists = prep.preprocess(hists, runs, lumis)\n",
    "posttime = time.time()\n",
    "\n",
    "print('Timing report:')\n",
    "print('Loading data: {:.3f} seconds'.format(pretime - starttime))\n",
    "print('Preprocessing: {:.3f} seconds'.format(posttime - pretime))"
   ]
  },
  {
   "cell_type": "code",
   "execution_count": null,
   "id": "e9b9f60c",
   "metadata": {},
   "outputs": [],
   "source": [
    "# plot some random examples\n",
    "\n",
    "nplots = 5\n",
    "random_indices = np.random.choice(nhists, size=nplots, replace=False)\n",
    "\n",
    "for i in random_indices:\n",
    "    \n",
    "    fig,axs = plt.subplots(figsize=(12,6), ncols=2)\n",
    "    plot_histogram(hists[i], fig=fig, ax=axs[0])\n",
    "    axs[0].text(0.05, 1.05, 'Run: {}, lumisection: {}'.format(runs[i], lumis[i]), transform=axs[0].transAxes, fontsize=12)\n",
    "    plot_histogram(preprocessed_hists[i], fig=fig, ax=axs[1])"
   ]
  },
  {
   "cell_type": "code",
   "execution_count": null,
   "id": "fdb87dca",
   "metadata": {},
   "outputs": [],
   "source": []
  }
 ],
 "metadata": {
  "@webio": {
   "lastCommId": null,
   "lastKernelId": null
  },
  "kernelspec": {
   "display_name": "Python 3",
   "language": "python",
   "name": "python3"
  },
  "language_info": {
   "codemirror_mode": {
    "name": "ipython",
    "version": 3
   },
   "file_extension": ".py",
   "mimetype": "text/x-python",
   "name": "python",
   "nbconvert_exporter": "python",
   "pygments_lexer": "ipython3",
   "version": "3.9.12"
  }
 },
 "nbformat": 4,
 "nbformat_minor": 5
}
