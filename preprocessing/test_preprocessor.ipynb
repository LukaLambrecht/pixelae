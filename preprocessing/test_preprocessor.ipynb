{
 "cells": [
  {
   "cell_type": "code",
   "execution_count": null,
   "id": "49e0b117",
   "metadata": {},
   "outputs": [],
   "source": [
    "# imports\n",
    "\n",
    "import sys\n",
    "import os\n",
    "import numpy as np\n",
    "import pandas as pd\n",
    "import matplotlib.pyplot as plt\n",
    "import importlib\n",
    "sys.path.append('../')\n",
    "import plotting.plottools\n",
    "importlib.reload(plotting.plottools)\n",
    "from plotting.plottools import plot_histogram\n",
    "import preprocessor\n",
    "importlib.reload(preprocessor)\n",
    "from preprocessor import PreProcessor"
   ]
  },
  {
   "cell_type": "code",
   "execution_count": null,
   "id": "561d845d",
   "metadata": {},
   "outputs": [],
   "source": [
    "# get some example histograms\n",
    "\n",
    "fname = '../data/examples/ZeroBias-Run2023C-PromptReco-v1-DQMIO-PixelPhase1-Tracks-PXForward-clusterposition_xy_ontrack_PXDisk_+1.parquet'\n",
    "df = pd.read_parquet(fname)\n",
    "xbins = df['Xbins'][0]\n",
    "ybins = df['Ybins'][0]\n",
    "hists = np.array([df['histo'][i].reshape(xbins,ybins) for i in range(3)])\n",
    "print('Shape of hists array: {}'.format(hists.shape))"
   ]
  },
  {
   "cell_type": "code",
   "execution_count": null,
   "id": "a769a8b4",
   "metadata": {},
   "outputs": [],
   "source": [
    "# make a PreProcessor\n",
    "\n",
    "prep = PreProcessor(\n",
    "    crop=(slice(20,180), slice(20,180)),\n",
    "    n_time_averages=2,\n",
    "    time_average_radius=50,\n",
    "    rebin_target=(40,40)\n",
    ")"
   ]
  },
  {
   "cell_type": "code",
   "execution_count": null,
   "id": "225d3902",
   "metadata": {},
   "outputs": [],
   "source": [
    "# do preprocessing\n",
    "\n",
    "preprocessed_hists = prep.preprocess(hists)"
   ]
  },
  {
   "cell_type": "code",
   "execution_count": null,
   "id": "3f97af52",
   "metadata": {},
   "outputs": [],
   "source": [
    "# plot raw and preprocessed histograms\n",
    "\n",
    "for i in range(len(hists)):\n",
    "    \n",
    "    fig,axs = plt.subplots(figsize=(12,6), ncols=2)\n",
    "    plot_histogram(hists[i], fig=fig, ax=axs[0])\n",
    "    plot_histogram(preprocessed_hists[i], fig=fig, ax=axs[1])"
   ]
  },
  {
   "cell_type": "code",
   "execution_count": null,
   "id": "f8f6eb52",
   "metadata": {},
   "outputs": [],
   "source": []
  }
 ],
 "metadata": {
  "@webio": {
   "lastCommId": null,
   "lastKernelId": null
  },
  "kernelspec": {
   "display_name": "Python 3",
   "language": "python",
   "name": "python3"
  },
  "language_info": {
   "codemirror_mode": {
    "name": "ipython",
    "version": 3
   },
   "file_extension": ".py",
   "mimetype": "text/x-python",
   "name": "python",
   "nbconvert_exporter": "python",
   "pygments_lexer": "ipython3",
   "version": "3.9.12"
  }
 },
 "nbformat": 4,
 "nbformat_minor": 5
}
