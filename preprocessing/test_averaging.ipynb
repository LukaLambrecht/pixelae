{
 "cells": [
  {
   "cell_type": "code",
   "execution_count": null,
   "id": "f65df016",
   "metadata": {},
   "outputs": [],
   "source": [
    "# imports\n",
    "\n",
    "import sys\n",
    "import os\n",
    "import numpy as np\n",
    "import pandas as pd\n",
    "import matplotlib.pyplot as plt\n",
    "import importlib\n",
    "sys.path.append('../')\n",
    "import plotting.plottools\n",
    "importlib.reload(plotting.plottools)\n",
    "from plotting.plottools import plot_histogram\n",
    "import averaging\n",
    "importlib.reload(averaging)\n",
    "from averaging import average_outer_ring\n",
    "from averaging import average_rings"
   ]
  },
  {
   "cell_type": "code",
   "execution_count": null,
   "id": "bc6e741e",
   "metadata": {},
   "outputs": [],
   "source": [
    "# basic tests\n",
    "\n",
    "# initializations\n",
    "size = 40\n",
    "radius = 10\n",
    "a = np.zeros((size,size))\n",
    "\n",
    "# get circular mask\n",
    "axis = np.arange(a.shape[0])\n",
    "center = int(len(axis)/2)-0.5\n",
    "mask = (axis[np.newaxis,:]-center)**2 + (axis[:,np.newaxis]-center)**2 < radius**2\n",
    "\n",
    "# set values inside mask to 1 and plot\n",
    "a[mask] = 1\n",
    "plt.imshow(a)"
   ]
  },
  {
   "cell_type": "code",
   "execution_count": null,
   "id": "03ea7a86",
   "metadata": {},
   "outputs": [],
   "source": [
    "# basic tests for multiple rings\n",
    "\n",
    "size = 40\n",
    "radii = [5, 10, 15]\n",
    "\n",
    "axis = np.arange(size)\n",
    "center = int(len(axis)/2)-0.5\n",
    "rings = {}\n",
    "dist = (axis[np.newaxis,:]-center)**2 + (axis[:,np.newaxis]-center)**2\n",
    "for i in range(len(radii)):\n",
    "    mask = (dist > radii[i]**2)\n",
    "    if i<len(radii)-1: mask = ((mask) & (dist < radii[i+1]**2))\n",
    "    rings[radii[i]] = mask\n",
    "    \n",
    "for ring in rings.values():\n",
    "    plt.figure()\n",
    "    plt.imshow(ring)"
   ]
  },
  {
   "cell_type": "code",
   "execution_count": null,
   "id": "4f88acfe",
   "metadata": {},
   "outputs": [],
   "source": [
    "# get some example histograms\n",
    "\n",
    "fname = '../data/examples/ZeroBias-Run2023C-PromptReco-v1-DQMIO-PixelPhase1-Tracks-PXForward-clusterposition_xy_ontrack_PXDisk_+1.parquet'\n",
    "df = pd.read_parquet(fname)\n",
    "xbins = df['Xbins'][0]\n",
    "ybins = df['Ybins'][0]\n",
    "nhists = 5\n",
    "hists = np.array([df['histo'][i].reshape(xbins,ybins) for i in range(nhists)])\n",
    "runs = np.array([df['fromrun'][i] for i in range(nhists)])\n",
    "lumis = np.array([df['fromlumi'][i] for i in range(nhists)])\n",
    "print('Shape of hists array: {}'.format(hists.shape))\n",
    "print('Runs: {}'.format(runs))\n",
    "print('Lumis: {}'.format(lumis))"
   ]
  },
  {
   "cell_type": "code",
   "execution_count": null,
   "id": "b81836ef",
   "metadata": {},
   "outputs": [],
   "source": [
    "# plot raw data\n",
    "\n",
    "for i, hist in enumerate(hists):\n",
    "    fig, ax = plot_histogram(hist)\n",
    "    ax.text(0.02, 1.02, 'Run: {}, lumi: {}'.format(runs[i], lumis[i]), transform=ax.transAxes, fontsize=12)"
   ]
  },
  {
   "cell_type": "code",
   "execution_count": null,
   "id": "57b046df",
   "metadata": {},
   "outputs": [],
   "source": [
    "# make average of outer rings and plot\n",
    "\n",
    "idx = 1\n",
    "hist = hists[idx]\n",
    "hist = average_outer_ring(hist, hists, radius=50)\n",
    "fig, ax = plot_histogram(hist)\n",
    "ax.text(0.02, 1.02, 'Run: {}, lumi: {}, outer ring averaged'.format(runs[idx], lumis[idx]), transform=ax.transAxes, fontsize=12)"
   ]
  },
  {
   "cell_type": "code",
   "execution_count": null,
   "id": "5348a7d1",
   "metadata": {},
   "outputs": [],
   "source": [
    "# make averages of outer ring with fixed refrence histograms\n",
    "\n",
    "hists_averaged = average_outer_ring(hists, hists, radius=50)\n",
    "for i, hist in enumerate(hists_averaged):\n",
    "    fig, ax = plot_histogram(hist)\n",
    "    ax.text(0.02, 1.02, 'Run: {}, lumi: {}, outer ring averaged'.format(runs[i], lumis[i]), transform=ax.transAxes, fontsize=12)"
   ]
  },
  {
   "cell_type": "code",
   "execution_count": null,
   "id": "f862d6f6",
   "metadata": {},
   "outputs": [],
   "source": [
    "# make averages of outer ring with sliding reference histograms\n",
    "\n",
    "hists_averaged = average_outer_ring(hists, 2, radius=50)\n",
    "for i, hist in enumerate(hists_averaged):\n",
    "    fig, ax = plot_histogram(hist)\n",
    "    ax.text(0.02, 1.02, 'Run: {}, lumi: {}, outer ring averaged'.format(runs[i], lumis[i]), transform=ax.transAxes, fontsize=12)"
   ]
  },
  {
   "cell_type": "code",
   "execution_count": null,
   "id": "a3763244",
   "metadata": {},
   "outputs": [],
   "source": [
    "# make averages of inner and outer ring with sliding reference histograms\n",
    "\n",
    "radii = {0:2, 50: 5}\n",
    "hists_averaged = average_rings(hists, radii)\n",
    "for i, hist in enumerate(hists_averaged):\n",
    "    fig, ax = plot_histogram(hist)\n",
    "    ax.text(0.02, 1.02, 'Run: {}, lumi: {}, averaged'.format(runs[i], lumis[i]), transform=ax.transAxes, fontsize=12)"
   ]
  },
  {
   "cell_type": "code",
   "execution_count": null,
   "id": "1f933fd7",
   "metadata": {},
   "outputs": [],
   "source": []
  }
 ],
 "metadata": {
  "@webio": {
   "lastCommId": null,
   "lastKernelId": null
  },
  "kernelspec": {
   "display_name": "Python 3",
   "language": "python",
   "name": "python3"
  },
  "language_info": {
   "codemirror_mode": {
    "name": "ipython",
    "version": 3
   },
   "file_extension": ".py",
   "mimetype": "text/x-python",
   "name": "python",
   "nbconvert_exporter": "python",
   "pygments_lexer": "ipython3",
   "version": "3.9.12"
  }
 },
 "nbformat": 4,
 "nbformat_minor": 5
}
