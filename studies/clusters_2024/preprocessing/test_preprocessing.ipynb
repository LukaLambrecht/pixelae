{
 "cells": [
  {
   "cell_type": "code",
   "execution_count": null,
   "id": "e5b81608",
   "metadata": {},
   "outputs": [],
   "source": [
    "# imports\n",
    "\n",
    "import os\n",
    "import sys\n",
    "import json\n",
    "import importlib\n",
    "import numpy as np\n",
    "import pandas as pd\n",
    "import matplotlib.pyplot as plt\n",
    "\n",
    "thisdir = os.getcwd()\n",
    "topdir = os.path.abspath(os.path.join(thisdir, '../../../'))\n",
    "sys.path.append(topdir)\n",
    "\n",
    "import tools.iotools as iotools\n",
    "import tools.dftools as dftools\n",
    "import plotting.plottools as plottools\n",
    "\n",
    "from preprocessor import PreProcessor"
   ]
  },
  {
   "cell_type": "code",
   "execution_count": null,
   "id": "37873a3e",
   "metadata": {},
   "outputs": [],
   "source": [
    "# set path to files\n",
    "\n",
    "# settings\n",
    "datadir = '/eos/user/l/llambrec/dialstools-output'\n",
    "year = '2024'\n",
    "eras = {\n",
    "    'A': ['v1'],\n",
    "    'B': ['v1'],\n",
    "    'C': ['v1'],\n",
    "    'D': ['v1'],\n",
    "    'E': ['v1', 'v2'],\n",
    "    'F': ['v1'],\n",
    "    'G': ['v1'],\n",
    "    'H': ['v1'],\n",
    "    'I': ['v1', 'v2'],\n",
    "    'J': ['v1']\n",
    "}\n",
    "dataset = 'ZeroBias'\n",
    "reco = 'PromptReco'\n",
    "mebase = 'PixelPhase1-Phase1_MechanicalView-PXBarrel-clusters_per_SignedModuleCoord_per_SignedLadderCoord_PXLayer_{}'\n",
    "layer = 1\n",
    "me = mebase.format(layer)\n",
    "\n",
    "# find files corresponding to settings\n",
    "files = {}\n",
    "for era, versions in eras.items():\n",
    "    for version in versions:\n",
    "        f = f'{dataset}-Run{year}{era}-{reco}-{version}-DQMIO-{me}.parquet'\n",
    "        f = os.path.join(datadir, f)\n",
    "        files[f'{era}-{version}'] = f\n",
    "\n",
    "# existence check\n",
    "missing = []\n",
    "for f in files.values():\n",
    "    if not os.path.exists(f):\n",
    "        missing.append(f)\n",
    "if len(missing) > 0:\n",
    "    raise Exception(f'The following files do not exist: {missing}')\n",
    "else:\n",
    "    print(f'Found {len(files)} files.')"
   ]
  },
  {
   "cell_type": "code",
   "execution_count": null,
   "id": "48337665",
   "metadata": {},
   "outputs": [],
   "source": [
    "# pick an era and read the corresponding file\n",
    "\n",
    "era = 'B-v1'\n",
    "df = iotools.read_parquet(files[era], verbose=True)\n",
    "mes, runs, lumis = dftools.get_mes(df, xbinscolumn='x_bin', ybinscolumn='y_bin', runcolumn='run_number', lumicolumn='ls_number')\n",
    "print(f'Shape of ME array: {mes.shape}')"
   ]
  },
  {
   "cell_type": "code",
   "execution_count": null,
   "id": "a10da4ce",
   "metadata": {},
   "outputs": [],
   "source": [
    "# load norm json\n",
    "\n",
    "metype = f'PXLayer_{layer}'\n",
    "normfile = f'normdata/normdata_Run2024{era}_{metype}.json'\n",
    "with open(normfile, 'r') as f:\n",
    "    norm_info = json.load(f)\n",
    "    \n",
    "# divide the norm by the number of bins in order to normalize mean instead of sum\n",
    "nbins = mes.shape[1] * mes.shape[2]\n",
    "norm_info['norm'] = [val / nbins for val in norm_info['norm']]"
   ]
  },
  {
   "cell_type": "code",
   "execution_count": null,
   "id": "1c967d1a",
   "metadata": {},
   "outputs": [],
   "source": [
    "# get the average occupancy map\n",
    "\n",
    "metype = f'PXLayer_{layer}'\n",
    "avgmefile = f'normdata/avgme_Run2024{era}_{metype}.npy'\n",
    "avgme = np.load(avgmefile)\n",
    "\n",
    "# make a plot\n",
    "title = me.split('-')[-1]+ '\\n' + f'Era {era} mean'\n",
    "fig, ax = plottools.plot_hist_2d(avgme, figsize=(12,6), title=title, titlesize=15,\n",
    "                xaxtitle=None, xaxtitlesize=None, yaxtitle=None, yaxtitlesize=None,\n",
    "                ticklabelsize=12, colorticklabelsize=12, extent=None, aspect=None, caxrange=None,\n",
    "                docolorbar=True, caxtitle='Number of clusters', caxtitlesize=15, caxtitleoffset=15,\n",
    "                origin='lower')"
   ]
  },
  {
   "cell_type": "code",
   "execution_count": null,
   "id": "740fc384",
   "metadata": {},
   "outputs": [],
   "source": [
    "# make a preprocessor\n",
    "\n",
    "metype = f'PXLayer_{layer}'\n",
    "preprocessor = PreProcessor(metype, global_norm=norm_info, local_norm=avgme)"
   ]
  },
  {
   "cell_type": "code",
   "execution_count": null,
   "id": "92c94647",
   "metadata": {},
   "outputs": [],
   "source": [
    "# do preprocessing\n",
    "\n",
    "mes_preprocessed = preprocessor.preprocess(df)"
   ]
  },
  {
   "cell_type": "code",
   "execution_count": null,
   "id": "7ea1f8cc",
   "metadata": {},
   "outputs": [],
   "source": [
    "# plot some examples\n",
    "\n",
    "random_ids = np.random.choice(np.arange(len(runs)), size=15, replace=False)\n",
    "for random_idx in random_ids:\n",
    "    \n",
    "    run = runs[random_idx]\n",
    "    lumi = lumis[random_idx]\n",
    "    me_orig = mes[random_idx]\n",
    "    me_prep = mes_preprocessed[random_idx]\n",
    "    \n",
    "    fig, axs = plt.subplots(ncols=2, figsize=(12, 6))\n",
    "    fig, axs[0] = plottools.plot_hist_2d(me_orig, fig=fig, ax=axs[0],\n",
    "                   title='Raw', titlesize=15,\n",
    "                   xaxtitle=None, xaxtitlesize=None, yaxtitle=None, yaxtitlesize=None,\n",
    "                   ticklabelsize=12, colorticklabelsize=12, extent=None, aspect=None, caxrange=None,\n",
    "                   docolorbar=True, caxtitle='Number of clusters', caxtitlesize=15, caxtitleoffset=15,\n",
    "                   origin='lower')\n",
    "    fig, axs[1] = plottools.plot_hist_2d(me_prep, fig=fig, ax=axs[1],\n",
    "                   title='Preprocessed', titlesize=15,\n",
    "                   xaxtitle=None, xaxtitlesize=None, yaxtitle=None, yaxtitlesize=None,\n",
    "                   ticklabelsize=12, colorticklabelsize=12, extent=None, aspect=None,\n",
    "                   docolorbar=True, caxtitle='Number of clusters\\n(normalized)', caxrange=(1e-6,2), caxtitlesize=15, caxtitleoffset=30,\n",
    "                   origin='lower')\n",
    "    plt.subplots_adjust(wspace=0.5)\n",
    "    title = me.split('-')[-1] + f', Run {run}, LS {lumi}'\n",
    "    axs[0].text(0.05, 1.2, title, fontsize=15, transform=axs[0].transAxes)"
   ]
  },
  {
   "cell_type": "code",
   "execution_count": null,
   "id": "d749c14d",
   "metadata": {},
   "outputs": [],
   "source": []
  }
 ],
 "metadata": {
  "@webio": {
   "lastCommId": null,
   "lastKernelId": null
  },
  "kernelspec": {
   "display_name": "Python 3",
   "language": "python",
   "name": "python3"
  },
  "language_info": {
   "codemirror_mode": {
    "name": "ipython",
    "version": 3
   },
   "file_extension": ".py",
   "mimetype": "text/x-python",
   "name": "python",
   "nbconvert_exporter": "python",
   "pygments_lexer": "ipython3",
   "version": "3.11.9"
  }
 },
 "nbformat": 4,
 "nbformat_minor": 5
}
