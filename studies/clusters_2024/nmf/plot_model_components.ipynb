{
 "cells": [
  {
   "cell_type": "code",
   "execution_count": null,
   "id": "6a3bc931",
   "metadata": {},
   "outputs": [],
   "source": [
    "# imports\n",
    "\n",
    "import os\n",
    "import sys\n",
    "import json\n",
    "import joblib\n",
    "import importlib\n",
    "import numpy as np\n",
    "import pandas as pd\n",
    "import matplotlib.pyplot as plt\n",
    "\n",
    "thisdir = os.getcwd()\n",
    "topdir = os.path.abspath(os.path.join(thisdir, '../../../'))\n",
    "sys.path.append(topdir)\n",
    "\n",
    "import tools.iotools as iotools\n",
    "import tools.dftools as dftools\n",
    "import plotting.plottools as plottools\n",
    "from studies.clusters_2024.plotting.plot_cluster_occupancy import plot_cluster_occupancy\n",
    "from studies.clusters_2024.nmf.modeldefs.nmf2d import NMF2D"
   ]
  },
  {
   "cell_type": "code",
   "execution_count": null,
   "id": "d2d36577",
   "metadata": {},
   "outputs": [],
   "source": [
    "# define eras and layers to plot\n",
    "\n",
    "eras = [\n",
    "    #'A-v1',\n",
    "    #'B-v1',\n",
    "    'C-v1',\n",
    "    #'D-v1',\n",
    "    #'E-v1',\n",
    "    #'E-v2',\n",
    "    #'F-v1',\n",
    "    #'G-v1',\n",
    "    #'H-v1',\n",
    "    #'I-v1',\n",
    "    #'I-v2',\n",
    "    #'J-v1'\n",
    "]\n",
    "\n",
    "layers = [\n",
    "    'BPix1',\n",
    "    'BPix2',\n",
    "    'BPix3',\n",
    "    'BPix4'\n",
    "]"
   ]
  },
  {
   "cell_type": "code",
   "execution_count": null,
   "id": "f3347055",
   "metadata": {},
   "outputs": [],
   "source": [
    "# load models\n",
    "    \n",
    "# set model directory\n",
    "modeldir = 'output_test'\n",
    "\n",
    "# set path\n",
    "nmf_files = {}\n",
    "for era in eras:\n",
    "    nmf_files[era] = {}\n",
    "    for layer in layers:\n",
    "        nmf_files[era][layer] = os.path.join(modeldir, f'nmf_model_{layer.upper()}_{era}.pkl')\n",
    "    \n",
    "# existence check\n",
    "missing = []\n",
    "for era in eras:\n",
    "    for layer, f in nmf_files[era].items():\n",
    "        if not os.path.exists(f): missing.append(f)\n",
    "    if len(missing) > 0:\n",
    "        raise Exception(f'The following files do not exist: {missing}')\n",
    "    \n",
    "\n",
    "# load models\n",
    "nmfs = {}\n",
    "for era in eras:\n",
    "    nmfs[era] = {}\n",
    "    for layer in layers:\n",
    "        nmf_file = nmf_files[era][layer]\n",
    "        nmf = joblib.load(nmf_file)\n",
    "        nmfs[era][layer] = nmf"
   ]
  },
  {
   "cell_type": "code",
   "execution_count": null,
   "id": "c1c6e00f",
   "metadata": {},
   "outputs": [],
   "source": [
    "# plot model components\n",
    "\n",
    "for era in eras:\n",
    "    for layer in layers:\n",
    "        \n",
    "        C = nmfs[era][layer].components\n",
    "        for idx in range(len(C)):\n",
    "            fig, ax = plot_cluster_occupancy(C[idx],\n",
    "                   xaxtitlesize=12, yaxtitlesize=12,\n",
    "                   ticklabelsize=12, colorticklabelsize=12,\n",
    "                   docolorbar=True, caxtitle='Number of clusters\\n(normalized)',\n",
    "                   caxrange=(1e-6, 2),\n",
    "                   caxtitlesize=15, caxtitleoffset=35)\n",
    "            title = f'NMF component {idx+1}'\n",
    "            ax.text(0.01, 1.05, title, fontsize=15, transform=ax.transAxes)\n",
    "            conditions = f'(2024-{era} {layer} NMF model)'\n",
    "            ax.text(1., 1.05, conditions, fontsize=12, transform=ax.transAxes, ha='right')\n",
    "        plt.show()\n",
    "        plt.close()"
   ]
  },
  {
   "cell_type": "code",
   "execution_count": null,
   "id": "719a8b07",
   "metadata": {},
   "outputs": [],
   "source": []
  }
 ],
 "metadata": {
  "@webio": {
   "lastCommId": null,
   "lastKernelId": null
  },
  "kernelspec": {
   "display_name": "Python 3",
   "language": "python",
   "name": "python3"
  },
  "language_info": {
   "codemirror_mode": {
    "name": "ipython",
    "version": 3
   },
   "file_extension": ".py",
   "mimetype": "text/x-python",
   "name": "python",
   "nbconvert_exporter": "python",
   "pygments_lexer": "ipython3",
   "version": "3.11.9"
  }
 },
 "nbformat": 4,
 "nbformat_minor": 5
}
