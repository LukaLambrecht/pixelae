{
 "cells": [
  {
   "cell_type": "code",
   "execution_count": null,
   "id": "0431e18f",
   "metadata": {},
   "outputs": [],
   "source": [
    "# install converter package\n",
    "# see https://onnx.ai/sklearn-onnx/introduction.html\n",
    "\n",
    "#!pip install --user skl2onnx\n",
    "\n",
    "# after installation, need to restart the session and make sure to tick 'use python packages installed in CERNBox'"
   ]
  },
  {
   "cell_type": "code",
   "execution_count": null,
   "id": "7f08a519",
   "metadata": {},
   "outputs": [],
   "source": [
    "# general imports\n",
    "\n",
    "import numpy as np\n",
    "rng = np.random.default_rng()\n",
    "import matplotlib.pyplot as plt\n",
    "\n",
    "from nmf2d import NMF2D"
   ]
  },
  {
   "cell_type": "code",
   "execution_count": null,
   "id": "8d733d8f",
   "metadata": {},
   "outputs": [],
   "source": [
    "# make some toy data\n",
    "\n",
    "data_shape = (10, 10)\n",
    "n_instances = 10\n",
    "xax = np.linspace(0, 1, num=data_shape[0])\n",
    "y = xax\n",
    "noise = rng.normal(scale=0.2*y, size=(n_instances, *data_shape))\n",
    "X_train = y + noise\n",
    "print(f'Shape of X_train: {X_train.shape}')\n",
    "\n",
    "# make a plot\n",
    "for idx in range(min(5, n_instances)):\n",
    "    fig, ax = plt.subplots()\n",
    "    plot = ax.imshow(X_train[idx])\n",
    "    fig.colorbar(plot)"
   ]
  },
  {
   "cell_type": "code",
   "execution_count": null,
   "id": "9f6269ab",
   "metadata": {},
   "outputs": [],
   "source": [
    "# make an NMF2D model\n",
    "\n",
    "# make NMF\n",
    "nmf = NMF2D(\n",
    "  n_components = 2,\n",
    "  batch_size = 5\n",
    ")\n",
    "\n",
    "# fit to data\n",
    "_ = nmf.fit(X_train)\n",
    "# normalization of the components\n",
    "# (note: appears to be needed to make the onnx output match the native output,\n",
    "#  but try to do more elegantly later)\n",
    "norms = np.linalg.norm(nmf.components, axis=(1,2))\n",
    "nmf.components = np.divide(nmf.components, norms[:,None,None])\n",
    "nmf.nmf.components_ = np.divide(nmf.nmf.components_, norms[:,None])\n",
    "\n",
    "# plot components\n",
    "for i in range(nmf.components.shape[0]):\n",
    "    fig, ax = plt.subplots()\n",
    "    plot = ax.imshow(nmf.components[i])\n",
    "    fig.colorbar(plot)\n",
    "    ax.text(0, 1.02, f'Model component {i+1}', transform=ax.transAxes, ha='left', va='bottom')\n",
    "\n",
    "# get transformed and reverse-transformed data for comparison later\n",
    "X_pred = nmf.predict(X_train)\n",
    "\n",
    "# plot an example\n",
    "fig, axs = plt.subplots(figsize=(8,6), ncols=2)\n",
    "idx = 0\n",
    "plot = axs[0].imshow(X_train[idx])\n",
    "fig.colorbar(plot)\n",
    "axs[0].text(0, 1.02, f'Input', transform=axs[0].transAxes, ha='left', va='bottom')\n",
    "plot = axs[1].imshow(X_pred[idx])\n",
    "fig.colorbar(plot)\n",
    "axs[1].text(0, 1.02, f'Reco', transform=axs[1].transAxes, ha='left', va='bottom')"
   ]
  },
  {
   "cell_type": "code",
   "execution_count": null,
   "id": "64be8a81",
   "metadata": {},
   "outputs": [],
   "source": [
    "# wrap model and register the converter\n",
    "\n",
    "from skl2onnx import update_registered_converter\n",
    "from nmf2d_onnx import NMF2DTransformWrapper\n",
    "from nmf2d_onnx import skl2onnx_shape_calculator\n",
    "from nmf2d_onnx import skl2onnx_converter\n",
    "\n",
    "nmf_wrapped = NMF2DTransformWrapper(nmf)\n",
    "\n",
    "update_registered_converter(\n",
    "    NMF2DTransformWrapper, \"NMF2DTransformWrapper\",\n",
    "    skl2onnx_shape_calculator,\n",
    "    skl2onnx_converter)"
   ]
  },
  {
   "cell_type": "code",
   "execution_count": null,
   "id": "416aa572",
   "metadata": {},
   "outputs": [],
   "source": [
    "# convert model to ONNX\n",
    "\n",
    "from skl2onnx.common.data_types import FloatTensorType\n",
    "from skl2onnx import convert_sklearn\n",
    "\n",
    "initial_type = [\n",
    "    ('input', FloatTensorType([None, *X_train.shape[1:]])),\n",
    "]\n",
    "nmf_onnx = convert_sklearn(nmf_wrapped, initial_types=initial_type)\n",
    "with open('test.onnx', \"wb\") as f:\n",
    "    f.write(nmf_onnx.SerializeToString())"
   ]
  },
  {
   "cell_type": "code",
   "execution_count": null,
   "id": "708f498c",
   "metadata": {},
   "outputs": [],
   "source": [
    "# read ONNX model and run inference\n",
    "\n",
    "import onnxruntime as rt\n",
    "\n",
    "session = rt.InferenceSession(\"test.onnx\", providers=[\"CPUExecutionProvider\"])\n",
    "input_name = session.get_inputs()[0].name\n",
    "label_name = session.get_outputs()[0].name\n",
    "pred_onnx = session.run([label_name], {input_name: X_train.astype(np.float32)})[0]"
   ]
  },
  {
   "cell_type": "code",
   "execution_count": null,
   "id": "60d20515",
   "metadata": {},
   "outputs": [],
   "source": [
    "# compare direct transform with detour via ONNX\n",
    "\n",
    "for idx in range(min(5, n_instances)):\n",
    "    fig, axs = plt.subplots(figsize=(8,3), ncols=3)\n",
    "    plot = axs[0].imshow(X_train[idx])\n",
    "    fig.colorbar(plot)\n",
    "    axs[0].text(0, 1.02, f'Input', transform=axs[0].transAxes, ha='left', va='bottom')\n",
    "    plot = axs[1].imshow(X_pred[idx])\n",
    "    fig.colorbar(plot)\n",
    "    axs[1].text(0, 1.02, f'Reco (sklearn)', transform=axs[1].transAxes, ha='left', va='bottom')\n",
    "    plot = axs[2].imshow(pred_onnx[idx])\n",
    "    fig.colorbar(plot)\n",
    "    axs[2].text(0, 1.02, f'Reco (ONNX)', transform=axs[2].transAxes, ha='left', va='bottom')"
   ]
  },
  {
   "cell_type": "code",
   "execution_count": null,
   "id": "75d6657a",
   "metadata": {},
   "outputs": [],
   "source": []
  }
 ],
 "metadata": {
  "@webio": {
   "lastCommId": null,
   "lastKernelId": null
  },
  "kernelspec": {
   "display_name": "Python 3",
   "language": "python",
   "name": "python3"
  },
  "language_info": {
   "codemirror_mode": {
    "name": "ipython",
    "version": 3
   },
   "file_extension": ".py",
   "mimetype": "text/x-python",
   "name": "python",
   "nbconvert_exporter": "python",
   "pygments_lexer": "ipython3",
   "version": "3.11.9"
  }
 },
 "nbformat": 4,
 "nbformat_minor": 5
}
