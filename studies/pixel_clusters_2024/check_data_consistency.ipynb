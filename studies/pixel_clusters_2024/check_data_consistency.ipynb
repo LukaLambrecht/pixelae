{
 "cells": [
  {
   "cell_type": "code",
   "execution_count": null,
   "id": "dfc98476",
   "metadata": {},
   "outputs": [],
   "source": [
    "# imports\n",
    "\n",
    "import os\n",
    "import sys\n",
    "import importlib\n",
    "import numpy as np\n",
    "import pandas as pd\n",
    "import matplotlib.pyplot as plt\n",
    "\n",
    "thisdir = os.getcwd()\n",
    "topdir = os.path.abspath(os.path.join(thisdir, '../../'))\n",
    "sys.path.append(topdir)\n",
    "\n",
    "import tools.iotools as iotools\n",
    "import tools.dftools as dftools"
   ]
  },
  {
   "cell_type": "code",
   "execution_count": null,
   "id": "e2067e21",
   "metadata": {},
   "outputs": [],
   "source": [
    "# set path to files\n",
    "\n",
    "# settings\n",
    "datadir = '/eos/user/l/llambrec/dialstools-output'\n",
    "year = '2024'\n",
    "eras = {\n",
    "    'A': ['v1'],\n",
    "    'B': ['v1'],\n",
    "    'C': ['v1'],\n",
    "    'D': ['v1'],\n",
    "    'E': ['v1', 'v2'],\n",
    "    'F': ['v1'],\n",
    "    'G': ['v1'],\n",
    "    'H': ['v1'],\n",
    "    'I': ['v1', 'v2'],\n",
    "    'J': ['v1']\n",
    "}\n",
    "dataset = 'ZeroBias'\n",
    "reco = 'PromptReco'\n",
    "mes = [\n",
    "    'PixelPhase1-Phase1_MechanicalView-PXBarrel-clusters_per_SignedModuleCoord_per_SignedLadderCoord_PXLayer_1',\n",
    "    'PixelPhase1-Phase1_MechanicalView-PXBarrel-clusters_per_SignedModuleCoord_per_SignedLadderCoord_PXLayer_2',\n",
    "    'PixelPhase1-Phase1_MechanicalView-PXBarrel-clusters_per_SignedModuleCoord_per_SignedLadderCoord_PXLayer_3',\n",
    "    'PixelPhase1-Phase1_MechanicalView-PXBarrel-clusters_per_SignedModuleCoord_per_SignedLadderCoord_PXLayer_4'\n",
    "]\n",
    "\n",
    "# find files corresponding to settings\n",
    "files = {}\n",
    "nfiles = 0\n",
    "for era, versions in eras.items():\n",
    "    for version in versions:\n",
    "        files[f'{era}-{version}'] = {}\n",
    "        for me in mes:\n",
    "            f = f'{dataset}-Run{year}{era}-{reco}-{version}-DQMIO-{me}.parquet'\n",
    "            f = os.path.join(datadir, f)\n",
    "            files[f'{era}-{version}'][me] = f\n",
    "            nfiles += 1\n",
    "\n",
    "# existence check\n",
    "missing = []\n",
    "for era in files.keys():\n",
    "    for me in files[era].keys():\n",
    "        f = files[era][me]\n",
    "        if not os.path.exists(f): missing.append(f)\n",
    "if len(missing) > 0:\n",
    "    raise Exception(f'The following files do not exist: {missing}')\n",
    "else:\n",
    "    print(f'Found {nfiles} files.')"
   ]
  },
  {
   "cell_type": "code",
   "execution_count": null,
   "id": "9950839a",
   "metadata": {},
   "outputs": [],
   "source": [
    "# print number of runs and lumisections\n",
    "\n",
    "print('Finding number of runs and lumisections:')\n",
    "for era in files.keys():\n",
    "    for me in files[era].keys():\n",
    "        f = files[era][me]\n",
    "        df = iotools.read_parquet(f, columns=['run_number', 'ls_number'])\n",
    "        run_numbers = dftools.get_runs(df, runcolumn='run_number')\n",
    "        firstrun = run_numbers[0]\n",
    "        lastrun = run_numbers[-1]\n",
    "        nruns = len(run_numbers)\n",
    "        nlumis = len(dftools.get_ls(df, lumicolumn='ls_number'))\n",
    "        print(f'  - {era}: {nruns} runs, {nlumis} lumisections (run {firstrun} - {lastrun})')"
   ]
  }
 ],
 "metadata": {
  "@webio": {
   "lastCommId": null,
   "lastKernelId": null
  },
  "kernelspec": {
   "display_name": "Python 3",
   "language": "python",
   "name": "python3"
  },
  "language_info": {
   "codemirror_mode": {
    "name": "ipython",
    "version": 3
   },
   "file_extension": ".py",
   "mimetype": "text/x-python",
   "name": "python",
   "nbconvert_exporter": "python",
   "pygments_lexer": "ipython3",
   "version": "3.11.9"
  }
 },
 "nbformat": 4,
 "nbformat_minor": 5
}
