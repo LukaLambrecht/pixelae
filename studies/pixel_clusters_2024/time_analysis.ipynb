{
 "cells": [
  {
   "cell_type": "markdown",
   "id": "8a9a677e",
   "metadata": {},
   "source": [
    "Investigate time structure of numerous holes and similar anomalies observed in era C and following."
   ]
  },
  {
   "cell_type": "code",
   "execution_count": null,
   "id": "64062d44",
   "metadata": {},
   "outputs": [],
   "source": [
    "# imports\n",
    "\n",
    "import os\n",
    "import sys\n",
    "import json\n",
    "import joblib\n",
    "import importlib\n",
    "import numpy as np\n",
    "import pandas as pd\n",
    "import matplotlib.pyplot as plt\n",
    "\n",
    "thisdir = os.getcwd()\n",
    "topdir = os.path.abspath(os.path.join(thisdir, '../../'))\n",
    "sys.path.append(topdir)\n",
    "\n",
    "import tools.iotools as iotools\n",
    "import tools.dftools as dftools\n",
    "import plotting.plottools as plottools\n",
    "\n",
    "from studies.clusters_2024.preprocessing.preprocessor import make_default_preprocessor"
   ]
  },
  {
   "cell_type": "code",
   "execution_count": null,
   "id": "5f2473a4",
   "metadata": {},
   "outputs": [],
   "source": [
    "# set path to files\n",
    "\n",
    "# settings\n",
    "datadir = '/eos/user/l/llambrec/dialstools-output'\n",
    "year = '2024'\n",
    "eras = {\n",
    "    'A': ['v1'],\n",
    "    'B': ['v1'],\n",
    "    'C': ['v1'],\n",
    "    'D': ['v1'],\n",
    "    'E': ['v1', 'v2'],\n",
    "    'F': ['v1'],\n",
    "    'G': ['v1'],\n",
    "    'H': ['v1'],\n",
    "    'I': ['v1', 'v2'],\n",
    "    'J': ['v1']\n",
    "}\n",
    "dataset = 'ZeroBias'\n",
    "reco = 'PromptReco'\n",
    "mebase = 'PixelPhase1-Phase1_MechanicalView-PXBarrel-clusters_per_SignedModuleCoord_per_SignedLadderCoord_PXLayer_{}'\n",
    "layer = 1\n",
    "me = mebase.format(layer)\n",
    "\n",
    "# find files corresponding to settings\n",
    "files = {}\n",
    "for era, versions in eras.items():\n",
    "    for version in versions:\n",
    "        f = f'{dataset}-Run{year}{era}-{reco}-{version}-DQMIO-{me}.parquet'\n",
    "        f = os.path.join(datadir, f)\n",
    "        files[f'{era}-{version}'] = f\n",
    "\n",
    "# existence check\n",
    "missing = []\n",
    "for f in files.values():\n",
    "    if not os.path.exists(f):\n",
    "        missing.append(f)\n",
    "if len(missing) > 0:\n",
    "    raise Exception(f'The following files do not exist: {missing}')\n",
    "else:\n",
    "    print(f'Found {len(files)} files.')"
   ]
  },
  {
   "cell_type": "code",
   "execution_count": null,
   "id": "5a160935",
   "metadata": {},
   "outputs": [],
   "source": [
    "# pick a batch and read the corresponding data\n",
    "\n",
    "era = 'C-v1'\n",
    "batch_size = 50000\n",
    "first_batch = 0\n",
    "last_batch = 0\n",
    "\n",
    "# load dataframe\n",
    "df = iotools.read_parquet(files[era], verbose=True, batch_size=batch_size, first_batch=first_batch, last_batch=last_batch)\n",
    "ndf = len(df)\n",
    "\n",
    "# do filtering\n",
    "df = df[df['entries'] > 0.5e6]\n",
    "print(f'Found {len(df)} / {ndf} instances passing filters.')"
   ]
  },
  {
   "cell_type": "code",
   "execution_count": null,
   "id": "5d10fda8",
   "metadata": {},
   "outputs": [],
   "source": [
    "# do preprocessing\n",
    "\n",
    "preprocessor = make_default_preprocessor(era, layer)\n",
    "mes = preprocessor.preprocess(df)\n",
    "runs = df['run_number'].values\n",
    "lumis = df['ls_number'].values\n",
    "\n",
    "# alternative option: without preprocessing\n",
    "#mes, runs, lumis = dftools.get_mes(df, xbinscolumn='x_bin', ybinscolumn='y_bin', runcolumn='run_number', lumicolumn='ls_number')\n",
    "\n",
    "# printouts for checking\n",
    "print(f'Shape of ME array: {mes.shape}')"
   ]
  },
  {
   "cell_type": "code",
   "execution_count": null,
   "id": "0e651273",
   "metadata": {},
   "outputs": [],
   "source": [
    "# count zeros per bin\n",
    "\n",
    "nzeros = np.count_nonzero(mes==0, axis=0)\n",
    "zerofrac = nzeros / len(mes)"
   ]
  },
  {
   "cell_type": "code",
   "execution_count": null,
   "id": "8c97c19b",
   "metadata": {},
   "outputs": [],
   "source": [
    "# plot\n",
    "\n",
    "fig, ax = plottools.plot_hist_2d(zerofrac,\n",
    "            title='Fraction of lumisections empty', titlesize=15,\n",
    "            xaxtitle=None, xaxtitlesize=None, yaxtitle=None, yaxtitlesize=None,\n",
    "            ticklabelsize=12, colorticklabelsize=12, extent=None, aspect=None,\n",
    "            docolorbar=True, caxtitle='Fraction of lumisections',\n",
    "            caxrange=(0, 1),\n",
    "            caxtitlesize=15, caxtitleoffset=30,\n",
    "            origin='lower')\n",
    "title = me.split('-')[-1]\n",
    "ax.text(0.01, 1.3, title, fontsize=15, transform=ax.transAxes)"
   ]
  },
  {
   "cell_type": "code",
   "execution_count": null,
   "id": "c2d4aa89",
   "metadata": {},
   "outputs": [],
   "source": [
    "# plot time evolution of occupancy for particular bins\n",
    "\n",
    "yidx = 3\n",
    "xidx = 19\n",
    "\n",
    "fig, ax = plt.subplots(figsize=(18,6))\n",
    "xax = np.arange(len(mes))\n",
    "data = mes[:, yidx, xidx]\n",
    "ax.plot(xax, data, color='b')\n",
    "ax.set_ylim(-0.1, 2)\n",
    "ax.axhline(y=0, color='grey', linestyle='dashed')\n",
    "ax.set_xlabel('Lumisection', fontsize=15)\n",
    "ax.set_ylabel('Normalized occupancy', fontsize=15)\n",
    "\n",
    "# zoom in\n",
    "#ax.set_xlim(19400, 19420)"
   ]
  },
  {
   "cell_type": "code",
   "execution_count": null,
   "id": "85462d97",
   "metadata": {},
   "outputs": [],
   "source": []
  }
 ],
 "metadata": {
  "@webio": {
   "lastCommId": null,
   "lastKernelId": null
  },
  "kernelspec": {
   "display_name": "Python 3",
   "language": "python",
   "name": "python3"
  },
  "language_info": {
   "codemirror_mode": {
    "name": "ipython",
    "version": 3
   },
   "file_extension": ".py",
   "mimetype": "text/x-python",
   "name": "python",
   "nbconvert_exporter": "python",
   "pygments_lexer": "ipython3",
   "version": "3.11.9"
  }
 },
 "nbformat": 4,
 "nbformat_minor": 5
}
