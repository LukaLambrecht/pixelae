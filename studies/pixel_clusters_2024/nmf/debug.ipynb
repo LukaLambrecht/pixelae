{
 "cells": [
  {
   "cell_type": "code",
   "execution_count": null,
   "id": "c0f72c7e",
   "metadata": {},
   "outputs": [],
   "source": [
    "import numpy as np\n",
    "import matplotlib.pyplot as plt"
   ]
  },
  {
   "cell_type": "code",
   "execution_count": null,
   "id": "a12c3d9b",
   "metadata": {},
   "outputs": [],
   "source": [
    "dynamic_mask = np.load('dynamic_loss_BPix2.npy')\n",
    "print(dynamic_mask.shape)\n",
    "static_mask = np.load('static_loss_BPix2.npy')\n",
    "print(static_mask.shape)\n",
    "dynamic_mask_rebinned = np.load('dynamic_loss_rebinned_BPix2.npy')\n",
    "print(dynamic_mask_rebinned.shape)\n",
    "static_mask_rebinned = np.load('static_loss_rebinned_BPix2.npy')\n",
    "print(static_mask_rebinned.shape)\n",
    "losses_combined = np.load('losses_combined.npy')\n",
    "print(losses_combined.shape)\n",
    "static_loss_combined = np.load('static_loss_combined.npy')\n",
    "dynamic_loss_combined = np.load('dynamic_loss_combined.npy')\n",
    "run_number = np.load('run_number.npy')\n",
    "ls_number = np.load('ls_number.npy')\n",
    "\n",
    "final = ((losses_combined >= 2) & (losses_combined > (static_loss_combined + dynamic_loss_combined))).astype(int)"
   ]
  },
  {
   "cell_type": "code",
   "execution_count": null,
   "id": "c4e9aa5e",
   "metadata": {},
   "outputs": [],
   "source": [
    "for idx in [117]:\n",
    "    print(run_number[idx], ' ', ls_number[idx])\n",
    "    fig, axs = plt.subplots(ncols=2, figsize=(12, 6))\n",
    "    axs[0].imshow(static_mask[0], origin='lower', vmin=0, vmax=1)\n",
    "    axs[1].imshow(dynamic_mask[idx], origin='lower', vmin=0, vmax=1)\n",
    "    fig, axs = plt.subplots(ncols=2, figsize=(12, 6))\n",
    "    axs[0].imshow(static_mask_rebinned[0], origin='lower', vmin=0, vmax=1)\n",
    "    axs[1].imshow(dynamic_mask_rebinned[idx], origin='lower', vmin=0, vmax=1)\n",
    "    fig, axs = plt.subplots(ncols=4, figsize=(24, 6))\n",
    "    axs[0].imshow(losses_combined[idx], origin='lower', vmin=0, vmax=4)\n",
    "    axs[1].imshow(static_loss_combined[idx], origin='lower', vmin=0, vmax=4)\n",
    "    axs[2].imshow(dynamic_loss_combined[idx], origin='lower', vmin=0, vmax=4)\n",
    "    axs[3].imshow(final[idx], origin='lower', vmin=0, vmax=1)\n",
    "    plt.show()"
   ]
  },
  {
   "cell_type": "code",
   "execution_count": null,
   "id": "0c40da94",
   "metadata": {},
   "outputs": [],
   "source": []
  }
 ],
 "metadata": {
  "@webio": {
   "lastCommId": null,
   "lastKernelId": null
  },
  "kernelspec": {
   "display_name": "Python 3",
   "language": "python",
   "name": "python3"
  },
  "language_info": {
   "codemirror_mode": {
    "name": "ipython",
    "version": 3
   },
   "file_extension": ".py",
   "mimetype": "text/x-python",
   "name": "python",
   "nbconvert_exporter": "python",
   "pygments_lexer": "ipython3",
   "version": "3.11.9"
  }
 },
 "nbformat": 4,
 "nbformat_minor": 5
}
