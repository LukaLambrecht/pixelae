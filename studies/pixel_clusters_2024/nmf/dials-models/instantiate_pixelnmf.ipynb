{
 "cells": [
  {
   "cell_type": "code",
   "execution_count": null,
   "id": "e7215116",
   "metadata": {},
   "outputs": [],
   "source": [
    "# import external modules\n",
    "import os\n",
    "import sys\n",
    "import json\n",
    "import copy\n",
    "import joblib\n",
    "import numpy as np\n",
    "import matplotlib.pyplot as plt\n",
    "import importlib\n",
    "\n",
    "# import PixelNMF\n",
    "thisdir = os.getcwd()\n",
    "mlserverdir = os.path.join(thisdir, 'mlserver-model')\n",
    "sys.path.append(mlserverdir)\n",
    "from pixelnmf import PixelNMF\n",
    "\n",
    "# import NMF2D\n",
    "# this is needed to convert the NMF models to the local NMF2D definition,\n",
    "# rather than the NMF2D class defined elsewhere in this repository (with unwanted dependencies)\n",
    "from nmf2d import NMF2D"
   ]
  },
  {
   "cell_type": "code",
   "execution_count": null,
   "id": "696ade33",
   "metadata": {},
   "outputs": [],
   "source": [
    "# set monitoring element names\n",
    "# todo: better distinction between names and short tags\n",
    "# update: skip BPix1 because too much degraded (since 2025F).\n",
    "\n",
    "#menames = ['BPix1', 'BPix2', 'BPix3', 'BPix4']\n",
    "menames = ['BPix2', 'BPix3', 'BPix4']"
   ]
  },
  {
   "cell_type": "code",
   "execution_count": null,
   "id": "84eea270",
   "metadata": {},
   "outputs": [],
   "source": [
    "# set path to nmf model files\n",
    "\n",
    "modeldir = '../output_20250714_consolidation/models'\n",
    "\n",
    "# set path\n",
    "nmf_files = {}\n",
    "for mename in menames: nmf_files[mename] = os.path.abspath(os.path.join(modeldir, f'nmf_model_{mename.upper()}_C-v1.pkl'))\n",
    "    \n",
    "# existence check\n",
    "missing = []\n",
    "for mename, f in nmf_files.items():\n",
    "    if not os.path.exists(f): missing.append(f)\n",
    "if len(missing) > 0:\n",
    "    raise Exception(f'The following files do not exist: {missing}')\n",
    "else:\n",
    "    print(json.dumps(nmf_files, indent=2))"
   ]
  },
  {
   "cell_type": "code",
   "execution_count": null,
   "id": "5420d0fa",
   "metadata": {},
   "outputs": [],
   "source": [
    "# load nmf models\n",
    "\n",
    "# note: these models were stored within a specific context, that apparently needs to be imported here in order to be able to load them...\n",
    "topdir = os.path.abspath(os.path.join(thisdir, '../../../..'))\n",
    "sys.path.append(topdir)\n",
    "\n",
    "nmf_models = {}\n",
    "for mename in menames:\n",
    "    model = joblib.load(nmf_files[mename])\n",
    "    nmf_models[mename] = NMF2D.from_other(model)"
   ]
  },
  {
   "cell_type": "code",
   "execution_count": null,
   "id": "36249d4f",
   "metadata": {},
   "outputs": [],
   "source": [
    "# make local norms\n",
    "\n",
    "normdata_dir = os.path.join('../../preprocessing/normdata')\n",
    "\n",
    "# set path\n",
    "local_norm_files = {}\n",
    "for mename in menames:\n",
    "    metag = f'PXLayer_{mename[-1]}'\n",
    "    local_norm_files[mename] = os.path.join(normdata_dir, f'avgme_Run2025B-v1_{metag}.npy')\n",
    "print(json.dumps(local_norm_files, indent=2))\n",
    "    \n",
    "# load\n",
    "local_norms = {}\n",
    "for mename in menames:\n",
    "    local_norms[mename] = np.load(local_norm_files[mename])"
   ]
  },
  {
   "cell_type": "code",
   "execution_count": null,
   "id": "051a8101",
   "metadata": {},
   "outputs": [],
   "source": [
    "# make loss masks\n",
    "\n",
    "# set path\n",
    "loss_masking_files = {}\n",
    "for mename in menames:\n",
    "    metag = f'PXLayer_{mename[-1]}'\n",
    "    zerofrac_file = os.path.join(normdata_dir, f'zerofrac_Run2025B-v1_{metag}.npy')\n",
    "    loss_masking_files[mename] = zerofrac_file\n",
    "print(json.dumps(loss_masking_files, indent=2))\n",
    "                                 \n",
    "# load\n",
    "loss_masks = {}\n",
    "for mename in menames:\n",
    "    loss_masks[mename] = np.load(loss_masking_files[mename])\n",
    "    loss_masks[mename] = (loss_masks[mename] < 0.9).astype(bool)"
   ]
  },
  {
   "cell_type": "code",
   "execution_count": null,
   "id": "210f4410",
   "metadata": {},
   "outputs": [],
   "source": [
    "# make a PixelNMF instance\n",
    "\n",
    "pnmf = PixelNMF(nmf_models, local_norms=local_norms, loss_masks=loss_masks)"
   ]
  },
  {
   "cell_type": "code",
   "execution_count": null,
   "id": "47d89981",
   "metadata": {},
   "outputs": [],
   "source": [
    "print(pnmf.nmfs)"
   ]
  },
  {
   "cell_type": "code",
   "execution_count": null,
   "id": "1b494ec0",
   "metadata": {},
   "outputs": [],
   "source": [
    "# store to joblib file\n",
    "\n",
    "joblib.dump(pnmf, 'mlserver-model/pixelnmf.joblib')"
   ]
  },
  {
   "cell_type": "code",
   "execution_count": null,
   "id": "c42ebfb5",
   "metadata": {},
   "outputs": [],
   "source": []
  }
 ],
 "metadata": {
  "@webio": {
   "lastCommId": null,
   "lastKernelId": null
  },
  "kernelspec": {
   "display_name": "Python 3",
   "language": "python",
   "name": "python3"
  },
  "language_info": {
   "codemirror_mode": {
    "name": "ipython",
    "version": 3
   },
   "file_extension": ".py",
   "mimetype": "text/x-python",
   "name": "python",
   "nbconvert_exporter": "python",
   "pygments_lexer": "ipython3",
   "version": "3.11.9"
  }
 },
 "nbformat": 4,
 "nbformat_minor": 5
}
