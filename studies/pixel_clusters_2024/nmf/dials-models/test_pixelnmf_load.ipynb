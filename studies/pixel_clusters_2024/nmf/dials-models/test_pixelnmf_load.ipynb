{
 "cells": [
  {
   "cell_type": "code",
   "execution_count": null,
   "id": "e7215116",
   "metadata": {},
   "outputs": [],
   "source": [
    "# import external modules\n",
    "import os\n",
    "import sys\n",
    "import json\n",
    "import joblib\n",
    "\n",
    "# import PixelNMF\n",
    "thisdir = os.getcwd()\n",
    "mlserverdir = os.path.join(thisdir, 'mlserver-model')\n",
    "sys.path.append(mlserverdir)\n",
    "from pixelnmf import PixelNMF"
   ]
  },
  {
   "cell_type": "code",
   "execution_count": null,
   "id": "210f4410",
   "metadata": {},
   "outputs": [],
   "source": [
    "# load a PixelNMF instance\n",
    "\n",
    "pnmf = joblib.load('mlserver-model/pixelnmf.joblib')\n",
    "print(pnmf)\n",
    "print(pnmf.nmfs)"
   ]
  },
  {
   "cell_type": "code",
   "execution_count": null,
   "id": "9bfade24",
   "metadata": {},
   "outputs": [],
   "source": []
  }
 ],
 "metadata": {
  "@webio": {
   "lastCommId": null,
   "lastKernelId": null
  },
  "kernelspec": {
   "display_name": "Python 3",
   "language": "python",
   "name": "python3"
  },
  "language_info": {
   "codemirror_mode": {
    "name": "ipython",
    "version": 3
   },
   "file_extension": ".py",
   "mimetype": "text/x-python",
   "name": "python",
   "nbconvert_exporter": "python",
   "pygments_lexer": "ipython3",
   "version": "3.11.9"
  }
 },
 "nbformat": 4,
 "nbformat_minor": 5
}
