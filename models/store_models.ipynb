{
 "cells": [
  {
   "cell_type": "code",
   "execution_count": 6,
   "id": "37605529",
   "metadata": {},
   "outputs": [],
   "source": [
    "# import models and store them as keras files for easier loading\n",
    "import importlib"
   ]
  },
  {
   "cell_type": "code",
   "execution_count": 7,
   "id": "4434b44f",
   "metadata": {},
   "outputs": [],
   "source": [
    "# models for cluster position in xy coordinates in pixel disks\n",
    "import modeldefs_clusterposition\n",
    "importlib.reload(modeldefs_clusterposition)\n",
    "model = modeldefs_clusterposition.model_clusterposition_pxdisks_mwe((32, 32, 1))\n",
    "model.save('models/model_clusterposition_pxdisks_mwe.keras')"
   ]
  },
  {
   "cell_type": "code",
   "execution_count": 8,
   "id": "464c5978",
   "metadata": {},
   "outputs": [],
   "source": [
    "# models for cluster occupancy for pixel layers and rings\n",
    "import modeldefs_clusters\n",
    "importlib.reload(modeldefs_clusters)\n",
    "model = modeldefs_clusters.model_clusters_pxlayers_test((64, 24, 1))\n",
    "model.save('models/model_clusters_pxlayers_test.keras')\n",
    "model = modeldefs_clusters.model_clusters_pxrings_test((48, 88, 1))\n",
    "model.save('models/model_clusters_pxrings_test.keras')"
   ]
  },
  {
   "cell_type": "code",
   "execution_count": null,
   "id": "dc1fb9f1",
   "metadata": {},
   "outputs": [],
   "source": []
  }
 ],
 "metadata": {
  "@webio": {
   "lastCommId": null,
   "lastKernelId": null
  },
  "kernelspec": {
   "display_name": "Python 3",
   "language": "python",
   "name": "python3"
  },
  "language_info": {
   "codemirror_mode": {
    "name": "ipython",
    "version": 3
   },
   "file_extension": ".py",
   "mimetype": "text/x-python",
   "name": "python",
   "nbconvert_exporter": "python",
   "pygments_lexer": "ipython3",
   "version": "3.9.12"
  }
 },
 "nbformat": 4,
 "nbformat_minor": 5
}
