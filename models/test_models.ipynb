{
 "cells": [
  {
   "cell_type": "code",
   "execution_count": null,
   "id": "0548737a",
   "metadata": {},
   "outputs": [],
   "source": [
    "# imports\n",
    "\n",
    "# external modules\n",
    "import sys\n",
    "import os\n",
    "import time\n",
    "import numpy as np\n",
    "import importlib\n",
    "\n",
    "# local modules\n",
    "import modeldefs\n",
    "importlib.reload(modeldefs)"
   ]
  },
  {
   "cell_type": "code",
   "execution_count": null,
   "id": "7d9f9274",
   "metadata": {},
   "outputs": [],
   "source": [
    "# syntax test\n",
    "\n",
    "input_shape = (32, 32, 1)\n",
    "data = np.random.rand(1, input_shape[0], input_shape[1])\n",
    "model = modeldefs.model_dummy(input_shape)\n",
    "\n",
    "pred = model.predict(data)\n",
    "print(data.shape)\n",
    "print(pred.shape)\n",
    "print(model.summary())"
   ]
  },
  {
   "cell_type": "code",
   "execution_count": null,
   "id": "5db86fe4",
   "metadata": {},
   "outputs": [],
   "source": [
    "# timing test\n",
    "\n",
    "# make dummy data\n",
    "input_shape = (32, 32, 1)\n",
    "ndata = 1000\n",
    "data = np.random.rand(ndata, input_shape[0], input_shape[1])\n",
    "\n",
    "# make model and training settings\n",
    "model = modeldefs.model_dummy(input_shape)\n",
    "loss = 'mse'\n",
    "optimizer = 'adam'\n",
    "batch_size = 32\n",
    "epochs = 20\n",
    "\n",
    "# compile model\n",
    "model.compile(\n",
    "  loss=loss,\n",
    "  optimizer=optimizer\n",
    ")\n",
    "\n",
    "# do training\n",
    "starttime = time.time()\n",
    "history = model.fit(\n",
    "    data, data,\n",
    "    batch_size=batch_size,\n",
    "    epochs=epochs,\n",
    "    verbose=True,\n",
    "    shuffle=True\n",
    ")\n",
    "stoptime = time.time()\n",
    "\n",
    "# write report\n",
    "print('Training time for {} instances and {} epochs:'.format(ndata, epochs))\n",
    "print('{:.1f} s'.format(stoptime - starttime))"
   ]
  },
  {
   "cell_type": "code",
   "execution_count": null,
   "id": "c1be3b6e",
   "metadata": {},
   "outputs": [],
   "source": []
  }
 ],
 "metadata": {
  "@webio": {
   "lastCommId": null,
   "lastKernelId": null
  },
  "kernelspec": {
   "display_name": "Python 3",
   "language": "python",
   "name": "python3"
  },
  "language_info": {
   "codemirror_mode": {
    "name": "ipython",
    "version": 3
   },
   "file_extension": ".py",
   "mimetype": "text/x-python",
   "name": "python",
   "nbconvert_exporter": "python",
   "pygments_lexer": "ipython3",
   "version": "3.9.12"
  }
 },
 "nbformat": 4,
 "nbformat_minor": 5
}
